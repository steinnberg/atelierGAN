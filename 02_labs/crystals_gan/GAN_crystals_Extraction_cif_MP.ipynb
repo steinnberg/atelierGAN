{
 "cells": [
  {
   "cell_type": "code",
   "execution_count": 3,
   "id": "ac3e542e",
   "metadata": {},
   "outputs": [
    {
     "name": "stdout",
     "output_type": "stream",
     "text": [
      "Requirement already satisfied: pymatgen in c:\\users\\kered\\gan_mastery\\.venv\\lib\\site-packages (2023.8.10)\n",
      "Requirement already satisfied: mp-api in c:\\users\\kered\\gan_mastery\\.venv\\lib\\site-packages (0.35.1)\n",
      "Requirement already satisfied: matplotlib>=1.5 in c:\\users\\kered\\gan_mastery\\.venv\\lib\\site-packages (from pymatgen) (3.7.5)\n",
      "Requirement already satisfied: monty>=3.0.2 in c:\\users\\kered\\gan_mastery\\.venv\\lib\\site-packages (from pymatgen) (2023.9.25)\n",
      "Requirement already satisfied: networkx>=2.2 in c:\\users\\kered\\gan_mastery\\.venv\\lib\\site-packages (from pymatgen) (3.1)\n",
      "Requirement already satisfied: numpy>=1.20.1 in c:\\users\\kered\\gan_mastery\\.venv\\lib\\site-packages (from pymatgen) (1.24.4)\n",
      "Requirement already satisfied: palettable>=3.1.1 in c:\\users\\kered\\gan_mastery\\.venv\\lib\\site-packages (from pymatgen) (3.3.3)\n",
      "Requirement already satisfied: pandas in c:\\users\\kered\\gan_mastery\\.venv\\lib\\site-packages (from pymatgen) (2.0.3)\n",
      "Requirement already satisfied: plotly>=4.5.0 in c:\\users\\kered\\gan_mastery\\.venv\\lib\\site-packages (from pymatgen) (6.0.1)\n",
      "Requirement already satisfied: pybtex in c:\\users\\kered\\gan_mastery\\.venv\\lib\\site-packages (from pymatgen) (0.24.0)\n",
      "Requirement already satisfied: pydantic<2.0.0 in c:\\users\\kered\\gan_mastery\\.venv\\lib\\site-packages (from pymatgen) (1.10.22)\n",
      "Requirement already satisfied: requests in c:\\users\\kered\\gan_mastery\\.venv\\lib\\site-packages (from pymatgen) (2.32.3)\n",
      "Requirement already satisfied: ruamel.yaml>=0.17.0 in c:\\users\\kered\\gan_mastery\\.venv\\lib\\site-packages (from pymatgen) (0.18.10)\n",
      "Requirement already satisfied: scipy>=1.5.0 in c:\\users\\kered\\gan_mastery\\.venv\\lib\\site-packages (from pymatgen) (1.10.1)\n",
      "Requirement already satisfied: spglib>=2.0.2 in c:\\users\\kered\\gan_mastery\\.venv\\lib\\site-packages (from pymatgen) (2.4.0)\n",
      "Requirement already satisfied: sympy in c:\\users\\kered\\gan_mastery\\.venv\\lib\\site-packages (from pymatgen) (1.13.3)\n",
      "Requirement already satisfied: tabulate in c:\\users\\kered\\gan_mastery\\.venv\\lib\\site-packages (from pymatgen) (0.9.0)\n",
      "Requirement already satisfied: tqdm in c:\\users\\kered\\gan_mastery\\.venv\\lib\\site-packages (from pymatgen) (4.67.1)\n",
      "Requirement already satisfied: uncertainties>=3.1.4 in c:\\users\\kered\\gan_mastery\\.venv\\lib\\site-packages (from pymatgen) (3.2.3)\n",
      "Requirement already satisfied: joblib in c:\\users\\kered\\gan_mastery\\.venv\\lib\\site-packages (from pymatgen) (1.4.2)\n",
      "Requirement already satisfied: setuptools in c:\\users\\kered\\gan_mastery\\.venv\\lib\\site-packages (from mp-api) (41.2.0)\n",
      "Requirement already satisfied: msgpack in c:\\users\\kered\\gan_mastery\\.venv\\lib\\site-packages (from mp-api) (1.1.0)\n",
      "Requirement already satisfied: typing-extensions>=3.7.4.1 in c:\\users\\kered\\gan_mastery\\.venv\\lib\\site-packages (from mp-api) (4.13.1)\n",
      "Requirement already satisfied: emmet-core>=0.54.0 in c:\\users\\kered\\gan_mastery\\.venv\\lib\\site-packages (from mp-api) (0.68.0)\n",
      "Requirement already satisfied: contourpy>=1.0.1 in c:\\users\\kered\\gan_mastery\\.venv\\lib\\site-packages (from matplotlib>=1.5->pymatgen) (1.1.1)\n",
      "Requirement already satisfied: cycler>=0.10 in c:\\users\\kered\\gan_mastery\\.venv\\lib\\site-packages (from matplotlib>=1.5->pymatgen) (0.12.1)\n",
      "Requirement already satisfied: fonttools>=4.22.0 in c:\\users\\kered\\gan_mastery\\.venv\\lib\\site-packages (from matplotlib>=1.5->pymatgen) (4.57.0)\n",
      "Requirement already satisfied: kiwisolver>=1.0.1 in c:\\users\\kered\\gan_mastery\\.venv\\lib\\site-packages (from matplotlib>=1.5->pymatgen) (1.4.7)\n",
      "Requirement already satisfied: packaging>=20.0 in c:\\users\\kered\\gan_mastery\\.venv\\lib\\site-packages (from matplotlib>=1.5->pymatgen) (24.2)\n",
      "Requirement already satisfied: pillow>=6.2.0 in c:\\users\\kered\\gan_mastery\\.venv\\lib\\site-packages (from matplotlib>=1.5->pymatgen) (10.4.0)\n",
      "Requirement already satisfied: pyparsing>=2.3.1 in c:\\users\\kered\\gan_mastery\\.venv\\lib\\site-packages (from matplotlib>=1.5->pymatgen) (3.1.4)\n",
      "Requirement already satisfied: python-dateutil>=2.7 in c:\\users\\kered\\gan_mastery\\.venv\\lib\\site-packages (from matplotlib>=1.5->pymatgen) (2.9.0.post0)\n",
      "Requirement already satisfied: importlib-resources>=3.2.0 in c:\\users\\kered\\gan_mastery\\.venv\\lib\\site-packages (from matplotlib>=1.5->pymatgen) (6.4.5)\n",
      "Requirement already satisfied: narwhals>=1.15.1 in c:\\users\\kered\\gan_mastery\\.venv\\lib\\site-packages (from plotly>=4.5.0->pymatgen) (1.36.0)\n",
      "Requirement already satisfied: PyYAML>=3.01 in c:\\users\\kered\\gan_mastery\\.venv\\lib\\site-packages (from pybtex->pymatgen) (6.0.2)\n",
      "Requirement already satisfied: latexcodec>=1.0.4 in c:\\users\\kered\\gan_mastery\\.venv\\lib\\site-packages (from pybtex->pymatgen) (3.0.0)\n",
      "Requirement already satisfied: six in c:\\users\\kered\\gan_mastery\\.venv\\lib\\site-packages (from pybtex->pymatgen) (1.17.0)\n",
      "Requirement already satisfied: charset-normalizer<4,>=2 in c:\\users\\kered\\gan_mastery\\.venv\\lib\\site-packages (from requests->pymatgen) (3.4.1)\n",
      "Requirement already satisfied: idna<4,>=2.5 in c:\\users\\kered\\gan_mastery\\.venv\\lib\\site-packages (from requests->pymatgen) (3.10)\n",
      "Requirement already satisfied: urllib3<3,>=1.21.1 in c:\\users\\kered\\gan_mastery\\.venv\\lib\\site-packages (from requests->pymatgen) (2.2.3)\n",
      "Requirement already satisfied: certifi>=2017.4.17 in c:\\users\\kered\\gan_mastery\\.venv\\lib\\site-packages (from requests->pymatgen) (2025.1.31)\n",
      "Requirement already satisfied: ruamel.yaml.clib>=0.2.7 in c:\\users\\kered\\gan_mastery\\.venv\\lib\\site-packages (from ruamel.yaml>=0.17.0->pymatgen) (0.2.8)\n",
      "Requirement already satisfied: pytz>=2020.1 in c:\\users\\kered\\gan_mastery\\.venv\\lib\\site-packages (from pandas->pymatgen) (2025.2)\n",
      "Requirement already satisfied: tzdata>=2022.1 in c:\\users\\kered\\gan_mastery\\.venv\\lib\\site-packages (from pandas->pymatgen) (2025.2)\n",
      "Requirement already satisfied: mpmath<1.4,>=1.1.0 in c:\\users\\kered\\gan_mastery\\.venv\\lib\\site-packages (from sympy->pymatgen) (1.3.0)\n",
      "Requirement already satisfied: colorama in c:\\users\\kered\\gan_mastery\\.venv\\lib\\site-packages (from tqdm->pymatgen) (0.4.6)\n",
      "Requirement already satisfied: zipp>=3.1.0 in c:\\users\\kered\\gan_mastery\\.venv\\lib\\site-packages (from importlib-resources>=3.2.0->matplotlib>=1.5->pymatgen) (3.20.2)\n"
     ]
    }
   ],
   "source": [
    "!pip install pymatgen mp-api"
   ]
  },
  {
   "cell_type": "code",
   "execution_count": 4,
   "id": "e222bbe2",
   "metadata": {},
   "outputs": [
    {
     "name": "stdout",
     "output_type": "stream",
     "text": [
      "Requirement already satisfied: mp-api in c:\\users\\kered\\gan_mastery\\.venv\\lib\\site-packages (0.35.1)\n",
      "Requirement already satisfied: setuptools in c:\\users\\kered\\gan_mastery\\.venv\\lib\\site-packages (from mp-api) (41.2.0)\n",
      "Requirement already satisfied: msgpack in c:\\users\\kered\\gan_mastery\\.venv\\lib\\site-packages (from mp-api) (1.1.0)\n",
      "Requirement already satisfied: pymatgen>=2022.3.7 in c:\\users\\kered\\gan_mastery\\.venv\\lib\\site-packages (from mp-api) (2023.8.10)\n",
      "Requirement already satisfied: typing-extensions>=3.7.4.1 in c:\\users\\kered\\gan_mastery\\.venv\\lib\\site-packages (from mp-api) (4.13.1)\n",
      "Requirement already satisfied: requests>=2.23.0 in c:\\users\\kered\\gan_mastery\\.venv\\lib\\site-packages (from mp-api) (2.32.3)\n",
      "Requirement already satisfied: monty>=2021.3.12 in c:\\users\\kered\\gan_mastery\\.venv\\lib\\site-packages (from mp-api) (2023.9.25)\n",
      "Requirement already satisfied: emmet-core>=0.54.0 in c:\\users\\kered\\gan_mastery\\.venv\\lib\\site-packages (from mp-api) (0.68.0)\n",
      "Requirement already satisfied: pydantic<2.0,>=1.10.2 in c:\\users\\kered\\gan_mastery\\.venv\\lib\\site-packages (from emmet-core>=0.54.0->mp-api) (1.10.22)\n",
      "Requirement already satisfied: pybtex~=0.24 in c:\\users\\kered\\gan_mastery\\.venv\\lib\\site-packages (from emmet-core>=0.54.0->mp-api) (0.24.0)\n",
      "Requirement already satisfied: spglib>=2.0.1 in c:\\users\\kered\\gan_mastery\\.venv\\lib\\site-packages (from emmet-core>=0.54.0->mp-api) (2.4.0)\n",
      "Requirement already satisfied: matplotlib>=1.5 in c:\\users\\kered\\gan_mastery\\.venv\\lib\\site-packages (from pymatgen>=2022.3.7->mp-api) (3.7.5)\n",
      "Requirement already satisfied: networkx>=2.2 in c:\\users\\kered\\gan_mastery\\.venv\\lib\\site-packages (from pymatgen>=2022.3.7->mp-api) (3.1)\n",
      "Requirement already satisfied: numpy>=1.20.1 in c:\\users\\kered\\gan_mastery\\.venv\\lib\\site-packages (from pymatgen>=2022.3.7->mp-api) (1.24.4)\n",
      "Requirement already satisfied: palettable>=3.1.1 in c:\\users\\kered\\gan_mastery\\.venv\\lib\\site-packages (from pymatgen>=2022.3.7->mp-api) (3.3.3)\n",
      "Requirement already satisfied: pandas in c:\\users\\kered\\gan_mastery\\.venv\\lib\\site-packages (from pymatgen>=2022.3.7->mp-api) (2.0.3)\n",
      "Requirement already satisfied: plotly>=4.5.0 in c:\\users\\kered\\gan_mastery\\.venv\\lib\\site-packages (from pymatgen>=2022.3.7->mp-api) (6.0.1)\n",
      "Requirement already satisfied: ruamel.yaml>=0.17.0 in c:\\users\\kered\\gan_mastery\\.venv\\lib\\site-packages (from pymatgen>=2022.3.7->mp-api) (0.18.10)\n",
      "Requirement already satisfied: scipy>=1.5.0 in c:\\users\\kered\\gan_mastery\\.venv\\lib\\site-packages (from pymatgen>=2022.3.7->mp-api) (1.10.1)\n",
      "Requirement already satisfied: sympy in c:\\users\\kered\\gan_mastery\\.venv\\lib\\site-packages (from pymatgen>=2022.3.7->mp-api) (1.13.3)\n",
      "Requirement already satisfied: tabulate in c:\\users\\kered\\gan_mastery\\.venv\\lib\\site-packages (from pymatgen>=2022.3.7->mp-api) (0.9.0)\n",
      "Requirement already satisfied: tqdm in c:\\users\\kered\\gan_mastery\\.venv\\lib\\site-packages (from pymatgen>=2022.3.7->mp-api) (4.67.1)\n",
      "Requirement already satisfied: uncertainties>=3.1.4 in c:\\users\\kered\\gan_mastery\\.venv\\lib\\site-packages (from pymatgen>=2022.3.7->mp-api) (3.2.3)\n",
      "Requirement already satisfied: joblib in c:\\users\\kered\\gan_mastery\\.venv\\lib\\site-packages (from pymatgen>=2022.3.7->mp-api) (1.4.2)\n",
      "Requirement already satisfied: charset-normalizer<4,>=2 in c:\\users\\kered\\gan_mastery\\.venv\\lib\\site-packages (from requests>=2.23.0->mp-api) (3.4.1)\n",
      "Requirement already satisfied: idna<4,>=2.5 in c:\\users\\kered\\gan_mastery\\.venv\\lib\\site-packages (from requests>=2.23.0->mp-api) (3.10)\n",
      "Requirement already satisfied: urllib3<3,>=1.21.1 in c:\\users\\kered\\gan_mastery\\.venv\\lib\\site-packages (from requests>=2.23.0->mp-api) (2.2.3)\n",
      "Requirement already satisfied: certifi>=2017.4.17 in c:\\users\\kered\\gan_mastery\\.venv\\lib\\site-packages (from requests>=2.23.0->mp-api) (2025.1.31)\n",
      "Requirement already satisfied: contourpy>=1.0.1 in c:\\users\\kered\\gan_mastery\\.venv\\lib\\site-packages (from matplotlib>=1.5->pymatgen>=2022.3.7->mp-api) (1.1.1)\n",
      "Requirement already satisfied: cycler>=0.10 in c:\\users\\kered\\gan_mastery\\.venv\\lib\\site-packages (from matplotlib>=1.5->pymatgen>=2022.3.7->mp-api) (0.12.1)\n",
      "Requirement already satisfied: fonttools>=4.22.0 in c:\\users\\kered\\gan_mastery\\.venv\\lib\\site-packages (from matplotlib>=1.5->pymatgen>=2022.3.7->mp-api) (4.57.0)\n",
      "Requirement already satisfied: kiwisolver>=1.0.1 in c:\\users\\kered\\gan_mastery\\.venv\\lib\\site-packages (from matplotlib>=1.5->pymatgen>=2022.3.7->mp-api) (1.4.7)\n",
      "Requirement already satisfied: packaging>=20.0 in c:\\users\\kered\\gan_mastery\\.venv\\lib\\site-packages (from matplotlib>=1.5->pymatgen>=2022.3.7->mp-api) (24.2)\n",
      "Requirement already satisfied: pillow>=6.2.0 in c:\\users\\kered\\gan_mastery\\.venv\\lib\\site-packages (from matplotlib>=1.5->pymatgen>=2022.3.7->mp-api) (10.4.0)\n",
      "Requirement already satisfied: pyparsing>=2.3.1 in c:\\users\\kered\\gan_mastery\\.venv\\lib\\site-packages (from matplotlib>=1.5->pymatgen>=2022.3.7->mp-api) (3.1.4)\n",
      "Requirement already satisfied: python-dateutil>=2.7 in c:\\users\\kered\\gan_mastery\\.venv\\lib\\site-packages (from matplotlib>=1.5->pymatgen>=2022.3.7->mp-api) (2.9.0.post0)\n",
      "Requirement already satisfied: importlib-resources>=3.2.0 in c:\\users\\kered\\gan_mastery\\.venv\\lib\\site-packages (from matplotlib>=1.5->pymatgen>=2022.3.7->mp-api) (6.4.5)\n",
      "Requirement already satisfied: narwhals>=1.15.1 in c:\\users\\kered\\gan_mastery\\.venv\\lib\\site-packages (from plotly>=4.5.0->pymatgen>=2022.3.7->mp-api) (1.36.0)\n",
      "Requirement already satisfied: PyYAML>=3.01 in c:\\users\\kered\\gan_mastery\\.venv\\lib\\site-packages (from pybtex~=0.24->emmet-core>=0.54.0->mp-api) (6.0.2)\n",
      "Requirement already satisfied: latexcodec>=1.0.4 in c:\\users\\kered\\gan_mastery\\.venv\\lib\\site-packages (from pybtex~=0.24->emmet-core>=0.54.0->mp-api) (3.0.0)\n",
      "Requirement already satisfied: six in c:\\users\\kered\\gan_mastery\\.venv\\lib\\site-packages (from pybtex~=0.24->emmet-core>=0.54.0->mp-api) (1.17.0)\n",
      "Requirement already satisfied: ruamel.yaml.clib>=0.2.7 in c:\\users\\kered\\gan_mastery\\.venv\\lib\\site-packages (from ruamel.yaml>=0.17.0->pymatgen>=2022.3.7->mp-api) (0.2.8)\n",
      "Requirement already satisfied: pytz>=2020.1 in c:\\users\\kered\\gan_mastery\\.venv\\lib\\site-packages (from pandas->pymatgen>=2022.3.7->mp-api) (2025.2)\n",
      "Requirement already satisfied: tzdata>=2022.1 in c:\\users\\kered\\gan_mastery\\.venv\\lib\\site-packages (from pandas->pymatgen>=2022.3.7->mp-api) (2025.2)\n",
      "Requirement already satisfied: mpmath<1.4,>=1.1.0 in c:\\users\\kered\\gan_mastery\\.venv\\lib\\site-packages (from sympy->pymatgen>=2022.3.7->mp-api) (1.3.0)\n",
      "Requirement already satisfied: colorama in c:\\users\\kered\\gan_mastery\\.venv\\lib\\site-packages (from tqdm->pymatgen>=2022.3.7->mp-api) (0.4.6)\n",
      "Requirement already satisfied: zipp>=3.1.0 in c:\\users\\kered\\gan_mastery\\.venv\\lib\\site-packages (from importlib-resources>=3.2.0->matplotlib>=1.5->pymatgen>=2022.3.7->mp-api) (3.20.2)\n",
      "Note: you may need to restart the kernel to use updated packages.\n"
     ]
    }
   ],
   "source": [
    "pip install mp-api --upgrade"
   ]
  },
  {
   "cell_type": "markdown",
   "id": "a18b6c7b",
   "metadata": {},
   "source": [
    "# MP cuprates Superconductors"
   ]
  },
  {
   "cell_type": "code",
   "execution_count": 5,
   "id": "24232d12",
   "metadata": {},
   "outputs": [
    {
     "name": "stdout",
     "output_type": "stream",
     "text": [
      "Filtered data saved to C:\\Users\\Kered\\GAN_Mastery\\02_labs\\crystals_gan\\dataset\\Filtered_Cuprate_3DSC_MP_fin.csv\n"
     ]
    }
   ],
   "source": [
    "# Load the data\n",
    "import pandas as pd\n",
    "file_path = r\"C:\\Users\\Kered\\GAN_Mastery\\02_labs\\crystals_gan\\dataset\\Cuprate_3DSC_MP.csv\"  # Update to your file path if needed\n",
    "data = pd.read_csv(file_path)\n",
    "\n",
    "# Remove duplicate rows based on the 'material_id_2' column\n",
    "filtered_dataset = data.drop_duplicates(subset=['material_id_2'])\n",
    "\n",
    "# Save the filtered DataFrame to a new CSV file\n",
    "output_file = r\"C:\\Users\\Kered\\GAN_Mastery\\02_labs\\crystals_gan\\dataset\\Filtered_Cuprate_3DSC_MP_fin.csv\"\n",
    "filtered_dataset.to_csv(output_file, index=False)\n",
    "\n",
    "print(f\"Filtered data saved to {output_file}\")"
   ]
  },
  {
   "cell_type": "code",
   "execution_count": 6,
   "id": "93ca4f96",
   "metadata": {},
   "outputs": [
    {
     "data": {
      "text/plain": [
       "161"
      ]
     },
     "execution_count": 6,
     "metadata": {},
     "output_type": "execute_result"
    }
   ],
   "source": [
    "filtered_dataset['material_id_2']\n",
    "MP_list = filtered_dataset['material_id_2'].to_list()\n",
    "len(MP_list)"
   ]
  },
  {
   "cell_type": "code",
   "execution_count": 7,
   "id": "fd275509",
   "metadata": {},
   "outputs": [
    {
     "data": {
      "text/plain": [
       "['mp-1227852',\n",
       " 'mp-1198030',\n",
       " 'mp-1214529',\n",
       " 'mp-14970',\n",
       " 'mp-10350',\n",
       " 'mp-1214336',\n",
       " 'mp-1214316',\n",
       " 'mp-1077929',\n",
       " 'mp-1025280',\n",
       " 'mp-1218170',\n",
       " 'mp-1227458',\n",
       " 'mp-1228381',\n",
       " 'mp-6790',\n",
       " 'mp-20674',\n",
       " 'mp-22719',\n",
       " 'mp-21451',\n",
       " 'mp-20942',\n",
       " 'mp-505315',\n",
       " 'mp-20936',\n",
       " 'mp-6205',\n",
       " 'mp-15039',\n",
       " 'mp-19813',\n",
       " 'mp-20897',\n",
       " 'mp-1214613',\n",
       " 'mp-1214720',\n",
       " 'mp-1182677',\n",
       " 'mvc-11834',\n",
       " 'mp-542733',\n",
       " 'mp-6027',\n",
       " 'mp-22215',\n",
       " 'mp-6583',\n",
       " 'mp-6710',\n",
       " 'mp-1228402',\n",
       " 'mp-654374',\n",
       " 'mp-6885',\n",
       " 'mp-632802',\n",
       " 'mp-6879',\n",
       " 'mp-22601',\n",
       " 'mp-1228620',\n",
       " 'mp-6691',\n",
       " 'mp-1228495',\n",
       " 'mp-1228449',\n",
       " 'mp-1214711',\n",
       " 'mp-1214699',\n",
       " 'mp-1214814',\n",
       " 'mp-1214652',\n",
       " 'mp-1214600',\n",
       " 'mp-1214590',\n",
       " 'mp-1214586',\n",
       " 'mp-1214571',\n",
       " 'mp-6562',\n",
       " 'mp-1228447',\n",
       " 'mp-557043',\n",
       " 'mp-616471',\n",
       " 'mp-1228503',\n",
       " 'mp-1214654',\n",
       " 'mp-1214655',\n",
       " 'mp-1228227',\n",
       " 'mp-622110',\n",
       " 'mp-1228601',\n",
       " 'mp-622211',\n",
       " 'mp-1228334',\n",
       " 'mp-1214572',\n",
       " 'mp-1228407',\n",
       " 'mp-6616',\n",
       " 'mp-1228253',\n",
       " 'mp-622210',\n",
       " 'mp-1228451',\n",
       " 'mp-20324',\n",
       " 'mp-1228202',\n",
       " 'mp-1228182',\n",
       " 'mp-1228206',\n",
       " 'mp-1214585',\n",
       " 'mp-1214650',\n",
       " 'mp-622108',\n",
       " 'mp-6779',\n",
       " 'mp-1214709',\n",
       " 'mp-1228680',\n",
       " 'mp-1214577',\n",
       " 'mp-1218930',\n",
       " 'mp-1209015',\n",
       " 'mp-1218870',\n",
       " 'mp-1208752',\n",
       " 'mp-1208863',\n",
       " 'mp-1209124',\n",
       " 'mp-1208800',\n",
       " 'mp-555827',\n",
       " 'mp-505042',\n",
       " 'mp-1208931',\n",
       " 'mp-1208757',\n",
       " 'mp-545481',\n",
       " 'mp-1173193',\n",
       " 'mp-1147662',\n",
       " 'mp-1218825',\n",
       " 'mp-510475',\n",
       " 'mvc-11697',\n",
       " 'mp-1222802',\n",
       " 'mp-1198573',\n",
       " 'mp-752673',\n",
       " 'mp-1100986',\n",
       " 'mp-556575',\n",
       " 'mp-1194240',\n",
       " 'mp-1208765',\n",
       " 'mp-1208792',\n",
       " 'mp-1218486',\n",
       " 'mp-1218546',\n",
       " 'mp-1218734',\n",
       " 'mp-1218617',\n",
       " 'mp-20824',\n",
       " 'mp-620364',\n",
       " 'mp-1173221',\n",
       " 'mp-4826',\n",
       " 'mp-23143',\n",
       " 'mp-5869',\n",
       " 'mp-1209020',\n",
       " 'mp-1214003',\n",
       " 'mp-4158',\n",
       " 'mp-4181',\n",
       " 'mp-4210',\n",
       " 'mp-22306',\n",
       " 'mp-676060',\n",
       " 'mp-1218607',\n",
       " 'mp-1218787',\n",
       " 'mp-1218883',\n",
       " 'mp-1218869',\n",
       " 'mp-1147678',\n",
       " 'mp-1218799',\n",
       " 'mp-1274783',\n",
       " 'mp-620290',\n",
       " 'mp-510625',\n",
       " 'mp-559339',\n",
       " 'mp-14430',\n",
       " 'mp-5670',\n",
       " 'mp-6676',\n",
       " 'mp-1218154',\n",
       " 'mp-21496',\n",
       " 'mp-1223395',\n",
       " 'mp-753901',\n",
       " 'mp-5787',\n",
       " 'mp-754263',\n",
       " 'mp-37514',\n",
       " 'mp-1218244',\n",
       " 'mp-3474',\n",
       " 'mp-556595',\n",
       " 'mp-21129',\n",
       " 'mp-5456',\n",
       " 'mp-21160',\n",
       " 'mp-16786',\n",
       " 'mvc-771',\n",
       " 'mp-1218811',\n",
       " 'mp-5029',\n",
       " 'mp-1218240',\n",
       " 'mp-18490',\n",
       " 'mp-9453',\n",
       " 'mp-3120',\n",
       " 'mp-20205',\n",
       " 'mp-22301',\n",
       " 'mp-1218727',\n",
       " 'mp-20437',\n",
       " 'mp-552089',\n",
       " 'mp-1218623']"
      ]
     },
     "execution_count": 7,
     "metadata": {},
     "output_type": "execute_result"
    }
   ],
   "source": [
    "MP_list"
   ]
  },
  {
   "cell_type": "code",
   "execution_count": 8,
   "id": "e3503375",
   "metadata": {},
   "outputs": [],
   "source": [
    "# !pip uninstall mp-api emmet-core pydantic -y\n",
    "# !pip install mp-api==0.30.10 pydantic==1.10.12"
   ]
  },
  {
   "cell_type": "code",
   "execution_count": 9,
   "id": "f38dab4f",
   "metadata": {},
   "outputs": [
    {
     "name": "stderr",
     "output_type": "stream",
     "text": [
      "c:\\Users\\Kered\\GAN_Mastery\\.venv\\lib\\site-packages\\tqdm\\auto.py:21: TqdmWarning: IProgress not found. Please update jupyter and ipywidgets. See https://ipywidgets.readthedocs.io/en/stable/user_install.html\n",
      "  from .autonotebook import tqdm as notebook_tqdm\n",
      "c:\\Users\\Kered\\GAN_Mastery\\.venv\\lib\\site-packages\\mp_api\\client\\mprester.py:193: UserWarning: mpcontribs-client not installed. Install the package to query MPContribs data, or construct pourbaix diagrams: 'pip install mpcontribs-client'\n",
      "  warnings.warn(\n",
      "Retrieving MaterialsDoc documents: 100%|██████████| 1/1 [00:00<?, ?it/s]\n",
      "c:\\Users\\Kered\\GAN_Mastery\\.venv\\lib\\site-packages\\mp_api\\client\\core\\client.py:1022: UserWarning: Document primary key has changed from mp-1227852 to mp-1227852, returning data for mp-1227852 in materials/core route.    \n",
      "  warnings.warn(\n"
     ]
    },
    {
     "name": "stdout",
     "output_type": "stream",
     "text": [
      "Error processing mp-1227852: REST query returned with error status code 403 on URL https://api.materialsproject.org/materials/core/mp-1227852/?_all_fields=True&_limit=1 with message:\n",
      "Response {\"error\": \"You are using deprecated API endpoints. Please read our documentation (https://docs.materialsproject.org) and upgrade to the latest version of the mp-api client (https://pypi.org/project/mp-api/).\", \"version\": \"blocked\"}\n"
     ]
    },
    {
     "name": "stderr",
     "output_type": "stream",
     "text": [
      "Retrieving MaterialsDoc documents: 100%|██████████| 1/1 [00:00<?, ?it/s]\n",
      "c:\\Users\\Kered\\GAN_Mastery\\.venv\\lib\\site-packages\\mp_api\\client\\core\\client.py:1022: UserWarning: Document primary key has changed from mp-1198030 to mp-1198030, returning data for mp-1198030 in materials/core route.    \n",
      "  warnings.warn(\n"
     ]
    },
    {
     "name": "stdout",
     "output_type": "stream",
     "text": [
      "Error processing mp-1198030: REST query returned with error status code 403 on URL https://api.materialsproject.org/materials/core/mp-1198030/?_all_fields=True&_limit=1 with message:\n",
      "Response {\"error\": \"You are using deprecated API endpoints. Please read our documentation (https://docs.materialsproject.org) and upgrade to the latest version of the mp-api client (https://pypi.org/project/mp-api/).\", \"version\": \"blocked\"}\n"
     ]
    },
    {
     "name": "stderr",
     "output_type": "stream",
     "text": [
      "Retrieving MaterialsDoc documents: 100%|██████████| 1/1 [00:00<?, ?it/s]\n",
      "c:\\Users\\Kered\\GAN_Mastery\\.venv\\lib\\site-packages\\mp_api\\client\\core\\client.py:1022: UserWarning: Document primary key has changed from mp-1214529 to mp-1214529, returning data for mp-1214529 in materials/core route.    \n",
      "  warnings.warn(\n"
     ]
    },
    {
     "name": "stdout",
     "output_type": "stream",
     "text": [
      "Error processing mp-1214529: REST query returned with error status code 403 on URL https://api.materialsproject.org/materials/core/mp-1214529/?_all_fields=True&_limit=1 with message:\n",
      "Response {\"error\": \"You are using deprecated API endpoints. Please read our documentation (https://docs.materialsproject.org) and upgrade to the latest version of the mp-api client (https://pypi.org/project/mp-api/).\", \"version\": \"blocked\"}\n"
     ]
    },
    {
     "name": "stderr",
     "output_type": "stream",
     "text": [
      "Retrieving MaterialsDoc documents: 100%|██████████| 1/1 [00:00<?, ?it/s]\n",
      "c:\\Users\\Kered\\GAN_Mastery\\.venv\\lib\\site-packages\\mp_api\\client\\core\\client.py:1022: UserWarning: Document primary key has changed from mp-14970 to mp-14970, returning data for mp-14970 in materials/core route.    \n",
      "  warnings.warn(\n"
     ]
    },
    {
     "name": "stdout",
     "output_type": "stream",
     "text": [
      "Error processing mp-14970: REST query returned with error status code 403 on URL https://api.materialsproject.org/materials/core/mp-14970/?_all_fields=True&_limit=1 with message:\n",
      "Response {\"error\": \"You are using deprecated API endpoints. Please read our documentation (https://docs.materialsproject.org) and upgrade to the latest version of the mp-api client (https://pypi.org/project/mp-api/).\", \"version\": \"blocked\"}\n"
     ]
    },
    {
     "name": "stderr",
     "output_type": "stream",
     "text": [
      "Retrieving MaterialsDoc documents: 100%|██████████| 1/1 [00:00<?, ?it/s]\n",
      "c:\\Users\\Kered\\GAN_Mastery\\.venv\\lib\\site-packages\\mp_api\\client\\core\\client.py:1022: UserWarning: Document primary key has changed from mp-10350 to mp-10350, returning data for mp-10350 in materials/core route.    \n",
      "  warnings.warn(\n"
     ]
    },
    {
     "name": "stdout",
     "output_type": "stream",
     "text": [
      "Error processing mp-10350: REST query returned with error status code 403 on URL https://api.materialsproject.org/materials/core/mp-10350/?_all_fields=True&_limit=1 with message:\n",
      "Response {\"error\": \"You are using deprecated API endpoints. Please read our documentation (https://docs.materialsproject.org) and upgrade to the latest version of the mp-api client (https://pypi.org/project/mp-api/).\", \"version\": \"blocked\"}\n"
     ]
    },
    {
     "name": "stderr",
     "output_type": "stream",
     "text": [
      "Retrieving MaterialsDoc documents: 100%|██████████| 1/1 [00:00<?, ?it/s]\n",
      "c:\\Users\\Kered\\GAN_Mastery\\.venv\\lib\\site-packages\\mp_api\\client\\core\\client.py:1022: UserWarning: Document primary key has changed from mp-1214336 to mp-1214336, returning data for mp-1214336 in materials/core route.    \n",
      "  warnings.warn(\n"
     ]
    },
    {
     "name": "stdout",
     "output_type": "stream",
     "text": [
      "Error processing mp-1214336: REST query returned with error status code 403 on URL https://api.materialsproject.org/materials/core/mp-1214336/?_all_fields=True&_limit=1 with message:\n",
      "Response {\"error\": \"You are using deprecated API endpoints. Please read our documentation (https://docs.materialsproject.org) and upgrade to the latest version of the mp-api client (https://pypi.org/project/mp-api/).\", \"version\": \"blocked\"}\n"
     ]
    },
    {
     "name": "stderr",
     "output_type": "stream",
     "text": [
      "Retrieving MaterialsDoc documents: 100%|██████████| 1/1 [00:00<?, ?it/s]\n",
      "c:\\Users\\Kered\\GAN_Mastery\\.venv\\lib\\site-packages\\mp_api\\client\\core\\client.py:1022: UserWarning: Document primary key has changed from mp-1214316 to mp-1214316, returning data for mp-1214316 in materials/core route.    \n",
      "  warnings.warn(\n"
     ]
    },
    {
     "name": "stdout",
     "output_type": "stream",
     "text": [
      "Error processing mp-1214316: REST query returned with error status code 403 on URL https://api.materialsproject.org/materials/core/mp-1214316/?_all_fields=True&_limit=1 with message:\n",
      "Response {\"error\": \"You are using deprecated API endpoints. Please read our documentation (https://docs.materialsproject.org) and upgrade to the latest version of the mp-api client (https://pypi.org/project/mp-api/).\", \"version\": \"blocked\"}\n"
     ]
    },
    {
     "name": "stderr",
     "output_type": "stream",
     "text": [
      "Retrieving MaterialsDoc documents: 100%|██████████| 1/1 [00:00<?, ?it/s]\n",
      "c:\\Users\\Kered\\GAN_Mastery\\.venv\\lib\\site-packages\\mp_api\\client\\core\\client.py:1022: UserWarning: Document primary key has changed from mp-1077929 to mp-1077929, returning data for mp-1077929 in materials/core route.    \n",
      "  warnings.warn(\n"
     ]
    },
    {
     "name": "stdout",
     "output_type": "stream",
     "text": [
      "Error processing mp-1077929: REST query returned with error status code 403 on URL https://api.materialsproject.org/materials/core/mp-1077929/?_all_fields=True&_limit=1 with message:\n",
      "Response {\"error\": \"You are using deprecated API endpoints. Please read our documentation (https://docs.materialsproject.org) and upgrade to the latest version of the mp-api client (https://pypi.org/project/mp-api/).\", \"version\": \"blocked\"}\n"
     ]
    },
    {
     "name": "stderr",
     "output_type": "stream",
     "text": [
      "Retrieving MaterialsDoc documents: 100%|██████████| 1/1 [00:00<00:00, 977.92it/s]\n",
      "c:\\Users\\Kered\\GAN_Mastery\\.venv\\lib\\site-packages\\mp_api\\client\\core\\client.py:1022: UserWarning: Document primary key has changed from mp-1025280 to mp-1025280, returning data for mp-1025280 in materials/core route.    \n",
      "  warnings.warn(\n"
     ]
    },
    {
     "name": "stdout",
     "output_type": "stream",
     "text": [
      "Error processing mp-1025280: REST query returned with error status code 403 on URL https://api.materialsproject.org/materials/core/mp-1025280/?_all_fields=True&_limit=1 with message:\n",
      "Response {\"error\": \"You are using deprecated API endpoints. Please read our documentation (https://docs.materialsproject.org) and upgrade to the latest version of the mp-api client (https://pypi.org/project/mp-api/).\", \"version\": \"blocked\"}\n"
     ]
    },
    {
     "name": "stderr",
     "output_type": "stream",
     "text": [
      "Retrieving MaterialsDoc documents: 100%|██████████| 1/1 [00:00<?, ?it/s]\n",
      "c:\\Users\\Kered\\GAN_Mastery\\.venv\\lib\\site-packages\\mp_api\\client\\core\\client.py:1022: UserWarning: Document primary key has changed from mp-1218170 to mp-1218170, returning data for mp-1218170 in materials/core route.    \n",
      "  warnings.warn(\n"
     ]
    },
    {
     "name": "stdout",
     "output_type": "stream",
     "text": [
      "Error processing mp-1218170: REST query returned with error status code 403 on URL https://api.materialsproject.org/materials/core/mp-1218170/?_all_fields=True&_limit=1 with message:\n",
      "Response {\"error\": \"You are using deprecated API endpoints. Please read our documentation (https://docs.materialsproject.org) and upgrade to the latest version of the mp-api client (https://pypi.org/project/mp-api/).\", \"version\": \"blocked\"}\n"
     ]
    },
    {
     "name": "stderr",
     "output_type": "stream",
     "text": [
      "Retrieving MaterialsDoc documents: 100%|██████████| 1/1 [00:00<?, ?it/s]\n",
      "c:\\Users\\Kered\\GAN_Mastery\\.venv\\lib\\site-packages\\mp_api\\client\\core\\client.py:1022: UserWarning: Document primary key has changed from mp-1227458 to mp-1227458, returning data for mp-1227458 in materials/core route.    \n",
      "  warnings.warn(\n"
     ]
    },
    {
     "name": "stdout",
     "output_type": "stream",
     "text": [
      "Error processing mp-1227458: REST query returned with error status code 403 on URL https://api.materialsproject.org/materials/core/mp-1227458/?_all_fields=True&_limit=1 with message:\n",
      "Response {\"error\": \"You are using deprecated API endpoints. Please read our documentation (https://docs.materialsproject.org) and upgrade to the latest version of the mp-api client (https://pypi.org/project/mp-api/).\", \"version\": \"blocked\"}\n"
     ]
    },
    {
     "name": "stderr",
     "output_type": "stream",
     "text": [
      "Retrieving MaterialsDoc documents: 100%|██████████| 1/1 [00:00<?, ?it/s]\n",
      "c:\\Users\\Kered\\GAN_Mastery\\.venv\\lib\\site-packages\\mp_api\\client\\core\\client.py:1022: UserWarning: Document primary key has changed from mp-1228381 to mp-1228381, returning data for mp-1228381 in materials/core route.    \n",
      "  warnings.warn(\n"
     ]
    },
    {
     "name": "stdout",
     "output_type": "stream",
     "text": [
      "Error processing mp-1228381: REST query returned with error status code 403 on URL https://api.materialsproject.org/materials/core/mp-1228381/?_all_fields=True&_limit=1 with message:\n",
      "Response {\"error\": \"You are using deprecated API endpoints. Please read our documentation (https://docs.materialsproject.org) and upgrade to the latest version of the mp-api client (https://pypi.org/project/mp-api/).\", \"version\": \"blocked\"}\n"
     ]
    },
    {
     "name": "stderr",
     "output_type": "stream",
     "text": [
      "Retrieving MaterialsDoc documents: 100%|██████████| 1/1 [00:00<?, ?it/s]\n",
      "c:\\Users\\Kered\\GAN_Mastery\\.venv\\lib\\site-packages\\mp_api\\client\\core\\client.py:1022: UserWarning: Document primary key has changed from mp-6790 to mp-6790, returning data for mp-6790 in materials/core route.    \n",
      "  warnings.warn(\n"
     ]
    },
    {
     "name": "stdout",
     "output_type": "stream",
     "text": [
      "Error processing mp-6790: REST query returned with error status code 403 on URL https://api.materialsproject.org/materials/core/mp-6790/?_all_fields=True&_limit=1 with message:\n",
      "Response {\"error\": \"You are using deprecated API endpoints. Please read our documentation (https://docs.materialsproject.org) and upgrade to the latest version of the mp-api client (https://pypi.org/project/mp-api/).\", \"version\": \"blocked\"}\n"
     ]
    },
    {
     "name": "stderr",
     "output_type": "stream",
     "text": [
      "Retrieving MaterialsDoc documents: 100%|██████████| 1/1 [00:00<?, ?it/s]\n",
      "c:\\Users\\Kered\\GAN_Mastery\\.venv\\lib\\site-packages\\mp_api\\client\\core\\client.py:1022: UserWarning: Document primary key has changed from mp-20674 to mp-20674, returning data for mp-20674 in materials/core route.    \n",
      "  warnings.warn(\n"
     ]
    },
    {
     "name": "stdout",
     "output_type": "stream",
     "text": [
      "Error processing mp-20674: REST query returned with error status code 403 on URL https://api.materialsproject.org/materials/core/mp-20674/?_all_fields=True&_limit=1 with message:\n",
      "Response {\"error\": \"You are using deprecated API endpoints. Please read our documentation (https://docs.materialsproject.org) and upgrade to the latest version of the mp-api client (https://pypi.org/project/mp-api/).\", \"version\": \"blocked\"}\n"
     ]
    },
    {
     "name": "stderr",
     "output_type": "stream",
     "text": [
      "Retrieving MaterialsDoc documents: 100%|██████████| 1/1 [00:00<00:00, 1001.98it/s]\n",
      "c:\\Users\\Kered\\GAN_Mastery\\.venv\\lib\\site-packages\\mp_api\\client\\core\\client.py:1022: UserWarning: Document primary key has changed from mp-22719 to mp-22719, returning data for mp-22719 in materials/core route.    \n",
      "  warnings.warn(\n"
     ]
    },
    {
     "name": "stdout",
     "output_type": "stream",
     "text": [
      "Error processing mp-22719: REST query returned with error status code 403 on URL https://api.materialsproject.org/materials/core/mp-22719/?_all_fields=True&_limit=1 with message:\n",
      "Response {\"error\": \"You are using deprecated API endpoints. Please read our documentation (https://docs.materialsproject.org) and upgrade to the latest version of the mp-api client (https://pypi.org/project/mp-api/).\", \"version\": \"blocked\"}\n"
     ]
    },
    {
     "name": "stderr",
     "output_type": "stream",
     "text": [
      "Retrieving MaterialsDoc documents: 100%|██████████| 1/1 [00:00<?, ?it/s]\n",
      "c:\\Users\\Kered\\GAN_Mastery\\.venv\\lib\\site-packages\\mp_api\\client\\core\\client.py:1022: UserWarning: Document primary key has changed from mp-21451 to mp-21451, returning data for mp-21451 in materials/core route.    \n",
      "  warnings.warn(\n"
     ]
    },
    {
     "name": "stdout",
     "output_type": "stream",
     "text": [
      "Error processing mp-21451: REST query returned with error status code 403 on URL https://api.materialsproject.org/materials/core/mp-21451/?_all_fields=True&_limit=1 with message:\n",
      "Response {\"error\": \"You are using deprecated API endpoints. Please read our documentation (https://docs.materialsproject.org) and upgrade to the latest version of the mp-api client (https://pypi.org/project/mp-api/).\", \"version\": \"blocked\"}\n"
     ]
    },
    {
     "name": "stderr",
     "output_type": "stream",
     "text": [
      "Retrieving MaterialsDoc documents: 100%|██████████| 1/1 [00:00<?, ?it/s]\n",
      "c:\\Users\\Kered\\GAN_Mastery\\.venv\\lib\\site-packages\\mp_api\\client\\core\\client.py:1022: UserWarning: Document primary key has changed from mp-20942 to mp-20942, returning data for mp-20942 in materials/core route.    \n",
      "  warnings.warn(\n"
     ]
    },
    {
     "name": "stdout",
     "output_type": "stream",
     "text": [
      "Error processing mp-20942: REST query returned with error status code 403 on URL https://api.materialsproject.org/materials/core/mp-20942/?_all_fields=True&_limit=1 with message:\n",
      "Response {\"error\": \"You are using deprecated API endpoints. Please read our documentation (https://docs.materialsproject.org) and upgrade to the latest version of the mp-api client (https://pypi.org/project/mp-api/).\", \"version\": \"blocked\"}\n"
     ]
    },
    {
     "name": "stderr",
     "output_type": "stream",
     "text": [
      "Retrieving MaterialsDoc documents: 100%|██████████| 1/1 [00:00<?, ?it/s]\n",
      "c:\\Users\\Kered\\GAN_Mastery\\.venv\\lib\\site-packages\\mp_api\\client\\core\\client.py:1022: UserWarning: Document primary key has changed from mp-505315 to mp-505315, returning data for mp-505315 in materials/core route.    \n",
      "  warnings.warn(\n"
     ]
    },
    {
     "name": "stdout",
     "output_type": "stream",
     "text": [
      "Error processing mp-505315: REST query returned with error status code 403 on URL https://api.materialsproject.org/materials/core/mp-505315/?_all_fields=True&_limit=1 with message:\n",
      "Response {\"error\": \"You are using deprecated API endpoints. Please read our documentation (https://docs.materialsproject.org) and upgrade to the latest version of the mp-api client (https://pypi.org/project/mp-api/).\", \"version\": \"blocked\"}\n"
     ]
    },
    {
     "name": "stderr",
     "output_type": "stream",
     "text": [
      "Retrieving MaterialsDoc documents: 100%|██████████| 1/1 [00:00<00:00, 1405.60it/s]\n",
      "c:\\Users\\Kered\\GAN_Mastery\\.venv\\lib\\site-packages\\mp_api\\client\\core\\client.py:1022: UserWarning: Document primary key has changed from mp-20936 to mp-20936, returning data for mp-20936 in materials/core route.    \n",
      "  warnings.warn(\n"
     ]
    },
    {
     "name": "stdout",
     "output_type": "stream",
     "text": [
      "Error processing mp-20936: REST query returned with error status code 403 on URL https://api.materialsproject.org/materials/core/mp-20936/?_all_fields=True&_limit=1 with message:\n",
      "Response {\"error\": \"You are using deprecated API endpoints. Please read our documentation (https://docs.materialsproject.org) and upgrade to the latest version of the mp-api client (https://pypi.org/project/mp-api/).\", \"version\": \"blocked\"}\n"
     ]
    },
    {
     "name": "stderr",
     "output_type": "stream",
     "text": [
      "Retrieving MaterialsDoc documents: 100%|██████████| 1/1 [00:00<?, ?it/s]\n",
      "c:\\Users\\Kered\\GAN_Mastery\\.venv\\lib\\site-packages\\mp_api\\client\\core\\client.py:1022: UserWarning: Document primary key has changed from mp-6205 to mp-6205, returning data for mp-6205 in materials/core route.    \n",
      "  warnings.warn(\n"
     ]
    },
    {
     "name": "stdout",
     "output_type": "stream",
     "text": [
      "Error processing mp-6205: REST query returned with error status code 403 on URL https://api.materialsproject.org/materials/core/mp-6205/?_all_fields=True&_limit=1 with message:\n",
      "Response {\"error\": \"You are using deprecated API endpoints. Please read our documentation (https://docs.materialsproject.org) and upgrade to the latest version of the mp-api client (https://pypi.org/project/mp-api/).\", \"version\": \"blocked\"}\n"
     ]
    },
    {
     "name": "stderr",
     "output_type": "stream",
     "text": [
      "Retrieving MaterialsDoc documents: 0it [00:00, ?it/s]\n"
     ]
    },
    {
     "name": "stdout",
     "output_type": "stream",
     "text": [
      "Error processing mp-15039: No result for record mp-15039.\n"
     ]
    },
    {
     "name": "stderr",
     "output_type": "stream",
     "text": [
      "Retrieving MaterialsDoc documents: 100%|██████████| 1/1 [00:00<?, ?it/s]\n",
      "c:\\Users\\Kered\\GAN_Mastery\\.venv\\lib\\site-packages\\mp_api\\client\\core\\client.py:1022: UserWarning: Document primary key has changed from mp-19813 to mp-19813, returning data for mp-19813 in materials/core route.    \n",
      "  warnings.warn(\n"
     ]
    },
    {
     "name": "stdout",
     "output_type": "stream",
     "text": [
      "Error processing mp-19813: REST query returned with error status code 403 on URL https://api.materialsproject.org/materials/core/mp-19813/?_all_fields=True&_limit=1 with message:\n",
      "Response {\"error\": \"You are using deprecated API endpoints. Please read our documentation (https://docs.materialsproject.org) and upgrade to the latest version of the mp-api client (https://pypi.org/project/mp-api/).\", \"version\": \"blocked\"}\n"
     ]
    },
    {
     "name": "stderr",
     "output_type": "stream",
     "text": [
      "Retrieving MaterialsDoc documents: 100%|██████████| 1/1 [00:00<?, ?it/s]\n",
      "c:\\Users\\Kered\\GAN_Mastery\\.venv\\lib\\site-packages\\mp_api\\client\\core\\client.py:1022: UserWarning: Document primary key has changed from mp-20897 to mp-20897, returning data for mp-20897 in materials/core route.    \n",
      "  warnings.warn(\n"
     ]
    },
    {
     "name": "stdout",
     "output_type": "stream",
     "text": [
      "Error processing mp-20897: REST query returned with error status code 403 on URL https://api.materialsproject.org/materials/core/mp-20897/?_all_fields=True&_limit=1 with message:\n",
      "Response {\"error\": \"You are using deprecated API endpoints. Please read our documentation (https://docs.materialsproject.org) and upgrade to the latest version of the mp-api client (https://pypi.org/project/mp-api/).\", \"version\": \"blocked\"}\n"
     ]
    },
    {
     "name": "stderr",
     "output_type": "stream",
     "text": [
      "Retrieving MaterialsDoc documents: 100%|██████████| 1/1 [00:00<00:00, 1001.74it/s]\n",
      "c:\\Users\\Kered\\GAN_Mastery\\.venv\\lib\\site-packages\\mp_api\\client\\core\\client.py:1022: UserWarning: Document primary key has changed from mp-1214613 to mp-1214613, returning data for mp-1214613 in materials/core route.    \n",
      "  warnings.warn(\n"
     ]
    },
    {
     "name": "stdout",
     "output_type": "stream",
     "text": [
      "Error processing mp-1214613: REST query returned with error status code 403 on URL https://api.materialsproject.org/materials/core/mp-1214613/?_all_fields=True&_limit=1 with message:\n",
      "Response {\"error\": \"You are using deprecated API endpoints. Please read our documentation (https://docs.materialsproject.org) and upgrade to the latest version of the mp-api client (https://pypi.org/project/mp-api/).\", \"version\": \"blocked\"}\n"
     ]
    },
    {
     "name": "stderr",
     "output_type": "stream",
     "text": [
      "Retrieving MaterialsDoc documents: 100%|██████████| 1/1 [00:00<?, ?it/s]\n",
      "c:\\Users\\Kered\\GAN_Mastery\\.venv\\lib\\site-packages\\mp_api\\client\\core\\client.py:1022: UserWarning: Document primary key has changed from mp-1214720 to mp-1214720, returning data for mp-1214720 in materials/core route.    \n",
      "  warnings.warn(\n"
     ]
    },
    {
     "name": "stdout",
     "output_type": "stream",
     "text": [
      "Error processing mp-1214720: REST query returned with error status code 403 on URL https://api.materialsproject.org/materials/core/mp-1214720/?_all_fields=True&_limit=1 with message:\n",
      "Response {\"error\": \"You are using deprecated API endpoints. Please read our documentation (https://docs.materialsproject.org) and upgrade to the latest version of the mp-api client (https://pypi.org/project/mp-api/).\", \"version\": \"blocked\"}\n"
     ]
    },
    {
     "name": "stderr",
     "output_type": "stream",
     "text": [
      "Retrieving MaterialsDoc documents: 100%|██████████| 1/1 [00:00<?, ?it/s]\n",
      "c:\\Users\\Kered\\GAN_Mastery\\.venv\\lib\\site-packages\\mp_api\\client\\core\\client.py:1022: UserWarning: Document primary key has changed from mp-1182677 to mp-1182677, returning data for mp-1182677 in materials/core route.    \n",
      "  warnings.warn(\n",
      "c:\\Users\\Kered\\GAN_Mastery\\.venv\\lib\\site-packages\\mp_api\\client\\core\\client.py:818: UserWarning: The server does not support the request made to https://api.materialsproject.org/materials/core/mvc-11834/?_all_fields=True&_limit=1. This may be due to an outdated mp-api package, or a problem with the query.\n",
      "  warnings.warn(\n"
     ]
    },
    {
     "name": "stdout",
     "output_type": "stream",
     "text": [
      "Error processing mp-1182677: REST query returned with error status code 403 on URL https://api.materialsproject.org/materials/core/mp-1182677/?_all_fields=True&_limit=1 with message:\n",
      "Response {\"error\": \"You are using deprecated API endpoints. Please read our documentation (https://docs.materialsproject.org) and upgrade to the latest version of the mp-api client (https://pypi.org/project/mp-api/).\", \"version\": \"blocked\"}\n"
     ]
    },
    {
     "name": "stderr",
     "output_type": "stream",
     "text": [
      "Retrieving MaterialsDoc documents: 100%|██████████| 1/1 [00:00<?, ?it/s]\n",
      "c:\\Users\\Kered\\GAN_Mastery\\.venv\\lib\\site-packages\\mp_api\\client\\core\\client.py:1022: UserWarning: Document primary key has changed from mvc-11834 to mp-1386589, returning data for mp-1386589 in materials/core route.    \n",
      "  warnings.warn(\n"
     ]
    },
    {
     "name": "stdout",
     "output_type": "stream",
     "text": [
      "Error processing mvc-11834: REST query returned with error status code 403 on URL https://api.materialsproject.org/materials/core/mp-1386589/?_all_fields=True&_limit=1 with message:\n",
      "Response {\"error\": \"You are using deprecated API endpoints. Please read our documentation (https://docs.materialsproject.org) and upgrade to the latest version of the mp-api client (https://pypi.org/project/mp-api/).\", \"version\": \"blocked\"}\n"
     ]
    },
    {
     "name": "stderr",
     "output_type": "stream",
     "text": [
      "Retrieving MaterialsDoc documents: 100%|██████████| 1/1 [00:00<?, ?it/s]\n",
      "c:\\Users\\Kered\\GAN_Mastery\\.venv\\lib\\site-packages\\mp_api\\client\\core\\client.py:1022: UserWarning: Document primary key has changed from mp-542733 to mp-542733, returning data for mp-542733 in materials/core route.    \n",
      "  warnings.warn(\n"
     ]
    },
    {
     "name": "stdout",
     "output_type": "stream",
     "text": [
      "Error processing mp-542733: REST query returned with error status code 403 on URL https://api.materialsproject.org/materials/core/mp-542733/?_all_fields=True&_limit=1 with message:\n",
      "Response {\"error\": \"You are using deprecated API endpoints. Please read our documentation (https://docs.materialsproject.org) and upgrade to the latest version of the mp-api client (https://pypi.org/project/mp-api/).\", \"version\": \"blocked\"}\n"
     ]
    },
    {
     "name": "stderr",
     "output_type": "stream",
     "text": [
      "Retrieving MaterialsDoc documents: 100%|██████████| 1/1 [00:00<?, ?it/s]\n",
      "c:\\Users\\Kered\\GAN_Mastery\\.venv\\lib\\site-packages\\mp_api\\client\\core\\client.py:1022: UserWarning: Document primary key has changed from mp-6027 to mp-6027, returning data for mp-6027 in materials/core route.    \n",
      "  warnings.warn(\n"
     ]
    },
    {
     "name": "stdout",
     "output_type": "stream",
     "text": [
      "Error processing mp-6027: REST query returned with error status code 403 on URL https://api.materialsproject.org/materials/core/mp-6027/?_all_fields=True&_limit=1 with message:\n",
      "Response {\"error\": \"You are using deprecated API endpoints. Please read our documentation (https://docs.materialsproject.org) and upgrade to the latest version of the mp-api client (https://pypi.org/project/mp-api/).\", \"version\": \"blocked\"}\n"
     ]
    },
    {
     "name": "stderr",
     "output_type": "stream",
     "text": [
      "Retrieving MaterialsDoc documents: 100%|██████████| 1/1 [00:00<?, ?it/s]\n",
      "c:\\Users\\Kered\\GAN_Mastery\\.venv\\lib\\site-packages\\mp_api\\client\\core\\client.py:1022: UserWarning: Document primary key has changed from mp-22215 to mp-22215, returning data for mp-22215 in materials/core route.    \n",
      "  warnings.warn(\n"
     ]
    },
    {
     "name": "stdout",
     "output_type": "stream",
     "text": [
      "Error processing mp-22215: REST query returned with error status code 403 on URL https://api.materialsproject.org/materials/core/mp-22215/?_all_fields=True&_limit=1 with message:\n",
      "Response {\"error\": \"You are using deprecated API endpoints. Please read our documentation (https://docs.materialsproject.org) and upgrade to the latest version of the mp-api client (https://pypi.org/project/mp-api/).\", \"version\": \"blocked\"}\n"
     ]
    },
    {
     "name": "stderr",
     "output_type": "stream",
     "text": [
      "Retrieving MaterialsDoc documents: 100%|██████████| 1/1 [00:00<?, ?it/s]\n",
      "c:\\Users\\Kered\\GAN_Mastery\\.venv\\lib\\site-packages\\mp_api\\client\\core\\client.py:1022: UserWarning: Document primary key has changed from mp-6583 to mp-6583, returning data for mp-6583 in materials/core route.    \n",
      "  warnings.warn(\n"
     ]
    },
    {
     "name": "stdout",
     "output_type": "stream",
     "text": [
      "Error processing mp-6583: REST query returned with error status code 403 on URL https://api.materialsproject.org/materials/core/mp-6583/?_all_fields=True&_limit=1 with message:\n",
      "Response {\"error\": \"You are using deprecated API endpoints. Please read our documentation (https://docs.materialsproject.org) and upgrade to the latest version of the mp-api client (https://pypi.org/project/mp-api/).\", \"version\": \"blocked\"}\n"
     ]
    },
    {
     "name": "stderr",
     "output_type": "stream",
     "text": [
      "Retrieving MaterialsDoc documents: 100%|██████████| 1/1 [00:00<?, ?it/s]\n",
      "c:\\Users\\Kered\\GAN_Mastery\\.venv\\lib\\site-packages\\mp_api\\client\\core\\client.py:1022: UserWarning: Document primary key has changed from mp-6710 to mp-6710, returning data for mp-6710 in materials/core route.    \n",
      "  warnings.warn(\n"
     ]
    },
    {
     "name": "stdout",
     "output_type": "stream",
     "text": [
      "Error processing mp-6710: REST query returned with error status code 403 on URL https://api.materialsproject.org/materials/core/mp-6710/?_all_fields=True&_limit=1 with message:\n",
      "Response {\"error\": \"You are using deprecated API endpoints. Please read our documentation (https://docs.materialsproject.org) and upgrade to the latest version of the mp-api client (https://pypi.org/project/mp-api/).\", \"version\": \"blocked\"}\n"
     ]
    },
    {
     "name": "stderr",
     "output_type": "stream",
     "text": [
      "Retrieving MaterialsDoc documents: 100%|██████████| 1/1 [00:00<?, ?it/s]\n",
      "c:\\Users\\Kered\\GAN_Mastery\\.venv\\lib\\site-packages\\mp_api\\client\\core\\client.py:1022: UserWarning: Document primary key has changed from mp-1228402 to mp-1228402, returning data for mp-1228402 in materials/core route.    \n",
      "  warnings.warn(\n"
     ]
    },
    {
     "name": "stdout",
     "output_type": "stream",
     "text": [
      "Error processing mp-1228402: REST query returned with error status code 403 on URL https://api.materialsproject.org/materials/core/mp-1228402/?_all_fields=True&_limit=1 with message:\n",
      "Response {\"error\": \"You are using deprecated API endpoints. Please read our documentation (https://docs.materialsproject.org) and upgrade to the latest version of the mp-api client (https://pypi.org/project/mp-api/).\", \"version\": \"blocked\"}\n"
     ]
    },
    {
     "name": "stderr",
     "output_type": "stream",
     "text": [
      "Retrieving MaterialsDoc documents: 100%|██████████| 1/1 [00:00<?, ?it/s]\n",
      "c:\\Users\\Kered\\GAN_Mastery\\.venv\\lib\\site-packages\\mp_api\\client\\core\\client.py:1022: UserWarning: Document primary key has changed from mp-654374 to mp-654374, returning data for mp-654374 in materials/core route.    \n",
      "  warnings.warn(\n"
     ]
    },
    {
     "name": "stdout",
     "output_type": "stream",
     "text": [
      "Error processing mp-654374: REST query returned with error status code 403 on URL https://api.materialsproject.org/materials/core/mp-654374/?_all_fields=True&_limit=1 with message:\n",
      "Response {\"error\": \"You are using deprecated API endpoints. Please read our documentation (https://docs.materialsproject.org) and upgrade to the latest version of the mp-api client (https://pypi.org/project/mp-api/).\", \"version\": \"blocked\"}\n"
     ]
    },
    {
     "name": "stderr",
     "output_type": "stream",
     "text": [
      "Retrieving MaterialsDoc documents: 100%|██████████| 1/1 [00:00<00:00, 64.01it/s]\n",
      "c:\\Users\\Kered\\GAN_Mastery\\.venv\\lib\\site-packages\\mp_api\\client\\core\\client.py:1022: UserWarning: Document primary key has changed from mp-6885 to mp-6885, returning data for mp-6885 in materials/core route.    \n",
      "  warnings.warn(\n"
     ]
    },
    {
     "name": "stdout",
     "output_type": "stream",
     "text": [
      "Error processing mp-6885: REST query returned with error status code 403 on URL https://api.materialsproject.org/materials/core/mp-6885/?_all_fields=True&_limit=1 with message:\n",
      "Response {\"error\": \"You are using deprecated API endpoints. Please read our documentation (https://docs.materialsproject.org) and upgrade to the latest version of the mp-api client (https://pypi.org/project/mp-api/).\", \"version\": \"blocked\"}\n"
     ]
    },
    {
     "name": "stderr",
     "output_type": "stream",
     "text": [
      "Retrieving MaterialsDoc documents: 100%|██████████| 1/1 [00:00<?, ?it/s]\n",
      "c:\\Users\\Kered\\GAN_Mastery\\.venv\\lib\\site-packages\\mp_api\\client\\core\\client.py:1022: UserWarning: Document primary key has changed from mp-632802 to mp-632802, returning data for mp-632802 in materials/core route.    \n",
      "  warnings.warn(\n"
     ]
    },
    {
     "name": "stdout",
     "output_type": "stream",
     "text": [
      "Error processing mp-632802: REST query returned with error status code 403 on URL https://api.materialsproject.org/materials/core/mp-632802/?_all_fields=True&_limit=1 with message:\n",
      "Response {\"error\": \"You are using deprecated API endpoints. Please read our documentation (https://docs.materialsproject.org) and upgrade to the latest version of the mp-api client (https://pypi.org/project/mp-api/).\", \"version\": \"blocked\"}\n"
     ]
    },
    {
     "name": "stderr",
     "output_type": "stream",
     "text": [
      "Retrieving MaterialsDoc documents: 100%|██████████| 1/1 [00:00<00:00, 1004.86it/s]\n",
      "c:\\Users\\Kered\\GAN_Mastery\\.venv\\lib\\site-packages\\mp_api\\client\\core\\client.py:1022: UserWarning: Document primary key has changed from mp-6879 to mp-6879, returning data for mp-6879 in materials/core route.    \n",
      "  warnings.warn(\n"
     ]
    },
    {
     "name": "stdout",
     "output_type": "stream",
     "text": [
      "Error processing mp-6879: REST query returned with error status code 403 on URL https://api.materialsproject.org/materials/core/mp-6879/?_all_fields=True&_limit=1 with message:\n",
      "Response {\"error\": \"You are using deprecated API endpoints. Please read our documentation (https://docs.materialsproject.org) and upgrade to the latest version of the mp-api client (https://pypi.org/project/mp-api/).\", \"version\": \"blocked\"}\n"
     ]
    },
    {
     "name": "stderr",
     "output_type": "stream",
     "text": [
      "Retrieving MaterialsDoc documents: 100%|██████████| 1/1 [00:00<?, ?it/s]\n",
      "c:\\Users\\Kered\\GAN_Mastery\\.venv\\lib\\site-packages\\mp_api\\client\\core\\client.py:1022: UserWarning: Document primary key has changed from mp-22601 to mp-22601, returning data for mp-22601 in materials/core route.    \n",
      "  warnings.warn(\n"
     ]
    },
    {
     "name": "stdout",
     "output_type": "stream",
     "text": [
      "Error processing mp-22601: REST query returned with error status code 403 on URL https://api.materialsproject.org/materials/core/mp-22601/?_all_fields=True&_limit=1 with message:\n",
      "Response {\"error\": \"You are using deprecated API endpoints. Please read our documentation (https://docs.materialsproject.org) and upgrade to the latest version of the mp-api client (https://pypi.org/project/mp-api/).\", \"version\": \"blocked\"}\n"
     ]
    },
    {
     "name": "stderr",
     "output_type": "stream",
     "text": [
      "Retrieving MaterialsDoc documents: 100%|██████████| 1/1 [00:00<?, ?it/s]\n",
      "c:\\Users\\Kered\\GAN_Mastery\\.venv\\lib\\site-packages\\mp_api\\client\\core\\client.py:1022: UserWarning: Document primary key has changed from mp-1228620 to mp-1228620, returning data for mp-1228620 in materials/core route.    \n",
      "  warnings.warn(\n"
     ]
    },
    {
     "name": "stdout",
     "output_type": "stream",
     "text": [
      "Error processing mp-1228620: REST query returned with error status code 403 on URL https://api.materialsproject.org/materials/core/mp-1228620/?_all_fields=True&_limit=1 with message:\n",
      "Response {\"error\": \"You are using deprecated API endpoints. Please read our documentation (https://docs.materialsproject.org) and upgrade to the latest version of the mp-api client (https://pypi.org/project/mp-api/).\", \"version\": \"blocked\"}\n"
     ]
    },
    {
     "name": "stderr",
     "output_type": "stream",
     "text": [
      "Retrieving MaterialsDoc documents: 100%|██████████| 1/1 [00:00<?, ?it/s]\n",
      "c:\\Users\\Kered\\GAN_Mastery\\.venv\\lib\\site-packages\\mp_api\\client\\core\\client.py:1022: UserWarning: Document primary key has changed from mp-6691 to mp-6691, returning data for mp-6691 in materials/core route.    \n",
      "  warnings.warn(\n"
     ]
    },
    {
     "name": "stdout",
     "output_type": "stream",
     "text": [
      "Error processing mp-6691: REST query returned with error status code 403 on URL https://api.materialsproject.org/materials/core/mp-6691/?_all_fields=True&_limit=1 with message:\n",
      "Response {\"error\": \"You are using deprecated API endpoints. Please read our documentation (https://docs.materialsproject.org) and upgrade to the latest version of the mp-api client (https://pypi.org/project/mp-api/).\", \"version\": \"blocked\"}\n"
     ]
    },
    {
     "name": "stderr",
     "output_type": "stream",
     "text": [
      "Retrieving MaterialsDoc documents: 100%|██████████| 1/1 [00:00<?, ?it/s]\n",
      "c:\\Users\\Kered\\GAN_Mastery\\.venv\\lib\\site-packages\\mp_api\\client\\core\\client.py:1022: UserWarning: Document primary key has changed from mp-1228495 to mp-1228495, returning data for mp-1228495 in materials/core route.    \n",
      "  warnings.warn(\n"
     ]
    },
    {
     "name": "stdout",
     "output_type": "stream",
     "text": [
      "Error processing mp-1228495: REST query returned with error status code 403 on URL https://api.materialsproject.org/materials/core/mp-1228495/?_all_fields=True&_limit=1 with message:\n",
      "Response {\"error\": \"You are using deprecated API endpoints. Please read our documentation (https://docs.materialsproject.org) and upgrade to the latest version of the mp-api client (https://pypi.org/project/mp-api/).\", \"version\": \"blocked\"}\n"
     ]
    },
    {
     "name": "stderr",
     "output_type": "stream",
     "text": [
      "Retrieving MaterialsDoc documents: 100%|██████████| 1/1 [00:00<?, ?it/s]\n",
      "c:\\Users\\Kered\\GAN_Mastery\\.venv\\lib\\site-packages\\mp_api\\client\\core\\client.py:1022: UserWarning: Document primary key has changed from mp-1228449 to mp-1228449, returning data for mp-1228449 in materials/core route.    \n",
      "  warnings.warn(\n"
     ]
    },
    {
     "name": "stdout",
     "output_type": "stream",
     "text": [
      "Error processing mp-1228449: REST query returned with error status code 403 on URL https://api.materialsproject.org/materials/core/mp-1228449/?_all_fields=True&_limit=1 with message:\n",
      "Response {\"error\": \"You are using deprecated API endpoints. Please read our documentation (https://docs.materialsproject.org) and upgrade to the latest version of the mp-api client (https://pypi.org/project/mp-api/).\", \"version\": \"blocked\"}\n"
     ]
    },
    {
     "name": "stderr",
     "output_type": "stream",
     "text": [
      "Retrieving MaterialsDoc documents: 100%|██████████| 1/1 [00:00<?, ?it/s]\n",
      "c:\\Users\\Kered\\GAN_Mastery\\.venv\\lib\\site-packages\\mp_api\\client\\core\\client.py:1022: UserWarning: Document primary key has changed from mp-1214711 to mp-1214711, returning data for mp-1214711 in materials/core route.    \n",
      "  warnings.warn(\n"
     ]
    },
    {
     "name": "stdout",
     "output_type": "stream",
     "text": [
      "Error processing mp-1214711: REST query returned with error status code 403 on URL https://api.materialsproject.org/materials/core/mp-1214711/?_all_fields=True&_limit=1 with message:\n",
      "Response {\"error\": \"You are using deprecated API endpoints. Please read our documentation (https://docs.materialsproject.org) and upgrade to the latest version of the mp-api client (https://pypi.org/project/mp-api/).\", \"version\": \"blocked\"}\n"
     ]
    },
    {
     "name": "stderr",
     "output_type": "stream",
     "text": [
      "Retrieving MaterialsDoc documents: 100%|██████████| 1/1 [00:00<?, ?it/s]\n",
      "c:\\Users\\Kered\\GAN_Mastery\\.venv\\lib\\site-packages\\mp_api\\client\\core\\client.py:1022: UserWarning: Document primary key has changed from mp-1214699 to mp-1214699, returning data for mp-1214699 in materials/core route.    \n",
      "  warnings.warn(\n"
     ]
    },
    {
     "name": "stdout",
     "output_type": "stream",
     "text": [
      "Error processing mp-1214699: REST query returned with error status code 403 on URL https://api.materialsproject.org/materials/core/mp-1214699/?_all_fields=True&_limit=1 with message:\n",
      "Response {\"error\": \"You are using deprecated API endpoints. Please read our documentation (https://docs.materialsproject.org) and upgrade to the latest version of the mp-api client (https://pypi.org/project/mp-api/).\", \"version\": \"blocked\"}\n"
     ]
    },
    {
     "name": "stderr",
     "output_type": "stream",
     "text": [
      "Retrieving MaterialsDoc documents: 100%|██████████| 1/1 [00:00<?, ?it/s]\n",
      "c:\\Users\\Kered\\GAN_Mastery\\.venv\\lib\\site-packages\\mp_api\\client\\core\\client.py:1022: UserWarning: Document primary key has changed from mp-1214814 to mp-1214814, returning data for mp-1214814 in materials/core route.    \n",
      "  warnings.warn(\n"
     ]
    },
    {
     "name": "stdout",
     "output_type": "stream",
     "text": [
      "Error processing mp-1214814: REST query returned with error status code 403 on URL https://api.materialsproject.org/materials/core/mp-1214814/?_all_fields=True&_limit=1 with message:\n",
      "Response {\"error\": \"You are using deprecated API endpoints. Please read our documentation (https://docs.materialsproject.org) and upgrade to the latest version of the mp-api client (https://pypi.org/project/mp-api/).\", \"version\": \"blocked\"}\n"
     ]
    },
    {
     "name": "stderr",
     "output_type": "stream",
     "text": [
      "Retrieving MaterialsDoc documents: 100%|██████████| 1/1 [00:00<?, ?it/s]"
     ]
    },
    {
     "name": "stdout",
     "output_type": "stream",
     "text": [
      "Error processing mp-1214652: REST query returned with error status code 403 on URL https://api.materialsproject.org/materials/core/mp-1214652/?_all_fields=True&_limit=1 with message:\n",
      "Response {\"error\": \"You are using deprecated API endpoints. Please read our documentation (https://docs.materialsproject.org) and upgrade to the latest version of the mp-api client (https://pypi.org/project/mp-api/).\", \"version\": \"blocked\"}"
     ]
    },
    {
     "name": "stderr",
     "output_type": "stream",
     "text": [
      "\n",
      "c:\\Users\\Kered\\GAN_Mastery\\.venv\\lib\\site-packages\\mp_api\\client\\core\\client.py:1022: UserWarning: Document primary key has changed from mp-1214652 to mp-1214652, returning data for mp-1214652 in materials/core route.    \n",
      "  warnings.warn(\n"
     ]
    },
    {
     "name": "stdout",
     "output_type": "stream",
     "text": [
      "\n"
     ]
    },
    {
     "name": "stderr",
     "output_type": "stream",
     "text": [
      "Retrieving MaterialsDoc documents: 100%|██████████| 1/1 [00:00<?, ?it/s]\n",
      "c:\\Users\\Kered\\GAN_Mastery\\.venv\\lib\\site-packages\\mp_api\\client\\core\\client.py:1022: UserWarning: Document primary key has changed from mp-1214600 to mp-1214600, returning data for mp-1214600 in materials/core route.    \n",
      "  warnings.warn(\n"
     ]
    },
    {
     "name": "stdout",
     "output_type": "stream",
     "text": [
      "Error processing mp-1214600: REST query returned with error status code 403 on URL https://api.materialsproject.org/materials/core/mp-1214600/?_all_fields=True&_limit=1 with message:\n",
      "Response {\"error\": \"You are using deprecated API endpoints. Please read our documentation (https://docs.materialsproject.org) and upgrade to the latest version of the mp-api client (https://pypi.org/project/mp-api/).\", \"version\": \"blocked\"}\n"
     ]
    },
    {
     "name": "stderr",
     "output_type": "stream",
     "text": [
      "Retrieving MaterialsDoc documents: 100%|██████████| 1/1 [00:00<?, ?it/s]\n",
      "c:\\Users\\Kered\\GAN_Mastery\\.venv\\lib\\site-packages\\mp_api\\client\\core\\client.py:1022: UserWarning: Document primary key has changed from mp-1214590 to mp-1214590, returning data for mp-1214590 in materials/core route.    \n",
      "  warnings.warn(\n"
     ]
    },
    {
     "name": "stdout",
     "output_type": "stream",
     "text": [
      "Error processing mp-1214590: REST query returned with error status code 403 on URL https://api.materialsproject.org/materials/core/mp-1214590/?_all_fields=True&_limit=1 with message:\n",
      "Response {\"error\": \"You are using deprecated API endpoints. Please read our documentation (https://docs.materialsproject.org) and upgrade to the latest version of the mp-api client (https://pypi.org/project/mp-api/).\", \"version\": \"blocked\"}\n"
     ]
    },
    {
     "name": "stderr",
     "output_type": "stream",
     "text": [
      "Retrieving MaterialsDoc documents: 100%|██████████| 1/1 [00:00<?, ?it/s]\n",
      "c:\\Users\\Kered\\GAN_Mastery\\.venv\\lib\\site-packages\\mp_api\\client\\core\\client.py:1022: UserWarning: Document primary key has changed from mp-1214586 to mp-1214586, returning data for mp-1214586 in materials/core route.    \n",
      "  warnings.warn(\n"
     ]
    },
    {
     "name": "stdout",
     "output_type": "stream",
     "text": [
      "Error processing mp-1214586: REST query returned with error status code 403 on URL https://api.materialsproject.org/materials/core/mp-1214586/?_all_fields=True&_limit=1 with message:\n",
      "Response {\"error\": \"You are using deprecated API endpoints. Please read our documentation (https://docs.materialsproject.org) and upgrade to the latest version of the mp-api client (https://pypi.org/project/mp-api/).\", \"version\": \"blocked\"}\n"
     ]
    },
    {
     "name": "stderr",
     "output_type": "stream",
     "text": [
      "Retrieving MaterialsDoc documents: 100%|██████████| 1/1 [00:00<?, ?it/s]\n",
      "c:\\Users\\Kered\\GAN_Mastery\\.venv\\lib\\site-packages\\mp_api\\client\\core\\client.py:1022: UserWarning: Document primary key has changed from mp-1214571 to mp-1214571, returning data for mp-1214571 in materials/core route.    \n",
      "  warnings.warn(\n"
     ]
    },
    {
     "name": "stdout",
     "output_type": "stream",
     "text": [
      "Error processing mp-1214571: REST query returned with error status code 403 on URL https://api.materialsproject.org/materials/core/mp-1214571/?_all_fields=True&_limit=1 with message:\n",
      "Response {\"error\": \"You are using deprecated API endpoints. Please read our documentation (https://docs.materialsproject.org) and upgrade to the latest version of the mp-api client (https://pypi.org/project/mp-api/).\", \"version\": \"blocked\"}\n"
     ]
    },
    {
     "name": "stderr",
     "output_type": "stream",
     "text": [
      "Retrieving MaterialsDoc documents: 100%|██████████| 1/1 [00:00<?, ?it/s]\n",
      "c:\\Users\\Kered\\GAN_Mastery\\.venv\\lib\\site-packages\\mp_api\\client\\core\\client.py:1022: UserWarning: Document primary key has changed from mp-6562 to mp-6562, returning data for mp-6562 in materials/core route.    \n",
      "  warnings.warn(\n"
     ]
    },
    {
     "name": "stdout",
     "output_type": "stream",
     "text": [
      "Error processing mp-6562: REST query returned with error status code 403 on URL https://api.materialsproject.org/materials/core/mp-6562/?_all_fields=True&_limit=1 with message:\n",
      "Response {\"error\": \"You are using deprecated API endpoints. Please read our documentation (https://docs.materialsproject.org) and upgrade to the latest version of the mp-api client (https://pypi.org/project/mp-api/).\", \"version\": \"blocked\"}\n"
     ]
    },
    {
     "name": "stderr",
     "output_type": "stream",
     "text": [
      "Retrieving MaterialsDoc documents: 0it [00:00, ?it/s]\n"
     ]
    },
    {
     "name": "stdout",
     "output_type": "stream",
     "text": [
      "Error processing mp-1228447: No result for record mp-1228447.\n"
     ]
    },
    {
     "name": "stderr",
     "output_type": "stream",
     "text": [
      "Retrieving MaterialsDoc documents: 100%|██████████| 1/1 [00:00<?, ?it/s]\n",
      "c:\\Users\\Kered\\GAN_Mastery\\.venv\\lib\\site-packages\\mp_api\\client\\core\\client.py:1022: UserWarning: Document primary key has changed from mp-557043 to mp-557043, returning data for mp-557043 in materials/core route.    \n",
      "  warnings.warn(\n"
     ]
    },
    {
     "name": "stdout",
     "output_type": "stream",
     "text": [
      "Error processing mp-557043: REST query returned with error status code 403 on URL https://api.materialsproject.org/materials/core/mp-557043/?_all_fields=True&_limit=1 with message:\n",
      "Response {\"error\": \"You are using deprecated API endpoints. Please read our documentation (https://docs.materialsproject.org) and upgrade to the latest version of the mp-api client (https://pypi.org/project/mp-api/).\", \"version\": \"blocked\"}\n"
     ]
    },
    {
     "name": "stderr",
     "output_type": "stream",
     "text": [
      "Retrieving MaterialsDoc documents: 100%|██████████| 1/1 [00:00<?, ?it/s]\n",
      "c:\\Users\\Kered\\GAN_Mastery\\.venv\\lib\\site-packages\\mp_api\\client\\core\\client.py:1022: UserWarning: Document primary key has changed from mp-616471 to mp-616471, returning data for mp-616471 in materials/core route.    \n",
      "  warnings.warn(\n"
     ]
    },
    {
     "name": "stdout",
     "output_type": "stream",
     "text": [
      "Error processing mp-616471: REST query returned with error status code 403 on URL https://api.materialsproject.org/materials/core/mp-616471/?_all_fields=True&_limit=1 with message:\n",
      "Response {\"error\": \"You are using deprecated API endpoints. Please read our documentation (https://docs.materialsproject.org) and upgrade to the latest version of the mp-api client (https://pypi.org/project/mp-api/).\", \"version\": \"blocked\"}\n"
     ]
    },
    {
     "name": "stderr",
     "output_type": "stream",
     "text": [
      "Retrieving MaterialsDoc documents: 100%|██████████| 1/1 [00:00<00:00, 1082.12it/s]\n",
      "c:\\Users\\Kered\\GAN_Mastery\\.venv\\lib\\site-packages\\mp_api\\client\\core\\client.py:1022: UserWarning: Document primary key has changed from mp-1228503 to mp-1228503, returning data for mp-1228503 in materials/core route.    \n",
      "  warnings.warn(\n"
     ]
    },
    {
     "name": "stdout",
     "output_type": "stream",
     "text": [
      "Error processing mp-1228503: REST query returned with error status code 403 on URL https://api.materialsproject.org/materials/core/mp-1228503/?_all_fields=True&_limit=1 with message:\n",
      "Response {\"error\": \"You are using deprecated API endpoints. Please read our documentation (https://docs.materialsproject.org) and upgrade to the latest version of the mp-api client (https://pypi.org/project/mp-api/).\", \"version\": \"blocked\"}\n"
     ]
    },
    {
     "name": "stderr",
     "output_type": "stream",
     "text": [
      "Retrieving MaterialsDoc documents: 100%|██████████| 1/1 [00:00<?, ?it/s]\n",
      "c:\\Users\\Kered\\GAN_Mastery\\.venv\\lib\\site-packages\\mp_api\\client\\core\\client.py:1022: UserWarning: Document primary key has changed from mp-1214654 to mp-1214654, returning data for mp-1214654 in materials/core route.    \n",
      "  warnings.warn(\n"
     ]
    },
    {
     "name": "stdout",
     "output_type": "stream",
     "text": [
      "Error processing mp-1214654: REST query returned with error status code 403 on URL https://api.materialsproject.org/materials/core/mp-1214654/?_all_fields=True&_limit=1 with message:\n",
      "Response {\"error\": \"You are using deprecated API endpoints. Please read our documentation (https://docs.materialsproject.org) and upgrade to the latest version of the mp-api client (https://pypi.org/project/mp-api/).\", \"version\": \"blocked\"}\n"
     ]
    },
    {
     "name": "stderr",
     "output_type": "stream",
     "text": [
      "Retrieving MaterialsDoc documents: 100%|██████████| 1/1 [00:00<?, ?it/s]\n",
      "c:\\Users\\Kered\\GAN_Mastery\\.venv\\lib\\site-packages\\mp_api\\client\\core\\client.py:1022: UserWarning: Document primary key has changed from mp-1214655 to mp-1214655, returning data for mp-1214655 in materials/core route.    \n",
      "  warnings.warn(\n"
     ]
    },
    {
     "name": "stdout",
     "output_type": "stream",
     "text": [
      "Error processing mp-1214655: REST query returned with error status code 403 on URL https://api.materialsproject.org/materials/core/mp-1214655/?_all_fields=True&_limit=1 with message:\n",
      "Response {\"error\": \"You are using deprecated API endpoints. Please read our documentation (https://docs.materialsproject.org) and upgrade to the latest version of the mp-api client (https://pypi.org/project/mp-api/).\", \"version\": \"blocked\"}\n"
     ]
    },
    {
     "name": "stderr",
     "output_type": "stream",
     "text": [
      "Retrieving MaterialsDoc documents: 100%|██████████| 1/1 [00:00<?, ?it/s]\n",
      "c:\\Users\\Kered\\GAN_Mastery\\.venv\\lib\\site-packages\\mp_api\\client\\core\\client.py:1022: UserWarning: Document primary key has changed from mp-1228227 to mp-1228227, returning data for mp-1228227 in materials/core route.    \n",
      "  warnings.warn(\n"
     ]
    },
    {
     "name": "stdout",
     "output_type": "stream",
     "text": [
      "Error processing mp-1228227: REST query returned with error status code 403 on URL https://api.materialsproject.org/materials/core/mp-1228227/?_all_fields=True&_limit=1 with message:\n",
      "Response {\"error\": \"You are using deprecated API endpoints. Please read our documentation (https://docs.materialsproject.org) and upgrade to the latest version of the mp-api client (https://pypi.org/project/mp-api/).\", \"version\": \"blocked\"}\n"
     ]
    },
    {
     "name": "stderr",
     "output_type": "stream",
     "text": [
      "Retrieving MaterialsDoc documents: 100%|██████████| 1/1 [00:00<?, ?it/s]\n",
      "c:\\Users\\Kered\\GAN_Mastery\\.venv\\lib\\site-packages\\mp_api\\client\\core\\client.py:1022: UserWarning: Document primary key has changed from mp-622110 to mp-622110, returning data for mp-622110 in materials/core route.    \n",
      "  warnings.warn(\n"
     ]
    },
    {
     "name": "stdout",
     "output_type": "stream",
     "text": [
      "Error processing mp-622110: REST query returned with error status code 403 on URL https://api.materialsproject.org/materials/core/mp-622110/?_all_fields=True&_limit=1 with message:\n",
      "Response {\"error\": \"You are using deprecated API endpoints. Please read our documentation (https://docs.materialsproject.org) and upgrade to the latest version of the mp-api client (https://pypi.org/project/mp-api/).\", \"version\": \"blocked\"}\n"
     ]
    },
    {
     "name": "stderr",
     "output_type": "stream",
     "text": [
      "Retrieving MaterialsDoc documents: 100%|██████████| 1/1 [00:00<?, ?it/s]\n",
      "c:\\Users\\Kered\\GAN_Mastery\\.venv\\lib\\site-packages\\mp_api\\client\\core\\client.py:1022: UserWarning: Document primary key has changed from mp-1228601 to mp-1228601, returning data for mp-1228601 in materials/core route.    \n",
      "  warnings.warn(\n"
     ]
    },
    {
     "name": "stdout",
     "output_type": "stream",
     "text": [
      "Error processing mp-1228601: REST query returned with error status code 403 on URL https://api.materialsproject.org/materials/core/mp-1228601/?_all_fields=True&_limit=1 with message:\n",
      "Response {\"error\": \"You are using deprecated API endpoints. Please read our documentation (https://docs.materialsproject.org) and upgrade to the latest version of the mp-api client (https://pypi.org/project/mp-api/).\", \"version\": \"blocked\"}\n"
     ]
    },
    {
     "name": "stderr",
     "output_type": "stream",
     "text": [
      "Retrieving MaterialsDoc documents: 100%|██████████| 1/1 [00:00<?, ?it/s]"
     ]
    },
    {
     "name": "stdout",
     "output_type": "stream",
     "text": [
      "Error processing mp-622211: REST query returned with error status code 403 on URL https://api.materialsproject.org/materials/core/mp-622211/?_all_fields=True&_limit=1 with message:\n",
      "Response {\"error\": \"You are using deprecated API endpoints. Please read our documentation (https://docs.materialsproject.org) and upgrade to the latest version of the mp-api client (https://pypi.org/project/mp-api/).\", \"version\": \"blocked\"}\n"
     ]
    },
    {
     "name": "stderr",
     "output_type": "stream",
     "text": [
      "\n",
      "c:\\Users\\Kered\\GAN_Mastery\\.venv\\lib\\site-packages\\mp_api\\client\\core\\client.py:1022: UserWarning: Document primary key has changed from mp-622211 to mp-622211, returning data for mp-622211 in materials/core route.    \n",
      "  warnings.warn(\n",
      "Retrieving MaterialsDoc documents: 100%|██████████| 1/1 [00:00<?, ?it/s]\n",
      "c:\\Users\\Kered\\GAN_Mastery\\.venv\\lib\\site-packages\\mp_api\\client\\core\\client.py:1022: UserWarning: Document primary key has changed from mp-1228334 to mp-1228334, returning data for mp-1228334 in materials/core route.    \n",
      "  warnings.warn(\n"
     ]
    },
    {
     "name": "stdout",
     "output_type": "stream",
     "text": [
      "Error processing mp-1228334: REST query returned with error status code 403 on URL https://api.materialsproject.org/materials/core/mp-1228334/?_all_fields=True&_limit=1 with message:\n",
      "Response {\"error\": \"You are using deprecated API endpoints. Please read our documentation (https://docs.materialsproject.org) and upgrade to the latest version of the mp-api client (https://pypi.org/project/mp-api/).\", \"version\": \"blocked\"}\n"
     ]
    },
    {
     "name": "stderr",
     "output_type": "stream",
     "text": [
      "Retrieving MaterialsDoc documents: 100%|██████████| 1/1 [00:00<?, ?it/s]\n",
      "c:\\Users\\Kered\\GAN_Mastery\\.venv\\lib\\site-packages\\mp_api\\client\\core\\client.py:1022: UserWarning: Document primary key has changed from mp-1214572 to mp-1214572, returning data for mp-1214572 in materials/core route.    \n",
      "  warnings.warn(\n"
     ]
    },
    {
     "name": "stdout",
     "output_type": "stream",
     "text": [
      "Error processing mp-1214572: REST query returned with error status code 403 on URL https://api.materialsproject.org/materials/core/mp-1214572/?_all_fields=True&_limit=1 with message:\n",
      "Response {\"error\": \"You are using deprecated API endpoints. Please read our documentation (https://docs.materialsproject.org) and upgrade to the latest version of the mp-api client (https://pypi.org/project/mp-api/).\", \"version\": \"blocked\"}\n"
     ]
    },
    {
     "name": "stderr",
     "output_type": "stream",
     "text": [
      "Retrieving MaterialsDoc documents: 100%|██████████| 1/1 [00:00<?, ?it/s]\n",
      "c:\\Users\\Kered\\GAN_Mastery\\.venv\\lib\\site-packages\\mp_api\\client\\core\\client.py:1022: UserWarning: Document primary key has changed from mp-1228407 to mp-1228407, returning data for mp-1228407 in materials/core route.    \n",
      "  warnings.warn(\n"
     ]
    },
    {
     "name": "stdout",
     "output_type": "stream",
     "text": [
      "Error processing mp-1228407: REST query returned with error status code 403 on URL https://api.materialsproject.org/materials/core/mp-1228407/?_all_fields=True&_limit=1 with message:\n",
      "Response {\"error\": \"You are using deprecated API endpoints. Please read our documentation (https://docs.materialsproject.org) and upgrade to the latest version of the mp-api client (https://pypi.org/project/mp-api/).\", \"version\": \"blocked\"}\n"
     ]
    },
    {
     "name": "stderr",
     "output_type": "stream",
     "text": [
      "Retrieving MaterialsDoc documents: 100%|██████████| 1/1 [00:00<?, ?it/s]\n",
      "c:\\Users\\Kered\\GAN_Mastery\\.venv\\lib\\site-packages\\mp_api\\client\\core\\client.py:1022: UserWarning: Document primary key has changed from mp-6616 to mp-6616, returning data for mp-6616 in materials/core route.    \n",
      "  warnings.warn(\n"
     ]
    },
    {
     "name": "stdout",
     "output_type": "stream",
     "text": [
      "Error processing mp-6616: REST query returned with error status code 403 on URL https://api.materialsproject.org/materials/core/mp-6616/?_all_fields=True&_limit=1 with message:\n",
      "Response {\"error\": \"You are using deprecated API endpoints. Please read our documentation (https://docs.materialsproject.org) and upgrade to the latest version of the mp-api client (https://pypi.org/project/mp-api/).\", \"version\": \"blocked\"}\n"
     ]
    },
    {
     "name": "stderr",
     "output_type": "stream",
     "text": [
      "Retrieving MaterialsDoc documents: 100%|██████████| 1/1 [00:00<?, ?it/s]\n",
      "c:\\Users\\Kered\\GAN_Mastery\\.venv\\lib\\site-packages\\mp_api\\client\\core\\client.py:1022: UserWarning: Document primary key has changed from mp-1228253 to mp-1228253, returning data for mp-1228253 in materials/core route.    \n",
      "  warnings.warn(\n"
     ]
    },
    {
     "name": "stdout",
     "output_type": "stream",
     "text": [
      "Error processing mp-1228253: REST query returned with error status code 403 on URL https://api.materialsproject.org/materials/core/mp-1228253/?_all_fields=True&_limit=1 with message:\n",
      "Response {\"error\": \"You are using deprecated API endpoints. Please read our documentation (https://docs.materialsproject.org) and upgrade to the latest version of the mp-api client (https://pypi.org/project/mp-api/).\", \"version\": \"blocked\"}\n"
     ]
    },
    {
     "name": "stderr",
     "output_type": "stream",
     "text": [
      "Retrieving MaterialsDoc documents: 100%|██████████| 1/1 [00:00<?, ?it/s]\n",
      "c:\\Users\\Kered\\GAN_Mastery\\.venv\\lib\\site-packages\\mp_api\\client\\core\\client.py:1022: UserWarning: Document primary key has changed from mp-622210 to mp-622210, returning data for mp-622210 in materials/core route.    \n",
      "  warnings.warn(\n"
     ]
    },
    {
     "name": "stdout",
     "output_type": "stream",
     "text": [
      "Error processing mp-622210: REST query returned with error status code 403 on URL https://api.materialsproject.org/materials/core/mp-622210/?_all_fields=True&_limit=1 with message:\n",
      "Response {\"error\": \"You are using deprecated API endpoints. Please read our documentation (https://docs.materialsproject.org) and upgrade to the latest version of the mp-api client (https://pypi.org/project/mp-api/).\", \"version\": \"blocked\"}\n"
     ]
    },
    {
     "name": "stderr",
     "output_type": "stream",
     "text": [
      "Retrieving MaterialsDoc documents: 100%|██████████| 1/1 [00:00<?, ?it/s]\n",
      "c:\\Users\\Kered\\GAN_Mastery\\.venv\\lib\\site-packages\\mp_api\\client\\core\\client.py:1022: UserWarning: Document primary key has changed from mp-1228451 to mp-1228451, returning data for mp-1228451 in materials/core route.    \n",
      "  warnings.warn(\n"
     ]
    },
    {
     "name": "stdout",
     "output_type": "stream",
     "text": [
      "Error processing mp-1228451: REST query returned with error status code 403 on URL https://api.materialsproject.org/materials/core/mp-1228451/?_all_fields=True&_limit=1 with message:\n",
      "Response {\"error\": \"You are using deprecated API endpoints. Please read our documentation (https://docs.materialsproject.org) and upgrade to the latest version of the mp-api client (https://pypi.org/project/mp-api/).\", \"version\": \"blocked\"}\n"
     ]
    },
    {
     "name": "stderr",
     "output_type": "stream",
     "text": [
      "Retrieving MaterialsDoc documents: 100%|██████████| 1/1 [00:00<?, ?it/s]\n",
      "c:\\Users\\Kered\\GAN_Mastery\\.venv\\lib\\site-packages\\mp_api\\client\\core\\client.py:1022: UserWarning: Document primary key has changed from mp-20324 to mp-20324, returning data for mp-20324 in materials/core route.    \n",
      "  warnings.warn(\n"
     ]
    },
    {
     "name": "stdout",
     "output_type": "stream",
     "text": [
      "Error processing mp-20324: REST query returned with error status code 403 on URL https://api.materialsproject.org/materials/core/mp-20324/?_all_fields=True&_limit=1 with message:\n",
      "Response {\"error\": \"You are using deprecated API endpoints. Please read our documentation (https://docs.materialsproject.org) and upgrade to the latest version of the mp-api client (https://pypi.org/project/mp-api/).\", \"version\": \"blocked\"}\n"
     ]
    },
    {
     "name": "stderr",
     "output_type": "stream",
     "text": [
      "Retrieving MaterialsDoc documents: 100%|██████████| 1/1 [00:00<?, ?it/s]\n",
      "c:\\Users\\Kered\\GAN_Mastery\\.venv\\lib\\site-packages\\mp_api\\client\\core\\client.py:1022: UserWarning: Document primary key has changed from mp-1228202 to mp-1228202, returning data for mp-1228202 in materials/core route.    \n",
      "  warnings.warn(\n"
     ]
    },
    {
     "name": "stdout",
     "output_type": "stream",
     "text": [
      "Error processing mp-1228202: REST query returned with error status code 403 on URL https://api.materialsproject.org/materials/core/mp-1228202/?_all_fields=True&_limit=1 with message:\n",
      "Response {\"error\": \"You are using deprecated API endpoints. Please read our documentation (https://docs.materialsproject.org) and upgrade to the latest version of the mp-api client (https://pypi.org/project/mp-api/).\", \"version\": \"blocked\"}\n"
     ]
    },
    {
     "name": "stderr",
     "output_type": "stream",
     "text": [
      "Retrieving MaterialsDoc documents: 100%|██████████| 1/1 [00:00<?, ?it/s]\n",
      "c:\\Users\\Kered\\GAN_Mastery\\.venv\\lib\\site-packages\\mp_api\\client\\core\\client.py:1022: UserWarning: Document primary key has changed from mp-1228182 to mp-1228182, returning data for mp-1228182 in materials/core route.    \n",
      "  warnings.warn(\n"
     ]
    },
    {
     "name": "stdout",
     "output_type": "stream",
     "text": [
      "Error processing mp-1228182: REST query returned with error status code 403 on URL https://api.materialsproject.org/materials/core/mp-1228182/?_all_fields=True&_limit=1 with message:\n",
      "Response {\"error\": \"You are using deprecated API endpoints. Please read our documentation (https://docs.materialsproject.org) and upgrade to the latest version of the mp-api client (https://pypi.org/project/mp-api/).\", \"version\": \"blocked\"}\n"
     ]
    },
    {
     "name": "stderr",
     "output_type": "stream",
     "text": [
      "Retrieving MaterialsDoc documents: 100%|██████████| 1/1 [00:00<?, ?it/s]\n",
      "c:\\Users\\Kered\\GAN_Mastery\\.venv\\lib\\site-packages\\mp_api\\client\\core\\client.py:1022: UserWarning: Document primary key has changed from mp-1228206 to mp-1228206, returning data for mp-1228206 in materials/core route.    \n",
      "  warnings.warn(\n"
     ]
    },
    {
     "name": "stdout",
     "output_type": "stream",
     "text": [
      "Error processing mp-1228206: REST query returned with error status code 403 on URL https://api.materialsproject.org/materials/core/mp-1228206/?_all_fields=True&_limit=1 with message:\n",
      "Response {\"error\": \"You are using deprecated API endpoints. Please read our documentation (https://docs.materialsproject.org) and upgrade to the latest version of the mp-api client (https://pypi.org/project/mp-api/).\", \"version\": \"blocked\"}\n"
     ]
    },
    {
     "name": "stderr",
     "output_type": "stream",
     "text": [
      "Retrieving MaterialsDoc documents: 100%|██████████| 1/1 [00:00<?, ?it/s]\n",
      "c:\\Users\\Kered\\GAN_Mastery\\.venv\\lib\\site-packages\\mp_api\\client\\core\\client.py:1022: UserWarning: Document primary key has changed from mp-1214585 to mp-1214585, returning data for mp-1214585 in materials/core route.    \n",
      "  warnings.warn(\n"
     ]
    },
    {
     "name": "stdout",
     "output_type": "stream",
     "text": [
      "Error processing mp-1214585: REST query returned with error status code 403 on URL https://api.materialsproject.org/materials/core/mp-1214585/?_all_fields=True&_limit=1 with message:\n",
      "Response {\"error\": \"You are using deprecated API endpoints. Please read our documentation (https://docs.materialsproject.org) and upgrade to the latest version of the mp-api client (https://pypi.org/project/mp-api/).\", \"version\": \"blocked\"}\n"
     ]
    },
    {
     "name": "stderr",
     "output_type": "stream",
     "text": [
      "Retrieving MaterialsDoc documents: 100%|██████████| 1/1 [00:00<00:00, 60.37it/s]\n",
      "c:\\Users\\Kered\\GAN_Mastery\\.venv\\lib\\site-packages\\mp_api\\client\\core\\client.py:1022: UserWarning: Document primary key has changed from mp-1214650 to mp-1214650, returning data for mp-1214650 in materials/core route.    \n",
      "  warnings.warn(\n"
     ]
    },
    {
     "name": "stdout",
     "output_type": "stream",
     "text": [
      "Error processing mp-1214650: REST query returned with error status code 403 on URL https://api.materialsproject.org/materials/core/mp-1214650/?_all_fields=True&_limit=1 with message:\n",
      "Response {\"error\": \"You are using deprecated API endpoints. Please read our documentation (https://docs.materialsproject.org) and upgrade to the latest version of the mp-api client (https://pypi.org/project/mp-api/).\", \"version\": \"blocked\"}\n"
     ]
    },
    {
     "name": "stderr",
     "output_type": "stream",
     "text": [
      "Retrieving MaterialsDoc documents: 100%|██████████| 1/1 [00:00<?, ?it/s]\n",
      "c:\\Users\\Kered\\GAN_Mastery\\.venv\\lib\\site-packages\\mp_api\\client\\core\\client.py:1022: UserWarning: Document primary key has changed from mp-622108 to mp-622108, returning data for mp-622108 in materials/core route.    \n",
      "  warnings.warn(\n"
     ]
    },
    {
     "name": "stdout",
     "output_type": "stream",
     "text": [
      "Error processing mp-622108: REST query returned with error status code 403 on URL https://api.materialsproject.org/materials/core/mp-622108/?_all_fields=True&_limit=1 with message:\n",
      "Response {\"error\": \"You are using deprecated API endpoints. Please read our documentation (https://docs.materialsproject.org) and upgrade to the latest version of the mp-api client (https://pypi.org/project/mp-api/).\", \"version\": \"blocked\"}\n"
     ]
    },
    {
     "name": "stderr",
     "output_type": "stream",
     "text": [
      "Retrieving MaterialsDoc documents: 100%|██████████| 1/1 [00:00<00:00, 1005.11it/s]\n",
      "c:\\Users\\Kered\\GAN_Mastery\\.venv\\lib\\site-packages\\mp_api\\client\\core\\client.py:1022: UserWarning: Document primary key has changed from mp-6779 to mp-6779, returning data for mp-6779 in materials/core route.    \n",
      "  warnings.warn(\n"
     ]
    },
    {
     "name": "stdout",
     "output_type": "stream",
     "text": [
      "Error processing mp-6779: REST query returned with error status code 403 on URL https://api.materialsproject.org/materials/core/mp-6779/?_all_fields=True&_limit=1 with message:\n",
      "Response {\"error\": \"You are using deprecated API endpoints. Please read our documentation (https://docs.materialsproject.org) and upgrade to the latest version of the mp-api client (https://pypi.org/project/mp-api/).\", \"version\": \"blocked\"}\n"
     ]
    },
    {
     "name": "stderr",
     "output_type": "stream",
     "text": [
      "Retrieving MaterialsDoc documents: 100%|██████████| 1/1 [00:00<?, ?it/s]\n",
      "c:\\Users\\Kered\\GAN_Mastery\\.venv\\lib\\site-packages\\mp_api\\client\\core\\client.py:1022: UserWarning: Document primary key has changed from mp-1214709 to mp-1214709, returning data for mp-1214709 in materials/core route.    \n",
      "  warnings.warn(\n"
     ]
    },
    {
     "name": "stdout",
     "output_type": "stream",
     "text": [
      "Error processing mp-1214709: REST query returned with error status code 403 on URL https://api.materialsproject.org/materials/core/mp-1214709/?_all_fields=True&_limit=1 with message:\n",
      "Response {\"error\": \"You are using deprecated API endpoints. Please read our documentation (https://docs.materialsproject.org) and upgrade to the latest version of the mp-api client (https://pypi.org/project/mp-api/).\", \"version\": \"blocked\"}\n"
     ]
    },
    {
     "name": "stderr",
     "output_type": "stream",
     "text": [
      "Retrieving MaterialsDoc documents: 100%|██████████| 1/1 [00:00<?, ?it/s]\n",
      "c:\\Users\\Kered\\GAN_Mastery\\.venv\\lib\\site-packages\\mp_api\\client\\core\\client.py:1022: UserWarning: Document primary key has changed from mp-1228680 to mp-1228680, returning data for mp-1228680 in materials/core route.    \n",
      "  warnings.warn(\n"
     ]
    },
    {
     "name": "stdout",
     "output_type": "stream",
     "text": [
      "Error processing mp-1228680: REST query returned with error status code 403 on URL https://api.materialsproject.org/materials/core/mp-1228680/?_all_fields=True&_limit=1 with message:\n",
      "Response {\"error\": \"You are using deprecated API endpoints. Please read our documentation (https://docs.materialsproject.org) and upgrade to the latest version of the mp-api client (https://pypi.org/project/mp-api/).\", \"version\": \"blocked\"}\n"
     ]
    },
    {
     "name": "stderr",
     "output_type": "stream",
     "text": [
      "Retrieving MaterialsDoc documents: 100%|██████████| 1/1 [00:00<00:00, 979.29it/s]\n",
      "c:\\Users\\Kered\\GAN_Mastery\\.venv\\lib\\site-packages\\mp_api\\client\\core\\client.py:1022: UserWarning: Document primary key has changed from mp-1214577 to mp-1214577, returning data for mp-1214577 in materials/core route.    \n",
      "  warnings.warn(\n"
     ]
    },
    {
     "name": "stdout",
     "output_type": "stream",
     "text": [
      "Error processing mp-1214577: REST query returned with error status code 403 on URL https://api.materialsproject.org/materials/core/mp-1214577/?_all_fields=True&_limit=1 with message:\n",
      "Response {\"error\": \"You are using deprecated API endpoints. Please read our documentation (https://docs.materialsproject.org) and upgrade to the latest version of the mp-api client (https://pypi.org/project/mp-api/).\", \"version\": \"blocked\"}\n"
     ]
    },
    {
     "name": "stderr",
     "output_type": "stream",
     "text": [
      "Retrieving MaterialsDoc documents: 100%|██████████| 1/1 [00:00<?, ?it/s]\n",
      "c:\\Users\\Kered\\GAN_Mastery\\.venv\\lib\\site-packages\\mp_api\\client\\core\\client.py:1022: UserWarning: Document primary key has changed from mp-1218930 to mp-1218930, returning data for mp-1218930 in materials/core route.    \n",
      "  warnings.warn(\n"
     ]
    },
    {
     "name": "stdout",
     "output_type": "stream",
     "text": [
      "Error processing mp-1218930: REST query returned with error status code 403 on URL https://api.materialsproject.org/materials/core/mp-1218930/?_all_fields=True&_limit=1 with message:\n",
      "Response {\"error\": \"You are using deprecated API endpoints. Please read our documentation (https://docs.materialsproject.org) and upgrade to the latest version of the mp-api client (https://pypi.org/project/mp-api/).\", \"version\": \"blocked\"}\n"
     ]
    },
    {
     "name": "stderr",
     "output_type": "stream",
     "text": [
      "Retrieving MaterialsDoc documents: 100%|██████████| 1/1 [00:00<?, ?it/s]\n",
      "c:\\Users\\Kered\\GAN_Mastery\\.venv\\lib\\site-packages\\mp_api\\client\\core\\client.py:1022: UserWarning: Document primary key has changed from mp-1209015 to mp-1209015, returning data for mp-1209015 in materials/core route.    \n",
      "  warnings.warn(\n"
     ]
    },
    {
     "name": "stdout",
     "output_type": "stream",
     "text": [
      "Error processing mp-1209015: REST query returned with error status code 403 on URL https://api.materialsproject.org/materials/core/mp-1209015/?_all_fields=True&_limit=1 with message:\n",
      "Response {\"error\": \"You are using deprecated API endpoints. Please read our documentation (https://docs.materialsproject.org) and upgrade to the latest version of the mp-api client (https://pypi.org/project/mp-api/).\", \"version\": \"blocked\"}\n"
     ]
    },
    {
     "name": "stderr",
     "output_type": "stream",
     "text": [
      "Retrieving MaterialsDoc documents: 100%|██████████| 1/1 [00:00<?, ?it/s]\n",
      "c:\\Users\\Kered\\GAN_Mastery\\.venv\\lib\\site-packages\\mp_api\\client\\core\\client.py:1022: UserWarning: Document primary key has changed from mp-1218870 to mp-1218870, returning data for mp-1218870 in materials/core route.    \n",
      "  warnings.warn(\n"
     ]
    },
    {
     "name": "stdout",
     "output_type": "stream",
     "text": [
      "Error processing mp-1218870: REST query returned with error status code 403 on URL https://api.materialsproject.org/materials/core/mp-1218870/?_all_fields=True&_limit=1 with message:\n",
      "Response {\"error\": \"You are using deprecated API endpoints. Please read our documentation (https://docs.materialsproject.org) and upgrade to the latest version of the mp-api client (https://pypi.org/project/mp-api/).\", \"version\": \"blocked\"}\n"
     ]
    },
    {
     "name": "stderr",
     "output_type": "stream",
     "text": [
      "Retrieving MaterialsDoc documents: 100%|██████████| 1/1 [00:00<?, ?it/s]\n",
      "c:\\Users\\Kered\\GAN_Mastery\\.venv\\lib\\site-packages\\mp_api\\client\\core\\client.py:1022: UserWarning: Document primary key has changed from mp-1208752 to mp-1208752, returning data for mp-1208752 in materials/core route.    \n",
      "  warnings.warn(\n"
     ]
    },
    {
     "name": "stdout",
     "output_type": "stream",
     "text": [
      "Error processing mp-1208752: REST query returned with error status code 403 on URL https://api.materialsproject.org/materials/core/mp-1208752/?_all_fields=True&_limit=1 with message:\n",
      "Response {\"error\": \"You are using deprecated API endpoints. Please read our documentation (https://docs.materialsproject.org) and upgrade to the latest version of the mp-api client (https://pypi.org/project/mp-api/).\", \"version\": \"blocked\"}\n"
     ]
    },
    {
     "name": "stderr",
     "output_type": "stream",
     "text": [
      "Retrieving MaterialsDoc documents: 100%|██████████| 1/1 [00:00<?, ?it/s]\n",
      "c:\\Users\\Kered\\GAN_Mastery\\.venv\\lib\\site-packages\\mp_api\\client\\core\\client.py:1022: UserWarning: Document primary key has changed from mp-1208863 to mp-1208863, returning data for mp-1208863 in materials/core route.    \n",
      "  warnings.warn(\n"
     ]
    },
    {
     "name": "stdout",
     "output_type": "stream",
     "text": [
      "Error processing mp-1208863: REST query returned with error status code 403 on URL https://api.materialsproject.org/materials/core/mp-1208863/?_all_fields=True&_limit=1 with message:\n",
      "Response {\"error\": \"You are using deprecated API endpoints. Please read our documentation (https://docs.materialsproject.org) and upgrade to the latest version of the mp-api client (https://pypi.org/project/mp-api/).\", \"version\": \"blocked\"}\n"
     ]
    },
    {
     "name": "stderr",
     "output_type": "stream",
     "text": [
      "Retrieving MaterialsDoc documents: 100%|██████████| 1/1 [00:00<?, ?it/s]\n",
      "c:\\Users\\Kered\\GAN_Mastery\\.venv\\lib\\site-packages\\mp_api\\client\\core\\client.py:1022: UserWarning: Document primary key has changed from mp-1209124 to mp-1209124, returning data for mp-1209124 in materials/core route.    \n",
      "  warnings.warn(\n"
     ]
    },
    {
     "name": "stdout",
     "output_type": "stream",
     "text": [
      "Error processing mp-1209124: REST query returned with error status code 403 on URL https://api.materialsproject.org/materials/core/mp-1209124/?_all_fields=True&_limit=1 with message:\n",
      "Response {\"error\": \"You are using deprecated API endpoints. Please read our documentation (https://docs.materialsproject.org) and upgrade to the latest version of the mp-api client (https://pypi.org/project/mp-api/).\", \"version\": \"blocked\"}\n"
     ]
    },
    {
     "name": "stderr",
     "output_type": "stream",
     "text": [
      "Retrieving MaterialsDoc documents: 100%|██████████| 1/1 [00:00<?, ?it/s]\n",
      "c:\\Users\\Kered\\GAN_Mastery\\.venv\\lib\\site-packages\\mp_api\\client\\core\\client.py:1022: UserWarning: Document primary key has changed from mp-1208800 to mp-1208800, returning data for mp-1208800 in materials/core route.    \n",
      "  warnings.warn(\n"
     ]
    },
    {
     "name": "stdout",
     "output_type": "stream",
     "text": [
      "Error processing mp-1208800: REST query returned with error status code 403 on URL https://api.materialsproject.org/materials/core/mp-1208800/?_all_fields=True&_limit=1 with message:\n",
      "Response {\"error\": \"You are using deprecated API endpoints. Please read our documentation (https://docs.materialsproject.org) and upgrade to the latest version of the mp-api client (https://pypi.org/project/mp-api/).\", \"version\": \"blocked\"}\n"
     ]
    },
    {
     "name": "stderr",
     "output_type": "stream",
     "text": [
      "Retrieving MaterialsDoc documents: 100%|██████████| 1/1 [00:00<?, ?it/s]\n",
      "c:\\Users\\Kered\\GAN_Mastery\\.venv\\lib\\site-packages\\mp_api\\client\\core\\client.py:1022: UserWarning: Document primary key has changed from mp-555827 to mp-555827, returning data for mp-555827 in materials/core route.    \n",
      "  warnings.warn(\n"
     ]
    },
    {
     "name": "stdout",
     "output_type": "stream",
     "text": [
      "Error processing mp-555827: REST query returned with error status code 403 on URL https://api.materialsproject.org/materials/core/mp-555827/?_all_fields=True&_limit=1 with message:\n",
      "Response {\"error\": \"You are using deprecated API endpoints. Please read our documentation (https://docs.materialsproject.org) and upgrade to the latest version of the mp-api client (https://pypi.org/project/mp-api/).\", \"version\": \"blocked\"}\n"
     ]
    },
    {
     "name": "stderr",
     "output_type": "stream",
     "text": [
      "Retrieving MaterialsDoc documents: 100%|██████████| 1/1 [00:00<?, ?it/s]\n",
      "c:\\Users\\Kered\\GAN_Mastery\\.venv\\lib\\site-packages\\mp_api\\client\\core\\client.py:1022: UserWarning: Document primary key has changed from mp-505042 to mp-505042, returning data for mp-505042 in materials/core route.    \n",
      "  warnings.warn(\n"
     ]
    },
    {
     "name": "stdout",
     "output_type": "stream",
     "text": [
      "Error processing mp-505042: REST query returned with error status code 403 on URL https://api.materialsproject.org/materials/core/mp-505042/?_all_fields=True&_limit=1 with message:\n",
      "Response {\"error\": \"You are using deprecated API endpoints. Please read our documentation (https://docs.materialsproject.org) and upgrade to the latest version of the mp-api client (https://pypi.org/project/mp-api/).\", \"version\": \"blocked\"}\n"
     ]
    },
    {
     "name": "stderr",
     "output_type": "stream",
     "text": [
      "Retrieving MaterialsDoc documents: 100%|██████████| 1/1 [00:00<00:00, 123.71it/s]\n",
      "c:\\Users\\Kered\\GAN_Mastery\\.venv\\lib\\site-packages\\mp_api\\client\\core\\client.py:1022: UserWarning: Document primary key has changed from mp-1208931 to mp-1208931, returning data for mp-1208931 in materials/core route.    \n",
      "  warnings.warn(\n"
     ]
    },
    {
     "name": "stdout",
     "output_type": "stream",
     "text": [
      "Error processing mp-1208931: REST query returned with error status code 403 on URL https://api.materialsproject.org/materials/core/mp-1208931/?_all_fields=True&_limit=1 with message:\n",
      "Response {\"error\": \"You are using deprecated API endpoints. Please read our documentation (https://docs.materialsproject.org) and upgrade to the latest version of the mp-api client (https://pypi.org/project/mp-api/).\", \"version\": \"blocked\"}\n"
     ]
    },
    {
     "name": "stderr",
     "output_type": "stream",
     "text": [
      "Retrieving MaterialsDoc documents: 100%|██████████| 1/1 [00:00<?, ?it/s]\n",
      "c:\\Users\\Kered\\GAN_Mastery\\.venv\\lib\\site-packages\\mp_api\\client\\core\\client.py:1022: UserWarning: Document primary key has changed from mp-1208757 to mp-1208757, returning data for mp-1208757 in materials/core route.    \n",
      "  warnings.warn(\n"
     ]
    },
    {
     "name": "stdout",
     "output_type": "stream",
     "text": [
      "Error processing mp-1208757: REST query returned with error status code 403 on URL https://api.materialsproject.org/materials/core/mp-1208757/?_all_fields=True&_limit=1 with message:\n",
      "Response {\"error\": \"You are using deprecated API endpoints. Please read our documentation (https://docs.materialsproject.org) and upgrade to the latest version of the mp-api client (https://pypi.org/project/mp-api/).\", \"version\": \"blocked\"}\n"
     ]
    },
    {
     "name": "stderr",
     "output_type": "stream",
     "text": [
      "Retrieving MaterialsDoc documents: 100%|██████████| 1/1 [00:00<?, ?it/s]\n",
      "c:\\Users\\Kered\\GAN_Mastery\\.venv\\lib\\site-packages\\mp_api\\client\\core\\client.py:1022: UserWarning: Document primary key has changed from mp-545481 to mp-545481, returning data for mp-545481 in materials/core route.    \n",
      "  warnings.warn(\n"
     ]
    },
    {
     "name": "stdout",
     "output_type": "stream",
     "text": [
      "Error processing mp-545481: REST query returned with error status code 403 on URL https://api.materialsproject.org/materials/core/mp-545481/?_all_fields=True&_limit=1 with message:\n",
      "Response {\"error\": \"You are using deprecated API endpoints. Please read our documentation (https://docs.materialsproject.org) and upgrade to the latest version of the mp-api client (https://pypi.org/project/mp-api/).\", \"version\": \"blocked\"}\n"
     ]
    },
    {
     "name": "stderr",
     "output_type": "stream",
     "text": [
      "Retrieving MaterialsDoc documents: 100%|██████████| 1/1 [00:00<00:00, 957.60it/s]\n",
      "c:\\Users\\Kered\\GAN_Mastery\\.venv\\lib\\site-packages\\mp_api\\client\\core\\client.py:1022: UserWarning: Document primary key has changed from mp-1173193 to mp-1173193, returning data for mp-1173193 in materials/core route.    \n",
      "  warnings.warn(\n"
     ]
    },
    {
     "name": "stdout",
     "output_type": "stream",
     "text": [
      "Error processing mp-1173193: REST query returned with error status code 403 on URL https://api.materialsproject.org/materials/core/mp-1173193/?_all_fields=True&_limit=1 with message:\n",
      "Response {\"error\": \"You are using deprecated API endpoints. Please read our documentation (https://docs.materialsproject.org) and upgrade to the latest version of the mp-api client (https://pypi.org/project/mp-api/).\", \"version\": \"blocked\"}\n"
     ]
    },
    {
     "name": "stderr",
     "output_type": "stream",
     "text": [
      "Retrieving MaterialsDoc documents: 0it [00:00, ?it/s]"
     ]
    },
    {
     "name": "stdout",
     "output_type": "stream",
     "text": [
      "Error processing mp-1147662: No result for record mp-1147662.\n"
     ]
    },
    {
     "name": "stderr",
     "output_type": "stream",
     "text": [
      "\n",
      "Retrieving MaterialsDoc documents: 100%|██████████| 1/1 [00:00<?, ?it/s]\n",
      "c:\\Users\\Kered\\GAN_Mastery\\.venv\\lib\\site-packages\\mp_api\\client\\core\\client.py:1022: UserWarning: Document primary key has changed from mp-1218825 to mp-1218825, returning data for mp-1218825 in materials/core route.    \n",
      "  warnings.warn(\n"
     ]
    },
    {
     "name": "stdout",
     "output_type": "stream",
     "text": [
      "Error processing mp-1218825: REST query returned with error status code 403 on URL https://api.materialsproject.org/materials/core/mp-1218825/?_all_fields=True&_limit=1 with message:\n",
      "Response {\"error\": \"You are using deprecated API endpoints. Please read our documentation (https://docs.materialsproject.org) and upgrade to the latest version of the mp-api client (https://pypi.org/project/mp-api/).\", \"version\": \"blocked\"}\n"
     ]
    },
    {
     "name": "stderr",
     "output_type": "stream",
     "text": [
      "Retrieving MaterialsDoc documents: 100%|██████████| 1/1 [00:00<?, ?it/s]\n",
      "c:\\Users\\Kered\\GAN_Mastery\\.venv\\lib\\site-packages\\mp_api\\client\\core\\client.py:1022: UserWarning: Document primary key has changed from mp-510475 to mp-510475, returning data for mp-510475 in materials/core route.    \n",
      "  warnings.warn(\n"
     ]
    },
    {
     "name": "stdout",
     "output_type": "stream",
     "text": [
      "Error processing mp-510475: REST query returned with error status code 403 on URL https://api.materialsproject.org/materials/core/mp-510475/?_all_fields=True&_limit=1 with message:\n",
      "Response {\"error\": \"You are using deprecated API endpoints. Please read our documentation (https://docs.materialsproject.org) and upgrade to the latest version of the mp-api client (https://pypi.org/project/mp-api/).\", \"version\": \"blocked\"}\n"
     ]
    },
    {
     "name": "stderr",
     "output_type": "stream",
     "text": [
      "c:\\Users\\Kered\\GAN_Mastery\\.venv\\lib\\site-packages\\mp_api\\client\\core\\client.py:818: UserWarning: The server does not support the request made to https://api.materialsproject.org/materials/core/mvc-11697/?_all_fields=True&_limit=1. This may be due to an outdated mp-api package, or a problem with the query.\n",
      "  warnings.warn(\n",
      "Retrieving MaterialsDoc documents: 100%|██████████| 1/1 [00:00<?, ?it/s]\n",
      "c:\\Users\\Kered\\GAN_Mastery\\.venv\\lib\\site-packages\\mp_api\\client\\core\\client.py:1022: UserWarning: Document primary key has changed from mvc-11697 to mp-1432347, returning data for mp-1432347 in materials/core route.    \n",
      "  warnings.warn(\n"
     ]
    },
    {
     "name": "stdout",
     "output_type": "stream",
     "text": [
      "Error processing mvc-11697: REST query returned with error status code 403 on URL https://api.materialsproject.org/materials/core/mp-1432347/?_all_fields=True&_limit=1 with message:\n",
      "Response {\"error\": \"You are using deprecated API endpoints. Please read our documentation (https://docs.materialsproject.org) and upgrade to the latest version of the mp-api client (https://pypi.org/project/mp-api/).\", \"version\": \"blocked\"}\n"
     ]
    },
    {
     "name": "stderr",
     "output_type": "stream",
     "text": [
      "Retrieving MaterialsDoc documents: 100%|██████████| 1/1 [00:00<?, ?it/s]\n",
      "c:\\Users\\Kered\\GAN_Mastery\\.venv\\lib\\site-packages\\mp_api\\client\\core\\client.py:1022: UserWarning: Document primary key has changed from mp-1222802 to mp-1222802, returning data for mp-1222802 in materials/core route.    \n",
      "  warnings.warn(\n"
     ]
    },
    {
     "name": "stdout",
     "output_type": "stream",
     "text": [
      "Error processing mp-1222802: REST query returned with error status code 403 on URL https://api.materialsproject.org/materials/core/mp-1222802/?_all_fields=True&_limit=1 with message:\n",
      "Response {\"error\": \"You are using deprecated API endpoints. Please read our documentation (https://docs.materialsproject.org) and upgrade to the latest version of the mp-api client (https://pypi.org/project/mp-api/).\", \"version\": \"blocked\"}\n"
     ]
    },
    {
     "name": "stderr",
     "output_type": "stream",
     "text": [
      "Retrieving MaterialsDoc documents: 100%|██████████| 1/1 [00:00<?, ?it/s]"
     ]
    },
    {
     "name": "stdout",
     "output_type": "stream",
     "text": [
      "Error processing mp-1198573: REST query returned with error status code 403 on URL https://api.materialsproject.org/materials/core/mp-1198573/?_all_fields=True&_limit=1 with message:\n",
      "Response {\"error\": \"You are using deprecated API endpoints. Please read our documentation (https://docs.materialsproject.org) and upgrade to the latest version of the mp-api client (https://pypi.org/project/mp-api/).\", \"version\": \"blocked\"}\n"
     ]
    },
    {
     "name": "stderr",
     "output_type": "stream",
     "text": [
      "\n",
      "c:\\Users\\Kered\\GAN_Mastery\\.venv\\lib\\site-packages\\mp_api\\client\\core\\client.py:1022: UserWarning: Document primary key has changed from mp-1198573 to mp-1198573, returning data for mp-1198573 in materials/core route.    \n",
      "  warnings.warn(\n",
      "Retrieving MaterialsDoc documents: 100%|██████████| 1/1 [00:00<00:00, 1001.03it/s]\n",
      "c:\\Users\\Kered\\GAN_Mastery\\.venv\\lib\\site-packages\\mp_api\\client\\core\\client.py:1022: UserWarning: Document primary key has changed from mp-752673 to mp-752673, returning data for mp-752673 in materials/core route.    \n",
      "  warnings.warn(\n"
     ]
    },
    {
     "name": "stdout",
     "output_type": "stream",
     "text": [
      "Error processing mp-752673: REST query returned with error status code 403 on URL https://api.materialsproject.org/materials/core/mp-752673/?_all_fields=True&_limit=1 with message:\n",
      "Response {\"error\": \"You are using deprecated API endpoints. Please read our documentation (https://docs.materialsproject.org) and upgrade to the latest version of the mp-api client (https://pypi.org/project/mp-api/).\", \"version\": \"blocked\"}\n"
     ]
    },
    {
     "name": "stderr",
     "output_type": "stream",
     "text": [
      "Retrieving MaterialsDoc documents: 100%|██████████| 1/1 [00:00<00:00, 1002.22it/s]\n",
      "c:\\Users\\Kered\\GAN_Mastery\\.venv\\lib\\site-packages\\mp_api\\client\\core\\client.py:1022: UserWarning: Document primary key has changed from mp-1100986 to mp-1100986, returning data for mp-1100986 in materials/core route.    \n",
      "  warnings.warn(\n"
     ]
    },
    {
     "name": "stdout",
     "output_type": "stream",
     "text": [
      "Error processing mp-1100986: REST query returned with error status code 403 on URL https://api.materialsproject.org/materials/core/mp-1100986/?_all_fields=True&_limit=1 with message:\n",
      "Response {\"error\": \"You are using deprecated API endpoints. Please read our documentation (https://docs.materialsproject.org) and upgrade to the latest version of the mp-api client (https://pypi.org/project/mp-api/).\", \"version\": \"blocked\"}\n"
     ]
    },
    {
     "name": "stderr",
     "output_type": "stream",
     "text": [
      "Retrieving MaterialsDoc documents: 100%|██████████| 1/1 [00:00<?, ?it/s]\n",
      "c:\\Users\\Kered\\GAN_Mastery\\.venv\\lib\\site-packages\\mp_api\\client\\core\\client.py:1022: UserWarning: Document primary key has changed from mp-556575 to mp-556575, returning data for mp-556575 in materials/core route.    \n",
      "  warnings.warn(\n"
     ]
    },
    {
     "name": "stdout",
     "output_type": "stream",
     "text": [
      "Error processing mp-556575: REST query returned with error status code 403 on URL https://api.materialsproject.org/materials/core/mp-556575/?_all_fields=True&_limit=1 with message:\n",
      "Response {\"error\": \"You are using deprecated API endpoints. Please read our documentation (https://docs.materialsproject.org) and upgrade to the latest version of the mp-api client (https://pypi.org/project/mp-api/).\", \"version\": \"blocked\"}\n"
     ]
    },
    {
     "name": "stderr",
     "output_type": "stream",
     "text": [
      "Retrieving MaterialsDoc documents: 100%|██████████| 1/1 [00:00<00:00, 64.00it/s]\n",
      "c:\\Users\\Kered\\GAN_Mastery\\.venv\\lib\\site-packages\\mp_api\\client\\core\\client.py:1022: UserWarning: Document primary key has changed from mp-1194240 to mp-1194240, returning data for mp-1194240 in materials/core route.    \n",
      "  warnings.warn(\n"
     ]
    },
    {
     "name": "stdout",
     "output_type": "stream",
     "text": [
      "Error processing mp-1194240: REST query returned with error status code 403 on URL https://api.materialsproject.org/materials/core/mp-1194240/?_all_fields=True&_limit=1 with message:\n",
      "Response {\"error\": \"You are using deprecated API endpoints. Please read our documentation (https://docs.materialsproject.org) and upgrade to the latest version of the mp-api client (https://pypi.org/project/mp-api/).\", \"version\": \"blocked\"}\n"
     ]
    },
    {
     "name": "stderr",
     "output_type": "stream",
     "text": [
      "Retrieving MaterialsDoc documents: 100%|██████████| 1/1 [00:00<?, ?it/s]\n",
      "c:\\Users\\Kered\\GAN_Mastery\\.venv\\lib\\site-packages\\mp_api\\client\\core\\client.py:1022: UserWarning: Document primary key has changed from mp-1208765 to mp-1208765, returning data for mp-1208765 in materials/core route.    \n",
      "  warnings.warn(\n"
     ]
    },
    {
     "name": "stdout",
     "output_type": "stream",
     "text": [
      "Error processing mp-1208765: REST query returned with error status code 403 on URL https://api.materialsproject.org/materials/core/mp-1208765/?_all_fields=True&_limit=1 with message:\n",
      "Response {\"error\": \"You are using deprecated API endpoints. Please read our documentation (https://docs.materialsproject.org) and upgrade to the latest version of the mp-api client (https://pypi.org/project/mp-api/).\", \"version\": \"blocked\"}\n"
     ]
    },
    {
     "name": "stderr",
     "output_type": "stream",
     "text": [
      "Retrieving MaterialsDoc documents: 100%|██████████| 1/1 [00:00<?, ?it/s]\n",
      "c:\\Users\\Kered\\GAN_Mastery\\.venv\\lib\\site-packages\\mp_api\\client\\core\\client.py:1022: UserWarning: Document primary key has changed from mp-1208792 to mp-1208792, returning data for mp-1208792 in materials/core route.    \n",
      "  warnings.warn(\n"
     ]
    },
    {
     "name": "stdout",
     "output_type": "stream",
     "text": [
      "Error processing mp-1208792: REST query returned with error status code 403 on URL https://api.materialsproject.org/materials/core/mp-1208792/?_all_fields=True&_limit=1 with message:\n",
      "Response {\"error\": \"You are using deprecated API endpoints. Please read our documentation (https://docs.materialsproject.org) and upgrade to the latest version of the mp-api client (https://pypi.org/project/mp-api/).\", \"version\": \"blocked\"}\n"
     ]
    },
    {
     "name": "stderr",
     "output_type": "stream",
     "text": [
      "Retrieving MaterialsDoc documents: 100%|██████████| 1/1 [00:00<?, ?it/s]\n",
      "c:\\Users\\Kered\\GAN_Mastery\\.venv\\lib\\site-packages\\mp_api\\client\\core\\client.py:1022: UserWarning: Document primary key has changed from mp-1218486 to mp-1218486, returning data for mp-1218486 in materials/core route.    \n",
      "  warnings.warn(\n"
     ]
    },
    {
     "name": "stdout",
     "output_type": "stream",
     "text": [
      "Error processing mp-1218486: REST query returned with error status code 403 on URL https://api.materialsproject.org/materials/core/mp-1218486/?_all_fields=True&_limit=1 with message:\n",
      "Response {\"error\": \"You are using deprecated API endpoints. Please read our documentation (https://docs.materialsproject.org) and upgrade to the latest version of the mp-api client (https://pypi.org/project/mp-api/).\", \"version\": \"blocked\"}\n"
     ]
    },
    {
     "name": "stderr",
     "output_type": "stream",
     "text": [
      "Retrieving MaterialsDoc documents: 100%|██████████| 1/1 [00:00<00:00, 457.44it/s]\n",
      "c:\\Users\\Kered\\GAN_Mastery\\.venv\\lib\\site-packages\\mp_api\\client\\core\\client.py:1022: UserWarning: Document primary key has changed from mp-1218546 to mp-1218546, returning data for mp-1218546 in materials/core route.    \n",
      "  warnings.warn(\n"
     ]
    },
    {
     "name": "stdout",
     "output_type": "stream",
     "text": [
      "Error processing mp-1218546: REST query returned with error status code 403 on URL https://api.materialsproject.org/materials/core/mp-1218546/?_all_fields=True&_limit=1 with message:\n",
      "Response {\"error\": \"You are using deprecated API endpoints. Please read our documentation (https://docs.materialsproject.org) and upgrade to the latest version of the mp-api client (https://pypi.org/project/mp-api/).\", \"version\": \"blocked\"}\n"
     ]
    },
    {
     "name": "stderr",
     "output_type": "stream",
     "text": [
      "Retrieving MaterialsDoc documents: 100%|██████████| 1/1 [00:00<?, ?it/s]"
     ]
    },
    {
     "name": "stdout",
     "output_type": "stream",
     "text": [
      "Error processing mp-1218734: REST query returned with error status code 403 on URL https://api.materialsproject.org/materials/core/mp-1218734/?_all_fields=True&_limit=1 with message:\n",
      "Response {\"error\": \"You are using deprecated API endpoints. Please read our documentation (https://docs.materialsproject.org) and upgrade to the latest version of the mp-api client (https://pypi.org/project/mp-api/).\", \"version\": \"blocked\"}"
     ]
    },
    {
     "name": "stderr",
     "output_type": "stream",
     "text": [
      "\n",
      "c:\\Users\\Kered\\GAN_Mastery\\.venv\\lib\\site-packages\\mp_api\\client\\core\\client.py:1022: UserWarning: Document primary key has changed from mp-1218734 to mp-1218734, returning data for mp-1218734 in materials/core route.    \n",
      "  warnings.warn(\n"
     ]
    },
    {
     "name": "stdout",
     "output_type": "stream",
     "text": [
      "\n"
     ]
    },
    {
     "name": "stderr",
     "output_type": "stream",
     "text": [
      "Retrieving MaterialsDoc documents: 100%|██████████| 1/1 [00:00<?, ?it/s]\n",
      "c:\\Users\\Kered\\GAN_Mastery\\.venv\\lib\\site-packages\\mp_api\\client\\core\\client.py:1022: UserWarning: Document primary key has changed from mp-1218617 to mp-1218617, returning data for mp-1218617 in materials/core route.    \n",
      "  warnings.warn(\n"
     ]
    },
    {
     "name": "stdout",
     "output_type": "stream",
     "text": [
      "Error processing mp-1218617: REST query returned with error status code 403 on URL https://api.materialsproject.org/materials/core/mp-1218617/?_all_fields=True&_limit=1 with message:\n",
      "Response {\"error\": \"You are using deprecated API endpoints. Please read our documentation (https://docs.materialsproject.org) and upgrade to the latest version of the mp-api client (https://pypi.org/project/mp-api/).\", \"version\": \"blocked\"}\n"
     ]
    },
    {
     "name": "stderr",
     "output_type": "stream",
     "text": [
      "Retrieving MaterialsDoc documents: 100%|██████████| 1/1 [00:00<?, ?it/s]\n",
      "c:\\Users\\Kered\\GAN_Mastery\\.venv\\lib\\site-packages\\mp_api\\client\\core\\client.py:1022: UserWarning: Document primary key has changed from mp-20824 to mp-20824, returning data for mp-20824 in materials/core route.    \n",
      "  warnings.warn(\n"
     ]
    },
    {
     "name": "stdout",
     "output_type": "stream",
     "text": [
      "Error processing mp-20824: REST query returned with error status code 403 on URL https://api.materialsproject.org/materials/core/mp-20824/?_all_fields=True&_limit=1 with message:\n",
      "Response {\"error\": \"You are using deprecated API endpoints. Please read our documentation (https://docs.materialsproject.org) and upgrade to the latest version of the mp-api client (https://pypi.org/project/mp-api/).\", \"version\": \"blocked\"}\n"
     ]
    },
    {
     "name": "stderr",
     "output_type": "stream",
     "text": [
      "Retrieving MaterialsDoc documents: 100%|██████████| 1/1 [00:00<?, ?it/s]"
     ]
    },
    {
     "name": "stdout",
     "output_type": "stream",
     "text": [
      "Error processing mp-620364: REST query returned with error status code 403 on URL https://api.materialsproject.org/materials/core/mp-620364/?_all_fields=True&_limit=1 with message:\n",
      "Response {\"error\": \"You are using deprecated API endpoints. Please read our documentation (https://docs.materialsproject.org) and upgrade to the latest version of the mp-api client (https://pypi.org/project/mp-api/).\", \"version\": \"blocked\"}"
     ]
    },
    {
     "name": "stderr",
     "output_type": "stream",
     "text": [
      "\n",
      "c:\\Users\\Kered\\GAN_Mastery\\.venv\\lib\\site-packages\\mp_api\\client\\core\\client.py:1022: UserWarning: Document primary key has changed from mp-620364 to mp-620364, returning data for mp-620364 in materials/core route.    \n",
      "  warnings.warn(\n"
     ]
    },
    {
     "name": "stdout",
     "output_type": "stream",
     "text": [
      "\n"
     ]
    },
    {
     "name": "stderr",
     "output_type": "stream",
     "text": [
      "Retrieving MaterialsDoc documents: 100%|██████████| 1/1 [00:00<?, ?it/s]\n",
      "c:\\Users\\Kered\\GAN_Mastery\\.venv\\lib\\site-packages\\mp_api\\client\\core\\client.py:1022: UserWarning: Document primary key has changed from mp-1173221 to mp-1173221, returning data for mp-1173221 in materials/core route.    \n",
      "  warnings.warn(\n"
     ]
    },
    {
     "name": "stdout",
     "output_type": "stream",
     "text": [
      "Error processing mp-1173221: REST query returned with error status code 403 on URL https://api.materialsproject.org/materials/core/mp-1173221/?_all_fields=True&_limit=1 with message:\n",
      "Response {\"error\": \"You are using deprecated API endpoints. Please read our documentation (https://docs.materialsproject.org) and upgrade to the latest version of the mp-api client (https://pypi.org/project/mp-api/).\", \"version\": \"blocked\"}\n"
     ]
    },
    {
     "name": "stderr",
     "output_type": "stream",
     "text": [
      "Retrieving MaterialsDoc documents: 100%|██████████| 1/1 [00:00<?, ?it/s]\n",
      "c:\\Users\\Kered\\GAN_Mastery\\.venv\\lib\\site-packages\\mp_api\\client\\core\\client.py:1022: UserWarning: Document primary key has changed from mp-4826 to mp-4826, returning data for mp-4826 in materials/core route.    \n",
      "  warnings.warn(\n"
     ]
    },
    {
     "name": "stdout",
     "output_type": "stream",
     "text": [
      "Error processing mp-4826: REST query returned with error status code 403 on URL https://api.materialsproject.org/materials/core/mp-4826/?_all_fields=True&_limit=1 with message:\n",
      "Response {\"error\": \"You are using deprecated API endpoints. Please read our documentation (https://docs.materialsproject.org) and upgrade to the latest version of the mp-api client (https://pypi.org/project/mp-api/).\", \"version\": \"blocked\"}\n"
     ]
    },
    {
     "name": "stderr",
     "output_type": "stream",
     "text": [
      "Retrieving MaterialsDoc documents: 100%|██████████| 1/1 [00:00<?, ?it/s]"
     ]
    },
    {
     "name": "stdout",
     "output_type": "stream",
     "text": [
      "Error processing mp-23143: REST query returned with error status code 403 on URL https://api.materialsproject.org/materials/core/mp-23143/?_all_fields=True&_limit=1 with message:\n",
      "Response {\"error\": \"You are using deprecated API endpoints. Please read our documentation (https://docs.materialsproject.org) and upgrade to the latest version of the mp-api client (https://pypi.org/project/mp-api/).\", \"version\": \"blocked\"}\n"
     ]
    },
    {
     "name": "stderr",
     "output_type": "stream",
     "text": [
      "\n",
      "c:\\Users\\Kered\\GAN_Mastery\\.venv\\lib\\site-packages\\mp_api\\client\\core\\client.py:1022: UserWarning: Document primary key has changed from mp-23143 to mp-23143, returning data for mp-23143 in materials/core route.    \n",
      "  warnings.warn(\n",
      "Retrieving MaterialsDoc documents: 100%|██████████| 1/1 [00:00<?, ?it/s]\n",
      "c:\\Users\\Kered\\GAN_Mastery\\.venv\\lib\\site-packages\\mp_api\\client\\core\\client.py:1022: UserWarning: Document primary key has changed from mp-5869 to mp-5869, returning data for mp-5869 in materials/core route.    \n",
      "  warnings.warn(\n"
     ]
    },
    {
     "name": "stdout",
     "output_type": "stream",
     "text": [
      "Error processing mp-5869: REST query returned with error status code 403 on URL https://api.materialsproject.org/materials/core/mp-5869/?_all_fields=True&_limit=1 with message:\n",
      "Response {\"error\": \"You are using deprecated API endpoints. Please read our documentation (https://docs.materialsproject.org) and upgrade to the latest version of the mp-api client (https://pypi.org/project/mp-api/).\", \"version\": \"blocked\"}\n"
     ]
    },
    {
     "name": "stderr",
     "output_type": "stream",
     "text": [
      "Retrieving MaterialsDoc documents: 100%|██████████| 1/1 [00:00<?, ?it/s]\n",
      "c:\\Users\\Kered\\GAN_Mastery\\.venv\\lib\\site-packages\\mp_api\\client\\core\\client.py:1022: UserWarning: Document primary key has changed from mp-1209020 to mp-1209020, returning data for mp-1209020 in materials/core route.    \n",
      "  warnings.warn(\n"
     ]
    },
    {
     "name": "stdout",
     "output_type": "stream",
     "text": [
      "Error processing mp-1209020: REST query returned with error status code 403 on URL https://api.materialsproject.org/materials/core/mp-1209020/?_all_fields=True&_limit=1 with message:\n",
      "Response {\"error\": \"You are using deprecated API endpoints. Please read our documentation (https://docs.materialsproject.org) and upgrade to the latest version of the mp-api client (https://pypi.org/project/mp-api/).\", \"version\": \"blocked\"}\n"
     ]
    },
    {
     "name": "stderr",
     "output_type": "stream",
     "text": [
      "Retrieving MaterialsDoc documents: 100%|██████████| 1/1 [00:00<?, ?it/s]\n",
      "c:\\Users\\Kered\\GAN_Mastery\\.venv\\lib\\site-packages\\mp_api\\client\\core\\client.py:1022: UserWarning: Document primary key has changed from mp-1214003 to mp-1214003, returning data for mp-1214003 in materials/core route.    \n",
      "  warnings.warn(\n"
     ]
    },
    {
     "name": "stdout",
     "output_type": "stream",
     "text": [
      "Error processing mp-1214003: REST query returned with error status code 403 on URL https://api.materialsproject.org/materials/core/mp-1214003/?_all_fields=True&_limit=1 with message:\n",
      "Response {\"error\": \"You are using deprecated API endpoints. Please read our documentation (https://docs.materialsproject.org) and upgrade to the latest version of the mp-api client (https://pypi.org/project/mp-api/).\", \"version\": \"blocked\"}\n"
     ]
    },
    {
     "name": "stderr",
     "output_type": "stream",
     "text": [
      "Retrieving MaterialsDoc documents: 100%|██████████| 1/1 [00:00<?, ?it/s]\n",
      "c:\\Users\\Kered\\GAN_Mastery\\.venv\\lib\\site-packages\\mp_api\\client\\core\\client.py:1022: UserWarning: Document primary key has changed from mp-4158 to mp-4158, returning data for mp-4158 in materials/core route.    \n",
      "  warnings.warn(\n"
     ]
    },
    {
     "name": "stdout",
     "output_type": "stream",
     "text": [
      "Error processing mp-4158: REST query returned with error status code 403 on URL https://api.materialsproject.org/materials/core/mp-4158/?_all_fields=True&_limit=1 with message:\n",
      "Response {\"error\": \"You are using deprecated API endpoints. Please read our documentation (https://docs.materialsproject.org) and upgrade to the latest version of the mp-api client (https://pypi.org/project/mp-api/).\", \"version\": \"blocked\"}\n"
     ]
    },
    {
     "name": "stderr",
     "output_type": "stream",
     "text": [
      "Retrieving MaterialsDoc documents: 100%|██████████| 1/1 [00:00<?, ?it/s]\n",
      "c:\\Users\\Kered\\GAN_Mastery\\.venv\\lib\\site-packages\\mp_api\\client\\core\\client.py:1022: UserWarning: Document primary key has changed from mp-4181 to mp-4181, returning data for mp-4181 in materials/core route.    \n",
      "  warnings.warn(\n"
     ]
    },
    {
     "name": "stdout",
     "output_type": "stream",
     "text": [
      "Error processing mp-4181: REST query returned with error status code 403 on URL https://api.materialsproject.org/materials/core/mp-4181/?_all_fields=True&_limit=1 with message:\n",
      "Response {\"error\": \"You are using deprecated API endpoints. Please read our documentation (https://docs.materialsproject.org) and upgrade to the latest version of the mp-api client (https://pypi.org/project/mp-api/).\", \"version\": \"blocked\"}\n"
     ]
    },
    {
     "name": "stderr",
     "output_type": "stream",
     "text": [
      "Retrieving MaterialsDoc documents: 100%|██████████| 1/1 [00:00<?, ?it/s]\n",
      "c:\\Users\\Kered\\GAN_Mastery\\.venv\\lib\\site-packages\\mp_api\\client\\core\\client.py:1022: UserWarning: Document primary key has changed from mp-4210 to mp-4210, returning data for mp-4210 in materials/core route.    \n",
      "  warnings.warn(\n"
     ]
    },
    {
     "name": "stdout",
     "output_type": "stream",
     "text": [
      "Error processing mp-4210: REST query returned with error status code 403 on URL https://api.materialsproject.org/materials/core/mp-4210/?_all_fields=True&_limit=1 with message:\n",
      "Response {\"error\": \"You are using deprecated API endpoints. Please read our documentation (https://docs.materialsproject.org) and upgrade to the latest version of the mp-api client (https://pypi.org/project/mp-api/).\", \"version\": \"blocked\"}\n"
     ]
    },
    {
     "name": "stderr",
     "output_type": "stream",
     "text": [
      "Retrieving MaterialsDoc documents: 100%|██████████| 1/1 [00:00<00:00, 1001.98it/s]\n",
      "c:\\Users\\Kered\\GAN_Mastery\\.venv\\lib\\site-packages\\mp_api\\client\\core\\client.py:1022: UserWarning: Document primary key has changed from mp-22306 to mp-22306, returning data for mp-22306 in materials/core route.    \n",
      "  warnings.warn(\n"
     ]
    },
    {
     "name": "stdout",
     "output_type": "stream",
     "text": [
      "Error processing mp-22306: REST query returned with error status code 403 on URL https://api.materialsproject.org/materials/core/mp-22306/?_all_fields=True&_limit=1 with message:\n",
      "Response {\"error\": \"You are using deprecated API endpoints. Please read our documentation (https://docs.materialsproject.org) and upgrade to the latest version of the mp-api client (https://pypi.org/project/mp-api/).\", \"version\": \"blocked\"}\n"
     ]
    },
    {
     "name": "stderr",
     "output_type": "stream",
     "text": [
      "Retrieving MaterialsDoc documents: 100%|██████████| 1/1 [00:00<?, ?it/s]\n",
      "c:\\Users\\Kered\\GAN_Mastery\\.venv\\lib\\site-packages\\mp_api\\client\\core\\client.py:1022: UserWarning: Document primary key has changed from mp-676060 to mp-676060, returning data for mp-676060 in materials/core route.    \n",
      "  warnings.warn(\n"
     ]
    },
    {
     "name": "stdout",
     "output_type": "stream",
     "text": [
      "Error processing mp-676060: REST query returned with error status code 403 on URL https://api.materialsproject.org/materials/core/mp-676060/?_all_fields=True&_limit=1 with message:\n",
      "Response {\"error\": \"You are using deprecated API endpoints. Please read our documentation (https://docs.materialsproject.org) and upgrade to the latest version of the mp-api client (https://pypi.org/project/mp-api/).\", \"version\": \"blocked\"}\n"
     ]
    },
    {
     "name": "stderr",
     "output_type": "stream",
     "text": [
      "Retrieving MaterialsDoc documents: 100%|██████████| 1/1 [00:00<?, ?it/s]\n",
      "c:\\Users\\Kered\\GAN_Mastery\\.venv\\lib\\site-packages\\mp_api\\client\\core\\client.py:1022: UserWarning: Document primary key has changed from mp-1218607 to mp-1218607, returning data for mp-1218607 in materials/core route.    \n",
      "  warnings.warn(\n"
     ]
    },
    {
     "name": "stdout",
     "output_type": "stream",
     "text": [
      "Error processing mp-1218607: REST query returned with error status code 403 on URL https://api.materialsproject.org/materials/core/mp-1218607/?_all_fields=True&_limit=1 with message:\n",
      "Response {\"error\": \"You are using deprecated API endpoints. Please read our documentation (https://docs.materialsproject.org) and upgrade to the latest version of the mp-api client (https://pypi.org/project/mp-api/).\", \"version\": \"blocked\"}\n"
     ]
    },
    {
     "name": "stderr",
     "output_type": "stream",
     "text": [
      "Retrieving MaterialsDoc documents: 100%|██████████| 1/1 [00:00<?, ?it/s]\n",
      "c:\\Users\\Kered\\GAN_Mastery\\.venv\\lib\\site-packages\\mp_api\\client\\core\\client.py:1022: UserWarning: Document primary key has changed from mp-1218787 to mp-1218787, returning data for mp-1218787 in materials/core route.    \n",
      "  warnings.warn(\n"
     ]
    },
    {
     "name": "stdout",
     "output_type": "stream",
     "text": [
      "Error processing mp-1218787: REST query returned with error status code 403 on URL https://api.materialsproject.org/materials/core/mp-1218787/?_all_fields=True&_limit=1 with message:\n",
      "Response {\"error\": \"You are using deprecated API endpoints. Please read our documentation (https://docs.materialsproject.org) and upgrade to the latest version of the mp-api client (https://pypi.org/project/mp-api/).\", \"version\": \"blocked\"}\n"
     ]
    },
    {
     "name": "stderr",
     "output_type": "stream",
     "text": [
      "Retrieving MaterialsDoc documents: 100%|██████████| 1/1 [00:00<?, ?it/s]\n",
      "c:\\Users\\Kered\\GAN_Mastery\\.venv\\lib\\site-packages\\mp_api\\client\\core\\client.py:1022: UserWarning: Document primary key has changed from mp-1218883 to mp-1218883, returning data for mp-1218883 in materials/core route.    \n",
      "  warnings.warn(\n"
     ]
    },
    {
     "name": "stdout",
     "output_type": "stream",
     "text": [
      "Error processing mp-1218883: REST query returned with error status code 403 on URL https://api.materialsproject.org/materials/core/mp-1218883/?_all_fields=True&_limit=1 with message:\n",
      "Response {\"error\": \"You are using deprecated API endpoints. Please read our documentation (https://docs.materialsproject.org) and upgrade to the latest version of the mp-api client (https://pypi.org/project/mp-api/).\", \"version\": \"blocked\"}\n"
     ]
    },
    {
     "name": "stderr",
     "output_type": "stream",
     "text": [
      "Retrieving MaterialsDoc documents: 100%|██████████| 1/1 [00:00<?, ?it/s]\n",
      "c:\\Users\\Kered\\GAN_Mastery\\.venv\\lib\\site-packages\\mp_api\\client\\core\\client.py:1022: UserWarning: Document primary key has changed from mp-1218869 to mp-1218869, returning data for mp-1218869 in materials/core route.    \n",
      "  warnings.warn(\n"
     ]
    },
    {
     "name": "stdout",
     "output_type": "stream",
     "text": [
      "Error processing mp-1218869: REST query returned with error status code 403 on URL https://api.materialsproject.org/materials/core/mp-1218869/?_all_fields=True&_limit=1 with message:\n",
      "Response {\"error\": \"You are using deprecated API endpoints. Please read our documentation (https://docs.materialsproject.org) and upgrade to the latest version of the mp-api client (https://pypi.org/project/mp-api/).\", \"version\": \"blocked\"}\n"
     ]
    },
    {
     "name": "stderr",
     "output_type": "stream",
     "text": [
      "Retrieving MaterialsDoc documents: 100%|██████████| 1/1 [00:00<?, ?it/s]\n",
      "c:\\Users\\Kered\\GAN_Mastery\\.venv\\lib\\site-packages\\mp_api\\client\\core\\client.py:1022: UserWarning: Document primary key has changed from mp-1147678 to mp-1147678, returning data for mp-1147678 in materials/core route.    \n",
      "  warnings.warn(\n"
     ]
    },
    {
     "name": "stdout",
     "output_type": "stream",
     "text": [
      "Error processing mp-1147678: REST query returned with error status code 403 on URL https://api.materialsproject.org/materials/core/mp-1147678/?_all_fields=True&_limit=1 with message:\n",
      "Response {\"error\": \"You are using deprecated API endpoints. Please read our documentation (https://docs.materialsproject.org) and upgrade to the latest version of the mp-api client (https://pypi.org/project/mp-api/).\", \"version\": \"blocked\"}\n"
     ]
    },
    {
     "name": "stderr",
     "output_type": "stream",
     "text": [
      "Retrieving MaterialsDoc documents: 100%|██████████| 1/1 [00:00<?, ?it/s]\n",
      "c:\\Users\\Kered\\GAN_Mastery\\.venv\\lib\\site-packages\\mp_api\\client\\core\\client.py:1022: UserWarning: Document primary key has changed from mp-1218799 to mp-1218799, returning data for mp-1218799 in materials/core route.    \n",
      "  warnings.warn(\n"
     ]
    },
    {
     "name": "stdout",
     "output_type": "stream",
     "text": [
      "Error processing mp-1218799: REST query returned with error status code 403 on URL https://api.materialsproject.org/materials/core/mp-1218799/?_all_fields=True&_limit=1 with message:\n",
      "Response {\"error\": \"You are using deprecated API endpoints. Please read our documentation (https://docs.materialsproject.org) and upgrade to the latest version of the mp-api client (https://pypi.org/project/mp-api/).\", \"version\": \"blocked\"}\n"
     ]
    },
    {
     "name": "stderr",
     "output_type": "stream",
     "text": [
      "Retrieving MaterialsDoc documents: 100%|██████████| 1/1 [00:00<?, ?it/s]\n",
      "c:\\Users\\Kered\\GAN_Mastery\\.venv\\lib\\site-packages\\mp_api\\client\\core\\client.py:1022: UserWarning: Document primary key has changed from mp-1274783 to mp-1274449, returning data for mp-1274449 in materials/core route.    \n",
      "  warnings.warn(\n"
     ]
    },
    {
     "name": "stdout",
     "output_type": "stream",
     "text": [
      "Error processing mp-1274783: REST query returned with error status code 403 on URL https://api.materialsproject.org/materials/core/mp-1274449/?_all_fields=True&_limit=1 with message:\n",
      "Response {\"error\": \"You are using deprecated API endpoints. Please read our documentation (https://docs.materialsproject.org) and upgrade to the latest version of the mp-api client (https://pypi.org/project/mp-api/).\", \"version\": \"blocked\"}\n"
     ]
    },
    {
     "name": "stderr",
     "output_type": "stream",
     "text": [
      "Retrieving MaterialsDoc documents: 100%|██████████| 1/1 [00:00<?, ?it/s]\n",
      "c:\\Users\\Kered\\GAN_Mastery\\.venv\\lib\\site-packages\\mp_api\\client\\core\\client.py:1022: UserWarning: Document primary key has changed from mp-620290 to mp-620290, returning data for mp-620290 in materials/core route.    \n",
      "  warnings.warn(\n"
     ]
    },
    {
     "name": "stdout",
     "output_type": "stream",
     "text": [
      "Error processing mp-620290: REST query returned with error status code 403 on URL https://api.materialsproject.org/materials/core/mp-620290/?_all_fields=True&_limit=1 with message:\n",
      "Response {\"error\": \"You are using deprecated API endpoints. Please read our documentation (https://docs.materialsproject.org) and upgrade to the latest version of the mp-api client (https://pypi.org/project/mp-api/).\", \"version\": \"blocked\"}\n"
     ]
    },
    {
     "name": "stderr",
     "output_type": "stream",
     "text": [
      "Retrieving MaterialsDoc documents: 100%|██████████| 1/1 [00:00<00:00, 1002.94it/s]\n",
      "c:\\Users\\Kered\\GAN_Mastery\\.venv\\lib\\site-packages\\mp_api\\client\\core\\client.py:1022: UserWarning: Document primary key has changed from mp-510625 to mp-510625, returning data for mp-510625 in materials/core route.    \n",
      "  warnings.warn(\n"
     ]
    },
    {
     "name": "stdout",
     "output_type": "stream",
     "text": [
      "Error processing mp-510625: REST query returned with error status code 403 on URL https://api.materialsproject.org/materials/core/mp-510625/?_all_fields=True&_limit=1 with message:\n",
      "Response {\"error\": \"You are using deprecated API endpoints. Please read our documentation (https://docs.materialsproject.org) and upgrade to the latest version of the mp-api client (https://pypi.org/project/mp-api/).\", \"version\": \"blocked\"}\n"
     ]
    },
    {
     "name": "stderr",
     "output_type": "stream",
     "text": [
      "Retrieving MaterialsDoc documents: 100%|██████████| 1/1 [00:00<?, ?it/s]\n",
      "c:\\Users\\Kered\\GAN_Mastery\\.venv\\lib\\site-packages\\mp_api\\client\\core\\client.py:1022: UserWarning: Document primary key has changed from mp-559339 to mp-559339, returning data for mp-559339 in materials/core route.    \n",
      "  warnings.warn(\n"
     ]
    },
    {
     "name": "stdout",
     "output_type": "stream",
     "text": [
      "Error processing mp-559339: REST query returned with error status code 403 on URL https://api.materialsproject.org/materials/core/mp-559339/?_all_fields=True&_limit=1 with message:\n",
      "Response {\"error\": \"You are using deprecated API endpoints. Please read our documentation (https://docs.materialsproject.org) and upgrade to the latest version of the mp-api client (https://pypi.org/project/mp-api/).\", \"version\": \"blocked\"}\n"
     ]
    },
    {
     "name": "stderr",
     "output_type": "stream",
     "text": [
      "Retrieving MaterialsDoc documents: 100%|██████████| 1/1 [00:00<?, ?it/s]\n",
      "c:\\Users\\Kered\\GAN_Mastery\\.venv\\lib\\site-packages\\mp_api\\client\\core\\client.py:1022: UserWarning: Document primary key has changed from mp-14430 to mp-14430, returning data for mp-14430 in materials/core route.    \n",
      "  warnings.warn(\n"
     ]
    },
    {
     "name": "stdout",
     "output_type": "stream",
     "text": [
      "Error processing mp-14430: REST query returned with error status code 403 on URL https://api.materialsproject.org/materials/core/mp-14430/?_all_fields=True&_limit=1 with message:\n",
      "Response {\"error\": \"You are using deprecated API endpoints. Please read our documentation (https://docs.materialsproject.org) and upgrade to the latest version of the mp-api client (https://pypi.org/project/mp-api/).\", \"version\": \"blocked\"}\n"
     ]
    },
    {
     "name": "stderr",
     "output_type": "stream",
     "text": [
      "Retrieving MaterialsDoc documents: 100%|██████████| 1/1 [00:00<?, ?it/s]\n",
      "c:\\Users\\Kered\\GAN_Mastery\\.venv\\lib\\site-packages\\mp_api\\client\\core\\client.py:1022: UserWarning: Document primary key has changed from mp-5670 to mp-5670, returning data for mp-5670 in materials/core route.    \n",
      "  warnings.warn(\n"
     ]
    },
    {
     "name": "stdout",
     "output_type": "stream",
     "text": [
      "Error processing mp-5670: REST query returned with error status code 403 on URL https://api.materialsproject.org/materials/core/mp-5670/?_all_fields=True&_limit=1 with message:\n",
      "Response {\"error\": \"You are using deprecated API endpoints. Please read our documentation (https://docs.materialsproject.org) and upgrade to the latest version of the mp-api client (https://pypi.org/project/mp-api/).\", \"version\": \"blocked\"}\n"
     ]
    },
    {
     "name": "stderr",
     "output_type": "stream",
     "text": [
      "Retrieving MaterialsDoc documents: 100%|██████████| 1/1 [00:00<?, ?it/s]"
     ]
    },
    {
     "name": "stdout",
     "output_type": "stream",
     "text": [
      "Error processing mp-6676: REST query returned with error status code 403 on URL https://api.materialsproject.org/materials/core/mp-6676/?_all_fields=True&_limit=1 with message:\n",
      "Response {\"error\": \"You are using deprecated API endpoints. Please read our documentation (https://docs.materialsproject.org) and upgrade to the latest version of the mp-api client (https://pypi.org/project/mp-api/).\", \"version\": \"blocked\"}\n"
     ]
    },
    {
     "name": "stderr",
     "output_type": "stream",
     "text": [
      "\n",
      "c:\\Users\\Kered\\GAN_Mastery\\.venv\\lib\\site-packages\\mp_api\\client\\core\\client.py:1022: UserWarning: Document primary key has changed from mp-6676 to mp-6676, returning data for mp-6676 in materials/core route.    \n",
      "  warnings.warn(\n",
      "Retrieving MaterialsDoc documents: 100%|██████████| 1/1 [00:00<?, ?it/s]\n",
      "c:\\Users\\Kered\\GAN_Mastery\\.venv\\lib\\site-packages\\mp_api\\client\\core\\client.py:1022: UserWarning: Document primary key has changed from mp-1218154 to mp-1218154, returning data for mp-1218154 in materials/core route.    \n",
      "  warnings.warn(\n"
     ]
    },
    {
     "name": "stdout",
     "output_type": "stream",
     "text": [
      "Error processing mp-1218154: REST query returned with error status code 403 on URL https://api.materialsproject.org/materials/core/mp-1218154/?_all_fields=True&_limit=1 with message:\n",
      "Response {\"error\": \"You are using deprecated API endpoints. Please read our documentation (https://docs.materialsproject.org) and upgrade to the latest version of the mp-api client (https://pypi.org/project/mp-api/).\", \"version\": \"blocked\"}\n"
     ]
    },
    {
     "name": "stderr",
     "output_type": "stream",
     "text": [
      "Retrieving MaterialsDoc documents: 100%|██████████| 1/1 [00:00<?, ?it/s]\n",
      "c:\\Users\\Kered\\GAN_Mastery\\.venv\\lib\\site-packages\\mp_api\\client\\core\\client.py:1022: UserWarning: Document primary key has changed from mp-21496 to mp-21496, returning data for mp-21496 in materials/core route.    \n",
      "  warnings.warn(\n"
     ]
    },
    {
     "name": "stdout",
     "output_type": "stream",
     "text": [
      "Error processing mp-21496: REST query returned with error status code 403 on URL https://api.materialsproject.org/materials/core/mp-21496/?_all_fields=True&_limit=1 with message:\n",
      "Response {\"error\": \"You are using deprecated API endpoints. Please read our documentation (https://docs.materialsproject.org) and upgrade to the latest version of the mp-api client (https://pypi.org/project/mp-api/).\", \"version\": \"blocked\"}\n"
     ]
    },
    {
     "name": "stderr",
     "output_type": "stream",
     "text": [
      "Retrieving MaterialsDoc documents: 100%|██████████| 1/1 [00:00<00:00, 6384.02it/s]\n",
      "c:\\Users\\Kered\\GAN_Mastery\\.venv\\lib\\site-packages\\mp_api\\client\\core\\client.py:1022: UserWarning: Document primary key has changed from mp-1223395 to mp-1223395, returning data for mp-1223395 in materials/core route.    \n",
      "  warnings.warn(\n"
     ]
    },
    {
     "name": "stdout",
     "output_type": "stream",
     "text": [
      "Error processing mp-1223395: REST query returned with error status code 403 on URL https://api.materialsproject.org/materials/core/mp-1223395/?_all_fields=True&_limit=1 with message:\n",
      "Response {\"error\": \"You are using deprecated API endpoints. Please read our documentation (https://docs.materialsproject.org) and upgrade to the latest version of the mp-api client (https://pypi.org/project/mp-api/).\", \"version\": \"blocked\"}\n"
     ]
    },
    {
     "name": "stderr",
     "output_type": "stream",
     "text": [
      "Retrieving MaterialsDoc documents: 100%|██████████| 1/1 [00:00<?, ?it/s]\n",
      "c:\\Users\\Kered\\GAN_Mastery\\.venv\\lib\\site-packages\\mp_api\\client\\core\\client.py:1022: UserWarning: Document primary key has changed from mp-753901 to mp-753901, returning data for mp-753901 in materials/core route.    \n",
      "  warnings.warn(\n"
     ]
    },
    {
     "name": "stdout",
     "output_type": "stream",
     "text": [
      "Error processing mp-753901: REST query returned with error status code 403 on URL https://api.materialsproject.org/materials/core/mp-753901/?_all_fields=True&_limit=1 with message:\n",
      "Response {\"error\": \"You are using deprecated API endpoints. Please read our documentation (https://docs.materialsproject.org) and upgrade to the latest version of the mp-api client (https://pypi.org/project/mp-api/).\", \"version\": \"blocked\"}\n"
     ]
    },
    {
     "name": "stderr",
     "output_type": "stream",
     "text": [
      "Retrieving MaterialsDoc documents: 100%|██████████| 1/1 [00:00<?, ?it/s]\n",
      "c:\\Users\\Kered\\GAN_Mastery\\.venv\\lib\\site-packages\\mp_api\\client\\core\\client.py:1022: UserWarning: Document primary key has changed from mp-5787 to mp-5787, returning data for mp-5787 in materials/core route.    \n",
      "  warnings.warn(\n"
     ]
    },
    {
     "name": "stdout",
     "output_type": "stream",
     "text": [
      "Error processing mp-5787: REST query returned with error status code 403 on URL https://api.materialsproject.org/materials/core/mp-5787/?_all_fields=True&_limit=1 with message:\n",
      "Response {\"error\": \"You are using deprecated API endpoints. Please read our documentation (https://docs.materialsproject.org) and upgrade to the latest version of the mp-api client (https://pypi.org/project/mp-api/).\", \"version\": \"blocked\"}\n"
     ]
    },
    {
     "name": "stderr",
     "output_type": "stream",
     "text": [
      "Retrieving MaterialsDoc documents: 100%|██████████| 1/1 [00:00<00:00, 1002.70it/s]\n",
      "c:\\Users\\Kered\\GAN_Mastery\\.venv\\lib\\site-packages\\mp_api\\client\\core\\client.py:1022: UserWarning: Document primary key has changed from mp-754263 to mp-754263, returning data for mp-754263 in materials/core route.    \n",
      "  warnings.warn(\n"
     ]
    },
    {
     "name": "stdout",
     "output_type": "stream",
     "text": [
      "Error processing mp-754263: REST query returned with error status code 403 on URL https://api.materialsproject.org/materials/core/mp-754263/?_all_fields=True&_limit=1 with message:\n",
      "Response {\"error\": \"You are using deprecated API endpoints. Please read our documentation (https://docs.materialsproject.org) and upgrade to the latest version of the mp-api client (https://pypi.org/project/mp-api/).\", \"version\": \"blocked\"}\n"
     ]
    },
    {
     "name": "stderr",
     "output_type": "stream",
     "text": [
      "Retrieving MaterialsDoc documents: 100%|██████████| 1/1 [00:00<?, ?it/s]\n",
      "c:\\Users\\Kered\\GAN_Mastery\\.venv\\lib\\site-packages\\mp_api\\client\\core\\client.py:1022: UserWarning: Document primary key has changed from mp-37514 to mp-37514, returning data for mp-37514 in materials/core route.    \n",
      "  warnings.warn(\n"
     ]
    },
    {
     "name": "stdout",
     "output_type": "stream",
     "text": [
      "Error processing mp-37514: REST query returned with error status code 403 on URL https://api.materialsproject.org/materials/core/mp-37514/?_all_fields=True&_limit=1 with message:\n",
      "Response {\"error\": \"You are using deprecated API endpoints. Please read our documentation (https://docs.materialsproject.org) and upgrade to the latest version of the mp-api client (https://pypi.org/project/mp-api/).\", \"version\": \"blocked\"}\n"
     ]
    },
    {
     "name": "stderr",
     "output_type": "stream",
     "text": [
      "Retrieving MaterialsDoc documents: 100%|██████████| 1/1 [00:00<00:00, 64.20it/s]\n",
      "c:\\Users\\Kered\\GAN_Mastery\\.venv\\lib\\site-packages\\mp_api\\client\\core\\client.py:1022: UserWarning: Document primary key has changed from mp-1218244 to mp-1218244, returning data for mp-1218244 in materials/core route.    \n",
      "  warnings.warn(\n"
     ]
    },
    {
     "name": "stdout",
     "output_type": "stream",
     "text": [
      "Error processing mp-1218244: REST query returned with error status code 403 on URL https://api.materialsproject.org/materials/core/mp-1218244/?_all_fields=True&_limit=1 with message:\n",
      "Response {\"error\": \"You are using deprecated API endpoints. Please read our documentation (https://docs.materialsproject.org) and upgrade to the latest version of the mp-api client (https://pypi.org/project/mp-api/).\", \"version\": \"blocked\"}\n"
     ]
    },
    {
     "name": "stderr",
     "output_type": "stream",
     "text": [
      "Retrieving MaterialsDoc documents: 100%|██████████| 1/1 [00:00<?, ?it/s]\n",
      "c:\\Users\\Kered\\GAN_Mastery\\.venv\\lib\\site-packages\\mp_api\\client\\core\\client.py:1022: UserWarning: Document primary key has changed from mp-3474 to mp-3474, returning data for mp-3474 in materials/core route.    \n",
      "  warnings.warn(\n"
     ]
    },
    {
     "name": "stdout",
     "output_type": "stream",
     "text": [
      "Error processing mp-3474: REST query returned with error status code 403 on URL https://api.materialsproject.org/materials/core/mp-3474/?_all_fields=True&_limit=1 with message:\n",
      "Response {\"error\": \"You are using deprecated API endpoints. Please read our documentation (https://docs.materialsproject.org) and upgrade to the latest version of the mp-api client (https://pypi.org/project/mp-api/).\", \"version\": \"blocked\"}\n"
     ]
    },
    {
     "name": "stderr",
     "output_type": "stream",
     "text": [
      "Retrieving MaterialsDoc documents: 100%|██████████| 1/1 [00:00<?, ?it/s]\n",
      "c:\\Users\\Kered\\GAN_Mastery\\.venv\\lib\\site-packages\\mp_api\\client\\core\\client.py:1022: UserWarning: Document primary key has changed from mp-556595 to mp-556595, returning data for mp-556595 in materials/core route.    \n",
      "  warnings.warn(\n"
     ]
    },
    {
     "name": "stdout",
     "output_type": "stream",
     "text": [
      "Error processing mp-556595: REST query returned with error status code 403 on URL https://api.materialsproject.org/materials/core/mp-556595/?_all_fields=True&_limit=1 with message:\n",
      "Response {\"error\": \"You are using deprecated API endpoints. Please read our documentation (https://docs.materialsproject.org) and upgrade to the latest version of the mp-api client (https://pypi.org/project/mp-api/).\", \"version\": \"blocked\"}\n"
     ]
    },
    {
     "name": "stderr",
     "output_type": "stream",
     "text": [
      "Retrieving MaterialsDoc documents: 100%|██████████| 1/1 [00:00<?, ?it/s]\n",
      "c:\\Users\\Kered\\GAN_Mastery\\.venv\\lib\\site-packages\\mp_api\\client\\core\\client.py:1022: UserWarning: Document primary key has changed from mp-21129 to mp-21129, returning data for mp-21129 in materials/core route.    \n",
      "  warnings.warn(\n"
     ]
    },
    {
     "name": "stdout",
     "output_type": "stream",
     "text": [
      "Error processing mp-21129: REST query returned with error status code 403 on URL https://api.materialsproject.org/materials/core/mp-21129/?_all_fields=True&_limit=1 with message:\n",
      "Response {\"error\": \"You are using deprecated API endpoints. Please read our documentation (https://docs.materialsproject.org) and upgrade to the latest version of the mp-api client (https://pypi.org/project/mp-api/).\", \"version\": \"blocked\"}\n"
     ]
    },
    {
     "name": "stderr",
     "output_type": "stream",
     "text": [
      "Retrieving MaterialsDoc documents: 100%|██████████| 1/1 [00:00<?, ?it/s]\n",
      "c:\\Users\\Kered\\GAN_Mastery\\.venv\\lib\\site-packages\\mp_api\\client\\core\\client.py:1022: UserWarning: Document primary key has changed from mp-5456 to mp-5456, returning data for mp-5456 in materials/core route.    \n",
      "  warnings.warn(\n"
     ]
    },
    {
     "name": "stdout",
     "output_type": "stream",
     "text": [
      "Error processing mp-5456: REST query returned with error status code 403 on URL https://api.materialsproject.org/materials/core/mp-5456/?_all_fields=True&_limit=1 with message:\n",
      "Response {\"error\": \"You are using deprecated API endpoints. Please read our documentation (https://docs.materialsproject.org) and upgrade to the latest version of the mp-api client (https://pypi.org/project/mp-api/).\", \"version\": \"blocked\"}\n"
     ]
    },
    {
     "name": "stderr",
     "output_type": "stream",
     "text": [
      "Retrieving MaterialsDoc documents: 100%|██████████| 1/1 [00:00<?, ?it/s]\n",
      "c:\\Users\\Kered\\GAN_Mastery\\.venv\\lib\\site-packages\\mp_api\\client\\core\\client.py:1022: UserWarning: Document primary key has changed from mp-21160 to mp-21160, returning data for mp-21160 in materials/core route.    \n",
      "  warnings.warn(\n"
     ]
    },
    {
     "name": "stdout",
     "output_type": "stream",
     "text": [
      "Error processing mp-21160: REST query returned with error status code 403 on URL https://api.materialsproject.org/materials/core/mp-21160/?_all_fields=True&_limit=1 with message:\n",
      "Response {\"error\": \"You are using deprecated API endpoints. Please read our documentation (https://docs.materialsproject.org) and upgrade to the latest version of the mp-api client (https://pypi.org/project/mp-api/).\", \"version\": \"blocked\"}\n"
     ]
    },
    {
     "name": "stderr",
     "output_type": "stream",
     "text": [
      "Retrieving MaterialsDoc documents: 100%|██████████| 1/1 [00:00<?, ?it/s]\n",
      "c:\\Users\\Kered\\GAN_Mastery\\.venv\\lib\\site-packages\\mp_api\\client\\core\\client.py:1022: UserWarning: Document primary key has changed from mp-16786 to mp-16786, returning data for mp-16786 in materials/core route.    \n",
      "  warnings.warn(\n",
      "c:\\Users\\Kered\\GAN_Mastery\\.venv\\lib\\site-packages\\mp_api\\client\\core\\client.py:818: UserWarning: The server does not support the request made to https://api.materialsproject.org/materials/core/mvc-771/?_all_fields=True&_limit=1. This may be due to an outdated mp-api package, or a problem with the query.\n",
      "  warnings.warn(\n"
     ]
    },
    {
     "name": "stdout",
     "output_type": "stream",
     "text": [
      "Error processing mp-16786: REST query returned with error status code 403 on URL https://api.materialsproject.org/materials/core/mp-16786/?_all_fields=True&_limit=1 with message:\n",
      "Response {\"error\": \"You are using deprecated API endpoints. Please read our documentation (https://docs.materialsproject.org) and upgrade to the latest version of the mp-api client (https://pypi.org/project/mp-api/).\", \"version\": \"blocked\"}\n"
     ]
    },
    {
     "name": "stderr",
     "output_type": "stream",
     "text": [
      "Retrieving MaterialsDoc documents: 100%|██████████| 1/1 [00:00<?, ?it/s]\n",
      "c:\\Users\\Kered\\GAN_Mastery\\.venv\\lib\\site-packages\\mp_api\\client\\core\\client.py:1022: UserWarning: Document primary key has changed from mvc-771 to mp-1042547, returning data for mp-1042547 in materials/core route.    \n",
      "  warnings.warn(\n"
     ]
    },
    {
     "name": "stdout",
     "output_type": "stream",
     "text": [
      "Error processing mvc-771: REST query returned with error status code 403 on URL https://api.materialsproject.org/materials/core/mp-1042547/?_all_fields=True&_limit=1 with message:\n",
      "Response {\"error\": \"You are using deprecated API endpoints. Please read our documentation (https://docs.materialsproject.org) and upgrade to the latest version of the mp-api client (https://pypi.org/project/mp-api/).\", \"version\": \"blocked\"}\n"
     ]
    },
    {
     "name": "stderr",
     "output_type": "stream",
     "text": [
      "Retrieving MaterialsDoc documents: 100%|██████████| 1/1 [00:00<?, ?it/s]\n",
      "c:\\Users\\Kered\\GAN_Mastery\\.venv\\lib\\site-packages\\mp_api\\client\\core\\client.py:1022: UserWarning: Document primary key has changed from mp-1218811 to mp-1218811, returning data for mp-1218811 in materials/core route.    \n",
      "  warnings.warn(\n"
     ]
    },
    {
     "name": "stdout",
     "output_type": "stream",
     "text": [
      "Error processing mp-1218811: REST query returned with error status code 403 on URL https://api.materialsproject.org/materials/core/mp-1218811/?_all_fields=True&_limit=1 with message:\n",
      "Response {\"error\": \"You are using deprecated API endpoints. Please read our documentation (https://docs.materialsproject.org) and upgrade to the latest version of the mp-api client (https://pypi.org/project/mp-api/).\", \"version\": \"blocked\"}\n"
     ]
    },
    {
     "name": "stderr",
     "output_type": "stream",
     "text": [
      "Retrieving MaterialsDoc documents: 100%|██████████| 1/1 [00:00<00:00, 1001.51it/s]\n",
      "c:\\Users\\Kered\\GAN_Mastery\\.venv\\lib\\site-packages\\mp_api\\client\\core\\client.py:1022: UserWarning: Document primary key has changed from mp-5029 to mp-5029, returning data for mp-5029 in materials/core route.    \n",
      "  warnings.warn(\n"
     ]
    },
    {
     "name": "stdout",
     "output_type": "stream",
     "text": [
      "Error processing mp-5029: REST query returned with error status code 403 on URL https://api.materialsproject.org/materials/core/mp-5029/?_all_fields=True&_limit=1 with message:\n",
      "Response {\"error\": \"You are using deprecated API endpoints. Please read our documentation (https://docs.materialsproject.org) and upgrade to the latest version of the mp-api client (https://pypi.org/project/mp-api/).\", \"version\": \"blocked\"}\n"
     ]
    },
    {
     "name": "stderr",
     "output_type": "stream",
     "text": [
      "Retrieving MaterialsDoc documents: 100%|██████████| 1/1 [00:00<00:00, 1002.94it/s]\n",
      "c:\\Users\\Kered\\GAN_Mastery\\.venv\\lib\\site-packages\\mp_api\\client\\core\\client.py:1022: UserWarning: Document primary key has changed from mp-1218240 to mp-1218240, returning data for mp-1218240 in materials/core route.    \n",
      "  warnings.warn(\n"
     ]
    },
    {
     "name": "stdout",
     "output_type": "stream",
     "text": [
      "Error processing mp-1218240: REST query returned with error status code 403 on URL https://api.materialsproject.org/materials/core/mp-1218240/?_all_fields=True&_limit=1 with message:\n",
      "Response {\"error\": \"You are using deprecated API endpoints. Please read our documentation (https://docs.materialsproject.org) and upgrade to the latest version of the mp-api client (https://pypi.org/project/mp-api/).\", \"version\": \"blocked\"}\n"
     ]
    },
    {
     "name": "stderr",
     "output_type": "stream",
     "text": [
      "Retrieving MaterialsDoc documents: 100%|██████████| 1/1 [00:00<?, ?it/s]\n",
      "c:\\Users\\Kered\\GAN_Mastery\\.venv\\lib\\site-packages\\mp_api\\client\\core\\client.py:1022: UserWarning: Document primary key has changed from mp-18490 to mp-18490, returning data for mp-18490 in materials/core route.    \n",
      "  warnings.warn(\n"
     ]
    },
    {
     "name": "stdout",
     "output_type": "stream",
     "text": [
      "Error processing mp-18490: REST query returned with error status code 403 on URL https://api.materialsproject.org/materials/core/mp-18490/?_all_fields=True&_limit=1 with message:\n",
      "Response {\"error\": \"You are using deprecated API endpoints. Please read our documentation (https://docs.materialsproject.org) and upgrade to the latest version of the mp-api client (https://pypi.org/project/mp-api/).\", \"version\": \"blocked\"}\n"
     ]
    },
    {
     "name": "stderr",
     "output_type": "stream",
     "text": [
      "Retrieving MaterialsDoc documents: 100%|██████████| 1/1 [00:00<00:00, 62.14it/s]\n",
      "c:\\Users\\Kered\\GAN_Mastery\\.venv\\lib\\site-packages\\mp_api\\client\\core\\client.py:1022: UserWarning: Document primary key has changed from mp-9453 to mp-9453, returning data for mp-9453 in materials/core route.    \n",
      "  warnings.warn(\n"
     ]
    },
    {
     "name": "stdout",
     "output_type": "stream",
     "text": [
      "Error processing mp-9453: REST query returned with error status code 403 on URL https://api.materialsproject.org/materials/core/mp-9453/?_all_fields=True&_limit=1 with message:\n",
      "Response {\"error\": \"You are using deprecated API endpoints. Please read our documentation (https://docs.materialsproject.org) and upgrade to the latest version of the mp-api client (https://pypi.org/project/mp-api/).\", \"version\": \"blocked\"}\n"
     ]
    },
    {
     "name": "stderr",
     "output_type": "stream",
     "text": [
      "Retrieving MaterialsDoc documents: 100%|██████████| 1/1 [00:00<00:00, 1002.70it/s]"
     ]
    },
    {
     "name": "stdout",
     "output_type": "stream",
     "text": [
      "Error processing mp-3120: REST query returned with error status code 403 on URL https://api.materialsproject.org/materials/core/mp-3120/?_all_fields=True&_limit=1 with message:\n",
      "Response {\"error\": \"You are using deprecated API endpoints. Please read our documentation (https://docs.materialsproject.org) and upgrade to the latest version of the mp-api client (https://pypi.org/project/mp-api/).\", \"version\": \"blocked\"}"
     ]
    },
    {
     "name": "stderr",
     "output_type": "stream",
     "text": [
      "\n",
      "c:\\Users\\Kered\\GAN_Mastery\\.venv\\lib\\site-packages\\mp_api\\client\\core\\client.py:1022: UserWarning: Document primary key has changed from mp-3120 to mp-3120, returning data for mp-3120 in materials/core route.    \n",
      "  warnings.warn(\n"
     ]
    },
    {
     "name": "stdout",
     "output_type": "stream",
     "text": [
      "\n"
     ]
    },
    {
     "name": "stderr",
     "output_type": "stream",
     "text": [
      "Retrieving MaterialsDoc documents: 0it [00:00, ?it/s]"
     ]
    },
    {
     "name": "stdout",
     "output_type": "stream",
     "text": [
      "Error processing mp-20205: No result for record mp-20205.\n"
     ]
    },
    {
     "name": "stderr",
     "output_type": "stream",
     "text": [
      "\n",
      "Retrieving MaterialsDoc documents: 100%|██████████| 1/1 [00:00<00:00, 483.49it/s]\n",
      "c:\\Users\\Kered\\GAN_Mastery\\.venv\\lib\\site-packages\\mp_api\\client\\core\\client.py:1022: UserWarning: Document primary key has changed from mp-22301 to mp-22301, returning data for mp-22301 in materials/core route.    \n",
      "  warnings.warn(\n"
     ]
    },
    {
     "name": "stdout",
     "output_type": "stream",
     "text": [
      "Error processing mp-22301: REST query returned with error status code 403 on URL https://api.materialsproject.org/materials/core/mp-22301/?_all_fields=True&_limit=1 with message:\n",
      "Response {\"error\": \"You are using deprecated API endpoints. Please read our documentation (https://docs.materialsproject.org) and upgrade to the latest version of the mp-api client (https://pypi.org/project/mp-api/).\", \"version\": \"blocked\"}\n"
     ]
    },
    {
     "name": "stderr",
     "output_type": "stream",
     "text": [
      "Retrieving MaterialsDoc documents: 100%|██████████| 1/1 [00:00<?, ?it/s]\n",
      "c:\\Users\\Kered\\GAN_Mastery\\.venv\\lib\\site-packages\\mp_api\\client\\core\\client.py:1022: UserWarning: Document primary key has changed from mp-1218727 to mp-1218727, returning data for mp-1218727 in materials/core route.    \n",
      "  warnings.warn(\n"
     ]
    },
    {
     "name": "stdout",
     "output_type": "stream",
     "text": [
      "Error processing mp-1218727: REST query returned with error status code 403 on URL https://api.materialsproject.org/materials/core/mp-1218727/?_all_fields=True&_limit=1 with message:\n",
      "Response {\"error\": \"You are using deprecated API endpoints. Please read our documentation (https://docs.materialsproject.org) and upgrade to the latest version of the mp-api client (https://pypi.org/project/mp-api/).\", \"version\": \"blocked\"}\n"
     ]
    },
    {
     "name": "stderr",
     "output_type": "stream",
     "text": [
      "Retrieving MaterialsDoc documents: 100%|██████████| 1/1 [00:00<?, ?it/s]\n",
      "c:\\Users\\Kered\\GAN_Mastery\\.venv\\lib\\site-packages\\mp_api\\client\\core\\client.py:1022: UserWarning: Document primary key has changed from mp-20437 to mp-20437, returning data for mp-20437 in materials/core route.    \n",
      "  warnings.warn(\n"
     ]
    },
    {
     "name": "stdout",
     "output_type": "stream",
     "text": [
      "Error processing mp-20437: REST query returned with error status code 403 on URL https://api.materialsproject.org/materials/core/mp-20437/?_all_fields=True&_limit=1 with message:\n",
      "Response {\"error\": \"You are using deprecated API endpoints. Please read our documentation (https://docs.materialsproject.org) and upgrade to the latest version of the mp-api client (https://pypi.org/project/mp-api/).\", \"version\": \"blocked\"}\n"
     ]
    },
    {
     "name": "stderr",
     "output_type": "stream",
     "text": [
      "Retrieving MaterialsDoc documents: 100%|██████████| 1/1 [00:00<00:00, 999.36it/s]\n",
      "c:\\Users\\Kered\\GAN_Mastery\\.venv\\lib\\site-packages\\mp_api\\client\\core\\client.py:1022: UserWarning: Document primary key has changed from mp-552089 to mp-552089, returning data for mp-552089 in materials/core route.    \n",
      "  warnings.warn(\n"
     ]
    },
    {
     "name": "stdout",
     "output_type": "stream",
     "text": [
      "Error processing mp-552089: REST query returned with error status code 403 on URL https://api.materialsproject.org/materials/core/mp-552089/?_all_fields=True&_limit=1 with message:\n",
      "Response {\"error\": \"You are using deprecated API endpoints. Please read our documentation (https://docs.materialsproject.org) and upgrade to the latest version of the mp-api client (https://pypi.org/project/mp-api/).\", \"version\": \"blocked\"}\n"
     ]
    },
    {
     "name": "stderr",
     "output_type": "stream",
     "text": [
      "Retrieving MaterialsDoc documents: 100%|██████████| 1/1 [00:00<?, ?it/s]"
     ]
    },
    {
     "name": "stdout",
     "output_type": "stream",
     "text": [
      "Error processing mp-1218623: REST query returned with error status code 403 on URL https://api.materialsproject.org/materials/core/mp-1218623/?_all_fields=True&_limit=1 with message:\n",
      "Response {\"error\": \"You are using deprecated API endpoints. Please read our documentation (https://docs.materialsproject.org) and upgrade to the latest version of the mp-api client (https://pypi.org/project/mp-api/).\", \"version\": \"blocked\"}\n"
     ]
    },
    {
     "name": "stderr",
     "output_type": "stream",
     "text": [
      "\n",
      "c:\\Users\\Kered\\GAN_Mastery\\.venv\\lib\\site-packages\\mp_api\\client\\core\\client.py:1022: UserWarning: Document primary key has changed from mp-1218623 to mp-1218623, returning data for mp-1218623 in materials/core route.    \n",
      "  warnings.warn(\n"
     ]
    }
   ],
   "source": [
    "import os\n",
    "from mp_api.client import MPRester  # << NEW import!\n",
    "\n",
    "# Your Materials Project API key\n",
    "API_KEY = \"aazVD90xN8nU3R4xdWoVIF8uEPRJJUV2\"\n",
    "\n",
    "# List of material IDs\n",
    "material_ids = ['mp-1227852','mp-1198030','mp-1214529','mp-14970', 'mp-10350','mp-1214336','mp-1214316','mp-1077929','mp-1025280',\n",
    " 'mp-1218170','mp-1227458','mp-1228381', 'mp-6790','mp-20674', 'mp-22719','mp-21451', 'mp-20942','mp-505315',\n",
    " 'mp-20936','mp-6205','mp-15039','mp-19813','mp-20897','mp-1214613','mp-1214720','mp-1182677','mvc-11834',\n",
    " 'mp-542733','mp-6027','mp-22215','mp-6583','mp-6710','mp-1228402','mp-654374','mp-6885','mp-632802', 'mp-6879',\n",
    " 'mp-22601','mp-1228620','mp-6691','mp-1228495','mp-1228449','mp-1214711','mp-1214699','mp-1214814','mp-1214652',\n",
    " 'mp-1214600','mp-1214590','mp-1214586','mp-1214571','mp-6562','mp-1228447','mp-557043','mp-616471','mp-1228503',\n",
    " 'mp-1214654','mp-1214655','mp-1228227','mp-622110','mp-1228601','mp-622211','mp-1228334','mp-1214572',\n",
    " 'mp-1228407','mp-6616','mp-1228253','mp-622210','mp-1228451', 'mp-20324','mp-1228202','mp-1228182',\n",
    " 'mp-1228206','mp-1214585','mp-1214650','mp-622108','mp-6779','mp-1214709','mp-1228680','mp-1214577',\n",
    " 'mp-1218930','mp-1209015', 'mp-1218870','mp-1208752','mp-1208863','mp-1209124','mp-1208800',\n",
    " 'mp-555827','mp-505042','mp-1208931','mp-1208757','mp-545481','mp-1173193', 'mp-1147662','mp-1218825',\n",
    " 'mp-510475','mvc-11697','mp-1222802','mp-1198573','mp-752673','mp-1100986', 'mp-556575','mp-1194240',\n",
    " 'mp-1208765','mp-1208792','mp-1218486','mp-1218546','mp-1218734','mp-1218617','mp-20824','mp-620364',\n",
    " 'mp-1173221','mp-4826','mp-23143', 'mp-5869','mp-1209020','mp-1214003','mp-4158','mp-4181','mp-4210',\n",
    " 'mp-22306','mp-676060','mp-1218607','mp-1218787','mp-1218883','mp-1218869','mp-1147678','mp-1218799','mp-1274783',\n",
    " 'mp-620290','mp-510625','mp-559339', 'mp-14430','mp-5670', 'mp-6676','mp-1218154', 'mp-21496','mp-1223395',\n",
    " 'mp-753901', 'mp-5787','mp-754263', 'mp-37514','mp-1218244','mp-3474', 'mp-556595', 'mp-21129',\n",
    " 'mp-5456', 'mp-21160','mp-16786','mvc-771','mp-1218811','mp-5029', 'mp-1218240', 'mp-18490', 'mp-9453',\n",
    " 'mp-3120','mp-20205','mp-22301','mp-1218727','mp-20437','mp-552089','mp-1218623']\n",
    "\n",
    "# Directory to save CIF files\n",
    "output_dir = r\"C:\\Users\\Kered\\GAN_Mastery\\02_labs\\crystals_gan\\dataset\\cif_files\"\n",
    "os.makedirs(output_dir, exist_ok=True)\n",
    "\n",
    "# Initialize MPRester\n",
    "with MPRester(API_KEY) as mpr:  # << Important: use context manager\n",
    "    for material_id in material_ids:\n",
    "        try:\n",
    "            # Get the material document (new method)\n",
    "            doc = mpr.materials.get_data_by_id(material_id)\n",
    "\n",
    "            # Access the structure object\n",
    "            structure = doc.structure\n",
    "\n",
    "            # Generate the CIF content\n",
    "            cif_content = structure.to(fmt=\"cif\")\n",
    "\n",
    "            # Save the CIF file\n",
    "            cif_file_path = os.path.join(output_dir, f\"{material_id}.cif\")\n",
    "            with open(cif_file_path, \"w\") as cif_file:\n",
    "                cif_file.write(cif_content)\n",
    "\n",
    "            print(f\"Saved CIF for {material_id} to {cif_file_path}\")\n",
    "        except Exception as e:\n",
    "            print(f\"Error processing {material_id}: {e}\")\n"
   ]
  },
  {
   "cell_type": "code",
   "execution_count": 10,
   "id": "8a297c19",
   "metadata": {},
   "outputs": [
    {
     "name": "stderr",
     "output_type": "stream",
     "text": [
      "Retrieving MaterialsDoc documents: 100%|██████████| 1/1 [00:00<?, ?it/s]\n"
     ]
    },
    {
     "name": "stdout",
     "output_type": "stream",
     "text": [
      "⚠️ Error for mp-1227852: REST query returned with error status code 403 on URL https://api.materialsproject.org/materials/core/mp-1227852/?_limit=1&_fields=structure with message:\n",
      "Response {\"error\": \"You are using deprecated API endpoints. Please read our documentation (https://docs.materialsproject.org) and upgrade to the latest version of the mp-api client (https://pypi.org/project/mp-api/).\", \"version\": \"blocked\"}\n"
     ]
    },
    {
     "name": "stderr",
     "output_type": "stream",
     "text": [
      "Retrieving MaterialsDoc documents: 100%|██████████| 1/1 [00:00<?, ?it/s]\n"
     ]
    },
    {
     "name": "stdout",
     "output_type": "stream",
     "text": [
      "⚠️ Error for mp-1198030: REST query returned with error status code 403 on URL https://api.materialsproject.org/materials/core/mp-1198030/?_limit=1&_fields=structure with message:\n",
      "Response {\"error\": \"You are using deprecated API endpoints. Please read our documentation (https://docs.materialsproject.org) and upgrade to the latest version of the mp-api client (https://pypi.org/project/mp-api/).\", \"version\": \"blocked\"}\n"
     ]
    },
    {
     "name": "stderr",
     "output_type": "stream",
     "text": [
      "Retrieving MaterialsDoc documents: 100%|██████████| 1/1 [00:00<?, ?it/s]\n"
     ]
    },
    {
     "name": "stdout",
     "output_type": "stream",
     "text": [
      "⚠️ Error for mp-1214529: REST query returned with error status code 403 on URL https://api.materialsproject.org/materials/core/mp-1214529/?_limit=1&_fields=structure with message:\n",
      "Response {\"error\": \"You are using deprecated API endpoints. Please read our documentation (https://docs.materialsproject.org) and upgrade to the latest version of the mp-api client (https://pypi.org/project/mp-api/).\", \"version\": \"blocked\"}\n"
     ]
    },
    {
     "name": "stderr",
     "output_type": "stream",
     "text": [
      "Retrieving MaterialsDoc documents: 100%|██████████| 1/1 [00:00<?, ?it/s]\n"
     ]
    },
    {
     "name": "stdout",
     "output_type": "stream",
     "text": [
      "⚠️ Error for mp-14970: REST query returned with error status code 403 on URL https://api.materialsproject.org/materials/core/mp-14970/?_limit=1&_fields=structure with message:\n",
      "Response {\"error\": \"You are using deprecated API endpoints. Please read our documentation (https://docs.materialsproject.org) and upgrade to the latest version of the mp-api client (https://pypi.org/project/mp-api/).\", \"version\": \"blocked\"}\n"
     ]
    },
    {
     "name": "stderr",
     "output_type": "stream",
     "text": [
      "Retrieving MaterialsDoc documents: 100%|██████████| 1/1 [00:00<?, ?it/s]\n"
     ]
    },
    {
     "name": "stdout",
     "output_type": "stream",
     "text": [
      "⚠️ Error for mp-10350: REST query returned with error status code 403 on URL https://api.materialsproject.org/materials/core/mp-10350/?_limit=1&_fields=structure with message:\n",
      "Response {\"error\": \"You are using deprecated API endpoints. Please read our documentation (https://docs.materialsproject.org) and upgrade to the latest version of the mp-api client (https://pypi.org/project/mp-api/).\", \"version\": \"blocked\"}\n"
     ]
    },
    {
     "name": "stderr",
     "output_type": "stream",
     "text": [
      "Retrieving MaterialsDoc documents: 100%|██████████| 1/1 [00:00<?, ?it/s]\n"
     ]
    },
    {
     "name": "stdout",
     "output_type": "stream",
     "text": [
      "⚠️ Error for mp-1214336: REST query returned with error status code 403 on URL https://api.materialsproject.org/materials/core/mp-1214336/?_limit=1&_fields=structure with message:\n",
      "Response {\"error\": \"You are using deprecated API endpoints. Please read our documentation (https://docs.materialsproject.org) and upgrade to the latest version of the mp-api client (https://pypi.org/project/mp-api/).\", \"version\": \"blocked\"}\n"
     ]
    },
    {
     "name": "stderr",
     "output_type": "stream",
     "text": [
      "Retrieving MaterialsDoc documents: 100%|██████████| 1/1 [00:00<?, ?it/s]\n"
     ]
    },
    {
     "name": "stdout",
     "output_type": "stream",
     "text": [
      "⚠️ Error for mp-1214316: REST query returned with error status code 403 on URL https://api.materialsproject.org/materials/core/mp-1214316/?_limit=1&_fields=structure with message:\n",
      "Response {\"error\": \"You are using deprecated API endpoints. Please read our documentation (https://docs.materialsproject.org) and upgrade to the latest version of the mp-api client (https://pypi.org/project/mp-api/).\", \"version\": \"blocked\"}\n"
     ]
    },
    {
     "name": "stderr",
     "output_type": "stream",
     "text": [
      "Retrieving MaterialsDoc documents: 100%|██████████| 1/1 [00:00<?, ?it/s]\n"
     ]
    },
    {
     "name": "stdout",
     "output_type": "stream",
     "text": [
      "⚠️ Error for mp-1077929: REST query returned with error status code 403 on URL https://api.materialsproject.org/materials/core/mp-1077929/?_limit=1&_fields=structure with message:\n",
      "Response {\"error\": \"You are using deprecated API endpoints. Please read our documentation (https://docs.materialsproject.org) and upgrade to the latest version of the mp-api client (https://pypi.org/project/mp-api/).\", \"version\": \"blocked\"}\n"
     ]
    },
    {
     "name": "stderr",
     "output_type": "stream",
     "text": [
      "Retrieving MaterialsDoc documents: 100%|██████████| 1/1 [00:00<?, ?it/s]\n"
     ]
    },
    {
     "name": "stdout",
     "output_type": "stream",
     "text": [
      "⚠️ Error for mp-1025280: REST query returned with error status code 403 on URL https://api.materialsproject.org/materials/core/mp-1025280/?_limit=1&_fields=structure with message:\n",
      "Response {\"error\": \"You are using deprecated API endpoints. Please read our documentation (https://docs.materialsproject.org) and upgrade to the latest version of the mp-api client (https://pypi.org/project/mp-api/).\", \"version\": \"blocked\"}\n"
     ]
    },
    {
     "name": "stderr",
     "output_type": "stream",
     "text": [
      "Retrieving MaterialsDoc documents: 100%|██████████| 1/1 [00:00<00:00, 501.53it/s]\n"
     ]
    },
    {
     "name": "stdout",
     "output_type": "stream",
     "text": [
      "⚠️ Error for mp-1218170: REST query returned with error status code 403 on URL https://api.materialsproject.org/materials/core/mp-1218170/?_limit=1&_fields=structure with message:\n",
      "Response {\"error\": \"You are using deprecated API endpoints. Please read our documentation (https://docs.materialsproject.org) and upgrade to the latest version of the mp-api client (https://pypi.org/project/mp-api/).\", \"version\": \"blocked\"}\n"
     ]
    },
    {
     "name": "stderr",
     "output_type": "stream",
     "text": [
      "Retrieving MaterialsDoc documents: 100%|██████████| 1/1 [00:00<00:00, 916.19it/s]\n"
     ]
    },
    {
     "name": "stdout",
     "output_type": "stream",
     "text": [
      "⚠️ Error for mp-1227458: REST query returned with error status code 403 on URL https://api.materialsproject.org/materials/core/mp-1227458/?_limit=1&_fields=structure with message:\n",
      "Response {\"error\": \"You are using deprecated API endpoints. Please read our documentation (https://docs.materialsproject.org) and upgrade to the latest version of the mp-api client (https://pypi.org/project/mp-api/).\", \"version\": \"blocked\"}\n"
     ]
    },
    {
     "name": "stderr",
     "output_type": "stream",
     "text": [
      "Retrieving MaterialsDoc documents: 100%|██████████| 1/1 [00:00<?, ?it/s]\n"
     ]
    },
    {
     "name": "stdout",
     "output_type": "stream",
     "text": [
      "⚠️ Error for mp-1228381: REST query returned with error status code 403 on URL https://api.materialsproject.org/materials/core/mp-1228381/?_limit=1&_fields=structure with message:\n",
      "Response {\"error\": \"You are using deprecated API endpoints. Please read our documentation (https://docs.materialsproject.org) and upgrade to the latest version of the mp-api client (https://pypi.org/project/mp-api/).\", \"version\": \"blocked\"}\n"
     ]
    },
    {
     "name": "stderr",
     "output_type": "stream",
     "text": [
      "Retrieving MaterialsDoc documents: 100%|██████████| 1/1 [00:00<?, ?it/s]\n"
     ]
    },
    {
     "name": "stdout",
     "output_type": "stream",
     "text": [
      "⚠️ Error for mp-6790: REST query returned with error status code 403 on URL https://api.materialsproject.org/materials/core/mp-6790/?_limit=1&_fields=structure with message:\n",
      "Response {\"error\": \"You are using deprecated API endpoints. Please read our documentation (https://docs.materialsproject.org) and upgrade to the latest version of the mp-api client (https://pypi.org/project/mp-api/).\", \"version\": \"blocked\"}\n"
     ]
    },
    {
     "name": "stderr",
     "output_type": "stream",
     "text": [
      "Retrieving MaterialsDoc documents: 100%|██████████| 1/1 [00:00<?, ?it/s]\n"
     ]
    },
    {
     "name": "stdout",
     "output_type": "stream",
     "text": [
      "⚠️ Error for mp-20674: REST query returned with error status code 403 on URL https://api.materialsproject.org/materials/core/mp-20674/?_limit=1&_fields=structure with message:\n",
      "Response {\"error\": \"You are using deprecated API endpoints. Please read our documentation (https://docs.materialsproject.org) and upgrade to the latest version of the mp-api client (https://pypi.org/project/mp-api/).\", \"version\": \"blocked\"}\n"
     ]
    },
    {
     "name": "stderr",
     "output_type": "stream",
     "text": [
      "Retrieving MaterialsDoc documents: 100%|██████████| 1/1 [00:00<?, ?it/s]\n"
     ]
    },
    {
     "name": "stdout",
     "output_type": "stream",
     "text": [
      "⚠️ Error for mp-22719: REST query returned with error status code 403 on URL https://api.materialsproject.org/materials/core/mp-22719/?_limit=1&_fields=structure with message:\n",
      "Response {\"error\": \"You are using deprecated API endpoints. Please read our documentation (https://docs.materialsproject.org) and upgrade to the latest version of the mp-api client (https://pypi.org/project/mp-api/).\", \"version\": \"blocked\"}\n"
     ]
    },
    {
     "name": "stderr",
     "output_type": "stream",
     "text": [
      "Retrieving MaterialsDoc documents: 100%|██████████| 1/1 [00:00<?, ?it/s]\n"
     ]
    },
    {
     "name": "stdout",
     "output_type": "stream",
     "text": [
      "⚠️ Error for mp-21451: REST query returned with error status code 403 on URL https://api.materialsproject.org/materials/core/mp-21451/?_limit=1&_fields=structure with message:\n",
      "Response {\"error\": \"You are using deprecated API endpoints. Please read our documentation (https://docs.materialsproject.org) and upgrade to the latest version of the mp-api client (https://pypi.org/project/mp-api/).\", \"version\": \"blocked\"}\n"
     ]
    },
    {
     "name": "stderr",
     "output_type": "stream",
     "text": [
      "Retrieving MaterialsDoc documents: 100%|██████████| 1/1 [00:00<?, ?it/s]\n"
     ]
    },
    {
     "name": "stdout",
     "output_type": "stream",
     "text": [
      "⚠️ Error for mp-20942: REST query returned with error status code 403 on URL https://api.materialsproject.org/materials/core/mp-20942/?_limit=1&_fields=structure with message:\n",
      "Response {\"error\": \"You are using deprecated API endpoints. Please read our documentation (https://docs.materialsproject.org) and upgrade to the latest version of the mp-api client (https://pypi.org/project/mp-api/).\", \"version\": \"blocked\"}\n"
     ]
    },
    {
     "name": "stderr",
     "output_type": "stream",
     "text": [
      "Retrieving MaterialsDoc documents: 100%|██████████| 1/1 [00:00<?, ?it/s]"
     ]
    },
    {
     "name": "stdout",
     "output_type": "stream",
     "text": [
      "⚠️ Error for mp-505315: REST query returned with error status code 403 on URL https://api.materialsproject.org/materials/core/mp-505315/?_limit=1&_fields=structure with message:\n",
      "Response {\"error\": \"You are using deprecated API endpoints. Please read our documentation (https://docs.materialsproject.org) and upgrade to the latest version of the mp-api client (https://pypi.org/project/mp-api/).\", \"version\": \"blocked\"}\n"
     ]
    },
    {
     "name": "stderr",
     "output_type": "stream",
     "text": [
      "\n"
     ]
    }
   ],
   "source": [
    "import os\n",
    "from mp_api.client import MPRester  # nouvelle API officielle (pas pymatgen.ext.matproj)\n",
    "from pymatgen.core import Structure\n",
    "\n",
    "# Clé API Materials Project\n",
    "API_KEY = \"aazVD90xN8nU3R4xdWoVIF8uEPRJJUV2\"\n",
    "\n",
    "# Dossier de sauvegarde\n",
    "output_dir = r\"C:\\Users\\Kered\\GAN_Mastery\\02_labs\\crystals_gan\\dataset\\cif_files\"\n",
    "os.makedirs(output_dir, exist_ok=True)\n",
    "\n",
    "# Liste d'IDs (tu peux aussi la stocker dans un fichier .txt ou .json si trop long)\n",
    "material_ids = [\n",
    "    \"mp-1227852\", \"mp-1198030\", \"mp-1214529\", \"mp-14970\", \"mp-10350\", \"mp-1214336\", \"mp-1214316\",\n",
    "    \"mp-1077929\", \"mp-1025280\", \"mp-1218170\", \"mp-1227458\", \"mp-1228381\", \"mp-6790\", \"mp-20674\",\n",
    "    \"mp-22719\", \"mp-21451\", \"mp-20942\", \"mp-505315\"\n",
    "    # 🔁 tu peux tronquer la liste si tu testes\n",
    "]\n",
    "\n",
    "# Nouvelle méthode via summary + structure\n",
    "with MPRester(API_KEY) as mpr:\n",
    "    for material_id in material_ids:\n",
    "        try:\n",
    "            # 📦 Récupération de la structure\n",
    "            structure: Structure = mpr.get_structure_by_material_id(material_id)\n",
    "\n",
    "            # 📄 Génération du fichier CIF\n",
    "            cif_content = structure.to(fmt=\"cif\")\n",
    "\n",
    "            # 📥 Sauvegarde dans le dossier\n",
    "            cif_path = os.path.join(output_dir, f\"{material_id}.cif\")\n",
    "            with open(cif_path, \"w\", encoding=\"utf-8\") as f:\n",
    "                f.write(cif_content)\n",
    "\n",
    "            print(f\"✅ Saved: {material_id}\")\n",
    "\n",
    "        except Exception as e:\n",
    "            print(f\"⚠️ Error for {material_id}: {e}\")\n"
   ]
  },
  {
   "cell_type": "markdown",
   "id": "4f8e872b",
   "metadata": {},
   "source": [
    "### Material Project"
   ]
  },
  {
   "cell_type": "code",
   "execution_count": 11,
   "id": "72631e2e",
   "metadata": {},
   "outputs": [
    {
     "name": "stderr",
     "output_type": "stream",
     "text": [
      "C:\\Users\\Kered\\AppData\\Local\\Temp\\ipykernel_2188\\832752698.py:17: DeprecationWarning: Accessing summary data through MPRester.summary is deprecated. Please use MPRester.materials.summary instead.\n",
      "  docs = mpr.summary.search(\n",
      "Retrieving SummaryDoc documents: 100%|██████████| 112/112 [00:01<00:00, 58.98it/s]\n"
     ]
    },
    {
     "name": "stdout",
     "output_type": "stream",
     "text": [
      "✅ Saved CIF for Ba10Y5(Cu5O11)3 (mp-1229106)\n",
      "✅ Saved CIF for Ba10Y5Cu15O32 (mp-1229067)\n",
      "✅ Saved CIF for Ba10Y5Cu15O34 (mp-1228903)\n",
      "✅ Saved CIF for Ba10Y5Cu15O34 (mp-1229263)\n",
      "✅ Saved CIF for Ba14Y7(Cu10O21)2 (mp-774710)\n",
      "✅ Saved CIF for Ba2Y(Cu2O3)2 (mp-643471)\n",
      "✅ Saved CIF for Ba2Y(CuO2)3 (mp-1021507)\n",
      "✅ Saved CIF for Ba2Y(CuO2)3 (mp-1228465)\n",
      "✅ Saved CIF for Ba2Y(CuO2)3 (mp-22215)\n",
      "✅ Saved CIF for Ba10Ca5Cu10Hg5O31 (mp-1229139)\n",
      "✅ Saved CIF for Ba2Ca2Cu3HgO8 (mp-22601)\n",
      "✅ Saved CIF for Ba2Ca3Cu4HgO10 (mp-1228579)\n",
      "✅ Saved CIF for Ba2CaCu(HgO3)2 (mp-1214691)\n",
      "✅ Saved CIF for Ba2CaCu2HgO6 (mp-6879)\n",
      "✅ Saved CIF for Ba4Ca4Cu6Hg2O17 (mp-1228265)\n",
      "✅ Saved CIF for Ba4CaCu6(HgO8)2 (mp-1379759)\n",
      "✅ Saved CIF for Ba6Ca12Cu15Hg3O37 (mp-1229082)\n",
      "✅ Saved CIF for Ba6Ca15Cu18Hg3O43 (mp-1229281)\n",
      "✅ Saved CIF for Ba2Ca2Tl2Cu3O10 (mp-1228620)\n",
      "✅ Saved CIF for Ba2Ca2Tl2Cu3O10 (mp-653154)\n",
      "✅ Saved CIF for Ba2Ca3Tl2(CuO3)4 (mp-1182569)\n",
      "✅ Saved CIF for Ba2Ca3Tl2(CuO3)4 (mp-556574)\n",
      "✅ Saved CIF for Ba2Ca3Tl2(CuO3)4 (mp-556733)\n",
      "✅ Saved CIF for Ba2Ca3TlCu4O11 (mp-1228589)\n",
      "✅ Saved CIF for Ba2Ca4TlCu5O13 (mp-1229126)\n",
      "✅ Saved CIF for Ba2CaTl2(CuO3)4 (mp-1806359)\n",
      "✅ Saved CIF for Ba2CaTl2(CuO3)4 (mp-1809443)\n",
      "✅ Saved CIF for Fe3Se (mp-1184256)\n",
      "✅ Saved CIF for Fe3Se4 (mp-2780)\n",
      "✅ Saved CIF for Fe3Se4 (mp-569240)\n",
      "✅ Saved CIF for Fe3Se4 (mp-684963)\n",
      "✅ Saved CIF for Fe7Se3 (mp-1055905)\n",
      "✅ Saved CIF for Fe7Se3 (mp-952967)\n",
      "✅ Saved CIF for Fe7Se8 (mp-540702)\n",
      "✅ Saved CIF for Fe9Se8 (mp-1106121)\n",
      "✅ Saved CIF for Sr2Ca2Cu3(BiO5)2 (mp-1209015)\n",
      "✅ Saved CIF for Sr2Ca2Cu3BiO8 (mp-1173287)\n",
      "✅ Saved CIF for Sr2Ca3Cu4(BiO6)2 (mp-1191679)\n",
      "✅ Saved CIF for Sr2CaCu2(BiO4)2 (mp-1218930)\n",
      "✅ Saved CIF for Sr2CaCu2(BiO4)2 (mp-555855)\n",
      "✅ Saved CIF for Sr2CaCu2(BiO5)2 (mp-1218932)\n",
      "✅ Saved CIF for Sr2CaCu2Bi2O9 (mp-1218884)\n",
      "✅ Saved CIF for Sr5CaCu4(BiO2)4 (mp-1218644)\n",
      "✅ Saved CIF for Fe12As5 (mp-17977)\n",
      "✅ Saved CIF for Fe2As (mp-20426)\n",
      "✅ Saved CIF for FeAs (mp-427)\n",
      "✅ Saved CIF for FeAs2 (mp-2008)\n",
      "✅ Saved CIF for Sr3La(CuO2)4 (mp-1218623)\n",
      "✅ Saved CIF for SrLa2(CuO3)2 (mp-1218240)\n",
      "✅ Saved CIF for SrLa3(Cu2O5)2 (mp-1218269)\n",
      "✅ Saved CIF for SrLa3(CuO4)2 (mp-1218244)\n",
      "✅ Saved CIF for SrLaCuO4 (mp-1218202)\n",
      "✅ Saved CIF for SrLa(CuO2)4 (mp-3305109)\n",
      "✅ Saved CIF for Mg15B (mp-1023515)\n",
      "✅ Saved CIF for Mg3B (mp-1016250)\n",
      "✅ Saved CIF for Mg7B (mp-1016262)\n",
      "✅ Saved CIF for MgB2 (mp-763)\n",
      "✅ Saved CIF for MgB3 (mp-1222002)\n",
      "✅ Saved CIF for MgB4 (mp-365)\n",
      "✅ Saved CIF for MgB7 (mp-978275)\n",
      "✅ Saved CIF for Nb3Sn (mp-1326)\n",
      "✅ Saved CIF for Nb6Sn5 (mp-1192223)\n",
      "✅ Saved CIF for NbSn2 (mp-1046)\n",
      "✅ Saved CIF for NbSn3 (mp-1186237)\n",
      "✅ Saved CIF for Pb (mp-1057273)\n",
      "✅ Saved CIF for Pb (mp-1102666)\n",
      "✅ Saved CIF for Pb (mp-1186444)\n",
      "✅ Saved CIF for Pb (mp-1247117)\n",
      "✅ Saved CIF for Pb (mp-20483)\n",
      "✅ Saved CIF for Pb (mp-20745)\n",
      "✅ Saved CIF for Pb (mp-22692)\n",
      "✅ Saved CIF for Ba6Ca3Cu6Hg3O19 (mp-1228161)\n",
      "✅ Saved CIF for Ba6Ca6Cu9Hg3O25 (mp-1228760)\n",
      "✅ Saved CIF for Ba8Ca4Cu8Hg4O25 (mp-1228371)\n",
      "✅ Saved CIF for FeSe (mp-1018075)\n",
      "✅ Saved CIF for FeSe (mp-1066497)\n",
      "✅ Saved CIF for FeSe (mp-1078538)\n",
      "✅ Saved CIF for FeSe (mp-1078945)\n",
      "✅ Saved CIF for FeSe (mp-1080120)\n",
      "✅ Saved CIF for FeSe (mp-1090)\n",
      "✅ Saved CIF for FeSe (mp-1978272)\n",
      "✅ Saved CIF for FeSe (mp-20120)\n",
      "✅ Saved CIF for FeSe (mp-20311)\n",
      "✅ Saved CIF for FeSe2 (mp-1103177)\n",
      "✅ Saved CIF for FeSe2 (mp-760)\n",
      "✅ Saved CIF for Ba2CaTl2(CuO4)2 (mp-573069)\n",
      "✅ Saved CIF for Ba2CaTl2(CuO4)2 (mp-6885)\n",
      "✅ Saved CIF for Ba2CaTlCu2O7 (mp-632802)\n",
      "✅ Saved CIF for Ba4Ca4Tl3Cu6O19 (mp-542197)\n",
      "✅ Saved CIF for Ba4CaTl4(Cu3O10)2 (mp-1356093)\n",
      "✅ Saved CIF for Ba6Ca6Tl5Cu9O29 (mp-680433)\n",
      "✅ Saved CIF for Ba2Y(CuO2)4 (mp-20509)\n",
      "✅ Saved CIF for Ba2Y(CuO2)4 (mp-6789)\n",
      "✅ Saved CIF for Ba2Y(CuO2)4 (mp-6790)\n",
      "✅ Saved CIF for Ba2YCu3O7 (mp-20674)\n",
      "✅ Saved CIF for Ba2YCu3O8 (mp-1214613)\n",
      "✅ Saved CIF for Ba2YCuO5 (mp-1214594)\n",
      "✅ Saved CIF for Ba3Y3Cu3O10 (mp-1228773)\n",
      "✅ Saved CIF for SrCa2Cu2(BiO4)2 (mp-1208800)\n",
      "✅ Saved CIF for SrCaCuBiO6 (mp-1516265)\n",
      "✅ Saved CIF for Ba3Y5(CuO5)3 (mp-1337388)\n",
      "✅ Saved CIF for Ba4Y(CuO3)3 (mp-643409)\n",
      "✅ Saved CIF for Ba4Y2Cu5O14 (mp-772817)\n",
      "✅ Saved CIF for Ba4Y2Cu6O13 (mp-1228151)\n",
      "✅ Saved CIF for Ba4Y2Cu6O13 (mp-20897)\n",
      "✅ Saved CIF for Ba4Y2Cu7O15 (mp-1228264)\n",
      "✅ Saved CIF for Ba4Y2Cu7O15 (mp-1228315)\n",
      "✅ Saved CIF for Ba6Y3Cu9O20 (mp-1228278)\n",
      "✅ Saved CIF for Ba8Y4(Cu4O9)3 (mp-1228425)\n",
      "✅ Saved CIF for BaY2CuO5 (mp-542733)\n",
      "✅ Saved CIF for BaYCu2O5 (mp-1042162)\n",
      "✅ Saved CIF for BaYCu4O7 (mp-1048115)\n"
     ]
    }
   ],
   "source": [
    "from mp_api.client import MPRester\n",
    "from pymatgen.core import Structure\n",
    "import os\n",
    "\n",
    "#API_KEY Kadri\n",
    "API_KEY = \"aazVD90xN8nU3R4xdWoVIF8uEPRJJUV2\"\n",
    "SAVE_DIR = \"cif_supraconductors\"\n",
    "os.makedirs(SAVE_DIR, exist_ok=True)\n",
    "\n",
    "# Liste de formules de matériaux supraconducteurs connus (peut être enrichie)\n",
    "known_sc_chemsys = [\n",
    "    \"Y-Ba-Cu-O\", \"Hg-Ba-Ca-Cu-O\", \"Tl-Ba-Ca-Cu-O\", \"La-Sr-Cu-O\", \"Bi-Sr-Ca-Cu-O\",\n",
    "    \"Fe-Se\", \"Fe-As\", \"Mg-B\", \"Nb-Sn\", \"V3Si\", \"Pb\", \"Nb3Sn\"\n",
    "]\n",
    "\n",
    "with MPRester(API_KEY) as mpr:\n",
    "    docs = mpr.summary.search(\n",
    "        chemsys=known_sc_chemsys,\n",
    "        fields=[\"material_id\", \"structure\", \"formula_pretty\", \"energy_above_hull\"],\n",
    "        num_chunks=10,\n",
    "        chunk_size=100\n",
    "    )\n",
    "\n",
    "    for doc in docs:\n",
    "        try:\n",
    "            material_id = doc.material_id\n",
    "            structure = doc.structure  # pymatgen Structure\n",
    "            if structure is None:\n",
    "                continue\n",
    "\n",
    "            # Nom du fichier : formule jolisée + ID\n",
    "            cif_filename = f\"{doc.formula_pretty.replace(' ', '_')}_{material_id}.cif\"\n",
    "            cif_path = os.path.join(SAVE_DIR, cif_filename)\n",
    "\n",
    "            # Sauvegarde CIF\n",
    "            structure.to(filename=cif_path, fmt=\"cif\")\n",
    "            print(f\"✅ Saved CIF for {doc.formula_pretty} ({material_id})\")\n",
    "\n",
    "        except Exception as e:\n",
    "            print(f\"⚠️ Error with {doc.material_id}: {e}\")"
   ]
  },
  {
   "cell_type": "code",
   "execution_count": 12,
   "id": "97829a50",
   "metadata": {},
   "outputs": [
    {
     "name": "stderr",
     "output_type": "stream",
     "text": [
      "C:\\Users\\Kered\\AppData\\Local\\Temp\\ipykernel_2188\\1820605609.py:20: DeprecationWarning: Accessing summary data through MPRester.summary is deprecated. Please use MPRester.materials.summary instead.\n",
      "  docs = mpr.summary.search(\n",
      "Retrieving SummaryDoc documents: 100%|██████████| 112/112 [00:02<00:00, 51.80it/s]\n"
     ]
    },
    {
     "name": "stdout",
     "output_type": "stream",
     "text": [
      "Found 112 materials matching your chemical systems.\n"
     ]
    },
    {
     "name": "stderr",
     "output_type": "stream",
     "text": [
      "Downloading CIFs:  28%|██▊       | 31/112 [00:00<00:00, 277.41it/s]"
     ]
    },
    {
     "name": "stdout",
     "output_type": "stream",
     "text": [
      "✅ Saved CIF for Ba10Ca5Cu10Hg5O31 (mp-1229139)\n",
      "✅ Saved CIF for Ba2Ca2Cu3HgO8 (mp-22601)\n",
      "✅ Saved CIF for Ba2Ca3Cu4HgO10 (mp-1228579)\n",
      "✅ Saved CIF for Ba2CaCu2HgO6 (mp-6879)\n",
      "✅ Saved CIF for Ba6Ca12Cu15Hg3O37 (mp-1229082)\n",
      "✅ Saved CIF for Ba6Ca15Cu18Hg3O43 (mp-1229281)\n",
      "✅ Saved CIF for Ba2Ca2Tl2Cu3O10 (mp-1228620)\n",
      "✅ Saved CIF for Ba2Ca2Tl2Cu3O10 (mp-653154)\n",
      "✅ Saved CIF for Ba2Ca3Tl2(CuO3)4 (mp-556574)\n",
      "✅ Saved CIF for Ba2Ca3Tl2(CuO3)4 (mp-556733)\n",
      "✅ Saved CIF for Ba2Ca3TlCu4O11 (mp-1228589)\n",
      "✅ Saved CIF for Ba2Ca4TlCu5O13 (mp-1229126)\n",
      "✅ Saved CIF for Ba10Y5(Cu5O11)3 (mp-1229106)\n",
      "✅ Saved CIF for Ba10Y5Cu15O32 (mp-1229067)\n",
      "✅ Saved CIF for Ba10Y5Cu15O34 (mp-1228903)\n",
      "✅ Saved CIF for Ba14Y7(Cu10O21)2 (mp-774710)\n",
      "✅ Saved CIF for Ba2Y(CuO2)3 (mp-22215)\n",
      "✅ Saved CIF for Sr2CaCu2(BiO4)2 (mp-1218930)\n",
      "✅ Saved CIF for Fe12As5 (mp-17977)\n",
      "✅ Saved CIF for FeAs (mp-427)\n",
      "✅ Saved CIF for FeAs2 (mp-2008)\n",
      "✅ Saved CIF for Sr3La(CuO2)4 (mp-1218623)\n",
      "✅ Saved CIF for SrLa2(CuO3)2 (mp-1218240)\n",
      "✅ Saved CIF for SrLa3(Cu2O5)2 (mp-1218269)\n"
     ]
    },
    {
     "name": "stderr",
     "output_type": "stream",
     "text": [
      "Downloading CIFs:  28%|██▊       | 31/112 [00:00<00:00, 277.41it/s]"
     ]
    },
    {
     "name": "stdout",
     "output_type": "stream",
     "text": [
      "✅ Saved CIF for SrLa3(CuO4)2 (mp-1218244)\n",
      "✅ Saved CIF for SrLaCuO4 (mp-1218202)\n",
      "✅ Saved CIF for SrLa(CuO2)4 (mp-3305109)\n",
      "✅ Saved CIF for MgB2 (mp-763)\n"
     ]
    },
    {
     "name": "stderr",
     "output_type": "stream",
     "text": [
      "Downloading CIFs:  94%|█████████▍| 105/112 [00:00<00:00, 330.35it/s]"
     ]
    },
    {
     "name": "stdout",
     "output_type": "stream",
     "text": [
      "✅ Saved CIF for MgB4 (mp-365)\n",
      "✅ Saved CIF for MgB7 (mp-978275)\n",
      "✅ Saved CIF for Nb3Sn (mp-1326)\n",
      "✅ Saved CIF for Nb6Sn5 (mp-1192223)\n",
      "✅ Saved CIF for NbSn2 (mp-1046)\n",
      "✅ Saved CIF for Pb (mp-1186444)\n",
      "✅ Saved CIF for Pb (mp-20483)\n",
      "✅ Saved CIF for Pb (mp-20745)\n",
      "✅ Saved CIF for Pb (mp-22692)\n",
      "✅ Saved CIF for FeSe (mp-20311)\n",
      "✅ Saved CIF for FeSe2 (mp-1103177)\n",
      "✅ Saved CIF for FeSe2 (mp-760)\n",
      "✅ Saved CIF for Ba2CaTl2(CuO4)2 (mp-573069)\n",
      "✅ Saved CIF for Ba2CaTl2(CuO4)2 (mp-6885)\n",
      "✅ Saved CIF for Ba2CaTlCu2O7 (mp-632802)\n",
      "✅ Saved CIF for Ba4Ca4Tl3Cu6O19 (mp-542197)\n",
      "✅ Saved CIF for Ba6Ca6Tl5Cu9O29 (mp-680433)\n",
      "✅ Saved CIF for Ba2Y(CuO2)4 (mp-6790)\n",
      "✅ Saved CIF for Ba2YCu3O7 (mp-20674)\n",
      "✅ Saved CIF for Ba6Ca3Cu6Hg3O19 (mp-1228161)\n",
      "✅ Saved CIF for Ba6Ca6Cu9Hg3O25 (mp-1228760)\n",
      "✅ Saved CIF for Ba8Ca4Cu8Hg4O25 (mp-1228371)\n",
      "✅ Saved CIF for Ba4Y(CuO3)3 (mp-643409)\n",
      "✅ Saved CIF for Ba4Y2Cu6O13 (mp-1228151)\n",
      "✅ Saved CIF for Ba4Y2Cu6O13 (mp-20897)\n",
      "✅ Saved CIF for Ba4Y2Cu7O15 (mp-1228264)\n",
      "✅ Saved CIF for Ba4Y2Cu7O15 (mp-1228315)\n",
      "✅ Saved CIF for Ba6Y3Cu9O20 (mp-1228278)\n",
      "✅ Saved CIF for Ba8Y4(Cu4O9)3 (mp-1228425)\n"
     ]
    },
    {
     "name": "stderr",
     "output_type": "stream",
     "text": [
      "Downloading CIFs: 100%|██████████| 112/112 [00:00<00:00, 313.82it/s]"
     ]
    },
    {
     "name": "stdout",
     "output_type": "stream",
     "text": [
      "✅ Saved CIF for BaY2CuO5 (mp-542733)\n"
     ]
    },
    {
     "name": "stderr",
     "output_type": "stream",
     "text": [
      "\n"
     ]
    }
   ],
   "source": [
    "#New Code :\n",
    "from mp_api.client import MPRester\n",
    "from pymatgen.core import Structure\n",
    "from tqdm import tqdm\n",
    "import os\n",
    "\n",
    "def download_superconductor_cifs(api_key: str, save_dir: str, known_chemsys: list):\n",
    "    \"\"\"\n",
    "    Download CIF files for known superconducting material chemical systems\n",
    "    from the Materials Project database.\n",
    "\n",
    "    Args:\n",
    "        api_key (str): Materials Project API key.\n",
    "        save_dir (str): Directory to save CIF files.\n",
    "        known_chemsys (list): List of chemical systems to search (e.g., [\"Y-Ba-Cu-O\", \"Fe-Se\"]).\n",
    "    \"\"\"\n",
    "    os.makedirs(save_dir, exist_ok=True)\n",
    "\n",
    "    with MPRester(api_key) as mpr:\n",
    "        docs = mpr.summary.search(\n",
    "            chemsys=known_chemsys,\n",
    "            fields=[\"material_id\", \"structure\", \"formula_pretty\", \"energy_above_hull\"],\n",
    "            num_chunks=10,\n",
    "            chunk_size=100\n",
    "        )\n",
    "\n",
    "        docs = list(docs)  # Convert generator to list to use tqdm\n",
    "        print(f\"Found {len(docs)} materials matching your chemical systems.\")\n",
    "\n",
    "        for doc in tqdm(docs, desc=\"Downloading CIFs\"):\n",
    "            try:\n",
    "                # Skip materials that are not stable\n",
    "                if doc.energy_above_hull is None or doc.energy_above_hull > 0.05:\n",
    "                    continue\n",
    "\n",
    "                material_id = doc.material_id\n",
    "                structure = doc.structure  # pymatgen Structure\n",
    "                if structure is None:\n",
    "                    continue\n",
    "\n",
    "                # Build filename: Pretty formula + material_id\n",
    "                cif_filename = f\"{doc.formula_pretty.replace(' ', '_')}_{material_id}.cif\"\n",
    "                cif_path = os.path.join(save_dir, cif_filename)\n",
    "\n",
    "                # Save CIF\n",
    "                structure.to(filename=cif_path, fmt=\"cif\")\n",
    "                tqdm.write(f\"✅ Saved CIF for {doc.formula_pretty} ({material_id})\")\n",
    "\n",
    "            except Exception as e:\n",
    "                tqdm.write(f\"⚠️ Error with {doc.material_id}: {e}\")\n",
    "\n",
    "# ----------------------------------------------------------\n",
    "# Usage :\n",
    "\n",
    "if __name__ == \"__main__\":\n",
    "    # Your Materials Project API Key\n",
    "    API_KEY = \"aazVD90xN8nU3R4xdWoVIF8uEPRJJUV2\"\n",
    "\n",
    "    # Output directory\n",
    "    SAVE_DIR = \"cif_supraconductor_auto\"\n",
    "\n",
    "    # List of known superconducting chemical systems\n",
    "    KNOWN_SC_CHEMSYS = [\n",
    "        \"Y-Ba-Cu-O\", \"Hg-Ba-Ca-Cu-O\", \"Tl-Ba-Ca-Cu-O\", \"La-Sr-Cu-O\", \"Bi-Sr-Ca-Cu-O\",\n",
    "        \"Fe-Se\", \"Fe-As\", \"Mg-B\", \"Nb-Sn\", \"V3Si\", \"Pb\", \"Nb3Sn\"\n",
    "    ]\n",
    "\n",
    "    download_superconductor_cifs(API_KEY, SAVE_DIR, KNOWN_SC_CHEMSYS)\n"
   ]
  },
  {
   "cell_type": "markdown",
   "id": "f3ef64e7",
   "metadata": {},
   "source": [
    "### Phase 1\tEncode CIFs into fixed-length vectors (basic lattice + atomic features)\n",
    "\n",
    "**Encode CIFs into simple fixed-length vectors**\n",
    "\n",
    "- Result: each structure will be encoded into a vector of size 46."
   ]
  },
  {
   "cell_type": "markdown",
   "id": "55915d43",
   "metadata": {},
   "source": [
    "**Steps**\t\n",
    "- Extract lattice + atoms from CIF\t\n",
    "- Encode into fixed 46-dim vectors\t\n",
    "- Build dataset from folder\t\n",
    "- Save .npy file"
   ]
  },
  {
   "cell_type": "code",
   "execution_count": 13,
   "id": "e417b20c",
   "metadata": {},
   "outputs": [
    {
     "name": "stderr",
     "output_type": "stream",
     "text": [
      "c:\\Users\\Kered\\GAN_Mastery\\.venv\\lib\\site-packages\\pymatgen\\io\\cif.py:1168: UserWarning: Issues encountered while parsing CIF: Some fractional coordinates rounded to ideal values to avoid issues with finite precision.\n",
      "  warnings.warn(\"Issues encountered while parsing CIF: \" + \"\\n\".join(self.warnings))\n"
     ]
    },
    {
     "name": "stdout",
     "output_type": "stream",
     "text": [
      "✅ Built dataset: 58 samples, 46 features each.\n",
      "✅ Dataset saved as cif_dataset.npy\n"
     ]
    }
   ],
   "source": [
    "import os\n",
    "import numpy as np\n",
    "from pymatgen.core import Structure\n",
    "\n",
    "def encode_cif_to_vector(cif_path, max_atoms=10):\n",
    "    \"\"\"\n",
    "    Encode a CIF file into a fixed-length vector.\n",
    "    \n",
    "    Args:\n",
    "        cif_path (str): Path to the CIF file.\n",
    "        max_atoms (int): Maximum number of atoms to consider (default 10).\n",
    "        \n",
    "    Returns:\n",
    "        np.ndarray: Encoded vector of shape (6 + 4 * max_atoms,)\n",
    "    \"\"\"\n",
    "    try:\n",
    "        structure = Structure.from_file(cif_path)\n",
    "\n",
    "        # Lattice parameters\n",
    "        lattice = structure.lattice\n",
    "        a, b, c = lattice.a, lattice.b, lattice.c\n",
    "        alpha, beta, gamma = lattice.alpha, lattice.beta, lattice.gamma\n",
    "        lattice_params = [a, b, c, alpha, beta, gamma]\n",
    "\n",
    "        # Atomic numbers and fractional coordinates\n",
    "        atom_features = []\n",
    "        for site in structure.sites[:max_atoms]:  # limit to max_atoms\n",
    "            atomic_number = site.specie.number\n",
    "            x, y, z = site.frac_coords\n",
    "            atom_features.extend([atomic_number, x, y, z])\n",
    "\n",
    "        # Padding if fewer atoms\n",
    "        n_atoms = len(structure.sites)\n",
    "        if n_atoms < max_atoms:\n",
    "            padding = [0.0] * (4 * (max_atoms - n_atoms))\n",
    "            atom_features.extend(padding)\n",
    "\n",
    "        # Final vector\n",
    "        vector = np.array(lattice_params + atom_features, dtype=np.float32)\n",
    "        return vector\n",
    "\n",
    "    except Exception as e:\n",
    "        print(f\"⚠️ Error processing {cif_path}: {e}\")\n",
    "        return None\n",
    "\n",
    "def build_dataset(cif_dir, max_atoms=10):\n",
    "    \"\"\"\n",
    "    Build dataset from all CIF files in a directory.\n",
    "\n",
    "    Args:\n",
    "        cif_dir (str): Path to directory containing CIF files.\n",
    "        max_atoms (int): Maximum number of atoms per structure.\n",
    "\n",
    "    Returns:\n",
    "        np.ndarray: Dataset array of shape (n_samples, feature_size)\n",
    "    \"\"\"\n",
    "    vectors = []\n",
    "    for filename in os.listdir(cif_dir):\n",
    "        if filename.endswith(\".cif\"):\n",
    "            path = os.path.join(cif_dir, filename)\n",
    "            vec = encode_cif_to_vector(path, max_atoms=max_atoms)\n",
    "            if vec is not None:\n",
    "                vectors.append(vec)\n",
    "\n",
    "    dataset = np.vstack(vectors)\n",
    "    print(f\"✅ Built dataset: {dataset.shape[0]} samples, {dataset.shape[1]} features each.\")\n",
    "    return dataset\n",
    "\n",
    "# ----------------------------------------------------------\n",
    "# Usage example:\n",
    "\n",
    "if __name__ == \"__main__\":\n",
    "    cif_directory = \"cif_supraconductor_auto\"  # Your folder\n",
    "    dataset = build_dataset(cif_directory, max_atoms=10)\n",
    "\n",
    "    # Save dataset for later training\n",
    "    np.save(\"cif_dataset.npy\", dataset)\n",
    "    print(\"✅ Dataset saved as cif_dataset.npy\")\n"
   ]
  },
  {
   "cell_type": "markdown",
   "id": "506cd39a",
   "metadata": {},
   "source": [
    "### Build a clean PyTorch Dataset + DataLoader on top of cif_dataset.npy"
   ]
  },
  {
   "cell_type": "code",
   "execution_count": 14,
   "id": "c7847e1b",
   "metadata": {},
   "outputs": [
    {
     "name": "stdout",
     "output_type": "stream",
     "text": [
      "Batch shape: torch.Size([32, 46])\n"
     ]
    }
   ],
   "source": [
    "import torch\n",
    "from torch.utils.data import Dataset, DataLoader\n",
    "import numpy as np\n",
    "\n",
    "class CIFVectorDataset(Dataset):\n",
    "    \"\"\"\n",
    "    PyTorch Dataset for CIF encoded vectors.\n",
    "    \"\"\"\n",
    "\n",
    "    def __init__(self, dataset_path):\n",
    "        \"\"\"\n",
    "        Args:\n",
    "            dataset_path (str): Path to the saved .npy dataset file\n",
    "        \"\"\"\n",
    "        super().__init__()\n",
    "        self.data = np.load(dataset_path)  # shape (n_samples, feature_size)\n",
    "        self.data = torch.tensor(self.data, dtype=torch.float32)\n",
    "\n",
    "    def __len__(self):\n",
    "        return self.data.shape[0]\n",
    "\n",
    "    def __getitem__(self, idx):\n",
    "        return self.data[idx]\n",
    "\n",
    "def get_dataloader(dataset_path, batch_size=64, shuffle=True):\n",
    "    \"\"\"\n",
    "    Returns a PyTorch DataLoader for the CIF dataset.\n",
    "\n",
    "    Args:\n",
    "        dataset_path (str): Path to .npy dataset\n",
    "        batch_size (int): Batch size\n",
    "        shuffle (bool): Whether to shuffle the dataset\n",
    "\n",
    "    Returns:\n",
    "        DataLoader\n",
    "    \"\"\"\n",
    "    dataset = CIFVectorDataset(dataset_path)\n",
    "    loader = DataLoader(dataset, batch_size=batch_size, shuffle=shuffle)\n",
    "    return loader\n",
    "\n",
    "# ----------------------------------------------------------\n",
    "# Usage example:\n",
    "\n",
    "if __name__ == \"__main__\":\n",
    "    dataset_path = \"cif_dataset.npy\"  # Your encoded dataset\n",
    "\n",
    "    loader = get_dataloader(dataset_path, batch_size=32)\n",
    "\n",
    "    # Example: iterate through batches\n",
    "    for batch in loader:\n",
    "        print(f\"Batch shape: {batch.shape}\")  # Should be (batch_size, 46)\n",
    "        break  # Just to test\n"
   ]
  },
  {
   "cell_type": "code",
   "execution_count": 15,
   "id": "747cbe66",
   "metadata": {},
   "outputs": [],
   "source": [
    "#!pip install torch"
   ]
  },
  {
   "cell_type": "code",
   "execution_count": 1,
   "id": "cc95fe34",
   "metadata": {},
   "outputs": [
    {
     "name": "stdout",
     "output_type": "stream",
     "text": [
      "2.4.1+cpu\n",
      "False\n"
     ]
    }
   ],
   "source": [
    "import torch\n",
    "print(torch.__version__)\n",
    "print(torch.cuda.is_available()) "
   ]
  },
  {
   "cell_type": "markdown",
   "id": "759429ae",
   "metadata": {},
   "source": [
    "- Load CIF dataset (.npy)\t✅\n",
    "- Create PyTorch Dataset\t✅\n",
    "- Wrap with DataLoader\t✅\n",
    "- Batches ready for WGAN training"
   ]
  },
  {
   "cell_type": "code",
   "execution_count": 16,
   "id": "c7bbf1d6",
   "metadata": {},
   "outputs": [],
   "source": [
    "loader = get_dataloader(\"cif_dataset.npy\", batch_size=64)\n"
   ]
  },
  {
   "cell_type": "markdown",
   "id": "7b21787f",
   "metadata": {},
   "source": [
    "### Next phase (Phase 2): WGAN-GP model architecture\n",
    "\n",
    "**Next steps would be:**\n",
    "\n",
    "- Write Generator (takes noise and outputs fake 46-vectors)\n",
    "\n",
    "- Write Critic (takes 46-vectors and outputs a real score)\n",
    "\n",
    "- Write Gradient Penalty\n",
    "\n",
    "- Write training loop"
   ]
  },
  {
   "cell_type": "markdown",
   "id": "eee33ae3",
   "metadata": {},
   "source": [
    "### Step importe librairies"
   ]
  },
  {
   "cell_type": "code",
   "execution_count": 29,
   "id": "234c4e56",
   "metadata": {},
   "outputs": [],
   "source": [
    "# Step 1: Import libraries\n",
    "\n",
    "import torch\n",
    "import torch.nn as nn\n",
    "import torch.optim as optim\n",
    "from torch.utils.data import Dataset, DataLoader\n",
    "\n",
    "import numpy as np\n",
    "import matplotlib.pyplot as plt\n"
   ]
  },
  {
   "cell_type": "markdown",
   "id": "492b89aa",
   "metadata": {},
   "source": [
    "### Load cif vector dataset"
   ]
  },
  {
   "cell_type": "code",
   "execution_count": 20,
   "id": "6d090fb0",
   "metadata": {},
   "outputs": [],
   "source": [
    "# Step 2: Load the encoded CIF dataset (you should have cif_dataset.npy)\n",
    "\n",
    "class CIFVectorDataset(Dataset):\n",
    "    \"\"\"\n",
    "    PyTorch Dataset for CIF encoded vectors.\n",
    "    \"\"\"\n",
    "    def __init__(self, dataset_path):\n",
    "        super().__init__()\n",
    "        self.data = np.load(dataset_path)\n",
    "        self.data = torch.tensor(self.data, dtype=torch.float32)\n",
    "\n",
    "    def __len__(self):\n",
    "        return len(self.data)\n",
    "\n",
    "    def __getitem__(self, idx):\n",
    "        return self.data[idx]\n",
    "\n",
    "# Load dataset\n",
    "dataset = CIFVectorDataset('cif_dataset.npy')\n",
    "dataloader = DataLoader(dataset, batch_size=64, shuffle=True)\n"
   ]
  },
  {
   "cell_type": "markdown",
   "id": "b491247c",
   "metadata": {},
   "source": [
    "* CIF data is saved as a .npy file\n",
    "* We wrap it inside a PyTorch Dataset"
   ]
  },
  {
   "cell_type": "markdown",
   "id": "bccce450",
   "metadata": {},
   "source": [
    "### Definir le generator"
   ]
  },
  {
   "cell_type": "code",
   "execution_count": 22,
   "id": "397d04a2",
   "metadata": {},
   "outputs": [],
   "source": [
    "# Step 3: Define the Generator model\n",
    "\n",
    "class Generator(nn.Module):\n",
    "    def __init__(self, noise_dim=128, output_dim=46):\n",
    "        super().__init__()\n",
    "        self.model = nn.Sequential(\n",
    "            nn.Linear(noise_dim, 256),\n",
    "            nn.LeakyReLU(0.2),\n",
    "            nn.Linear(256, 512),\n",
    "            nn.LeakyReLU(0.2),\n",
    "            nn.Linear(512, 256),\n",
    "            nn.LeakyReLU(0.2),\n",
    "            nn.Linear(256, output_dim)\n",
    "        )\n",
    "\n",
    "    def forward(self, z):\n",
    "        return self.model(z)\n",
    "\n",
    "# Create generator\n",
    "gen = Generator()\n"
   ]
  },
  {
   "cell_type": "markdown",
   "id": "d73a9e30",
   "metadata": {},
   "source": [
    "* Generator transforms random noise (128 dimensions) into fake CIF feature vectors (46 dimensions)\n",
    "\n",
    "* Activation: LeakyReLU for better GAN performance\n",
    "\n"
   ]
  },
  {
   "cell_type": "code",
   "execution_count": 23,
   "id": "0a33dcad",
   "metadata": {},
   "outputs": [],
   "source": [
    "### Step 4 Define Critic"
   ]
  },
  {
   "cell_type": "code",
   "execution_count": 26,
   "id": "b7941bb1",
   "metadata": {},
   "outputs": [],
   "source": [
    "# Step 4: Define the Critic model\n",
    "\n",
    "class Critic(nn.Module):\n",
    "    def __init__(self, input_dim=46):\n",
    "        super().__init__()\n",
    "        self.model = nn.Sequential(\n",
    "            nn.Linear(input_dim, 256),\n",
    "            nn.LeakyReLU(0.2),\n",
    "            nn.Linear(256, 512),\n",
    "            nn.LeakyReLU(0.2),\n",
    "            nn.Linear(512, 256),\n",
    "            nn.LeakyReLU(0.2),\n",
    "            nn.Linear(256, 1)\n",
    "        )\n",
    "\n",
    "    def forward(self, x):\n",
    "        return self.model(x)\n",
    "\n",
    "# Create critic\n",
    "critic = Critic()\n"
   ]
  },
  {
   "cell_type": "markdown",
   "id": "47aaef1f",
   "metadata": {},
   "source": [
    "* Critic takes CIF vectors (real or fake) and outputs a score (real number)\n",
    "\n",
    "* No Sigmoid because WGAN critic scores, not probabilities"
   ]
  },
  {
   "cell_type": "markdown",
   "id": "21104ff1",
   "metadata": {},
   "source": [
    "### Step 5 Define Gradient Penalty Function"
   ]
  },
  {
   "cell_type": "code",
   "execution_count": 27,
   "id": "f33c3132",
   "metadata": {},
   "outputs": [],
   "source": [
    "# Step 5: Define the Gradient Penalty function for WGAN-GP\n",
    "\n",
    "def compute_gradient_penalty(critic, real_samples, fake_samples, device=\"cpu\"):\n",
    "    batch_size = real_samples.size(0)\n",
    "\n",
    "    alpha = torch.rand(batch_size, 1).to(device)\n",
    "    alpha = alpha.expand_as(real_samples)\n",
    "\n",
    "    interpolates = alpha * real_samples + (1 - alpha) * fake_samples\n",
    "    interpolates.requires_grad_(True)\n",
    "\n",
    "    critic_interpolates = critic(interpolates)\n",
    "\n",
    "    gradients = torch.autograd.grad(\n",
    "        outputs=critic_interpolates,\n",
    "        inputs=interpolates,\n",
    "        grad_outputs=torch.ones_like(critic_interpolates),\n",
    "        create_graph=True,\n",
    "        retain_graph=True,\n",
    "        only_inputs=True\n",
    "    )[0]\n",
    "\n",
    "    gradients = gradients.view(batch_size, -1)\n",
    "    gradient_norm = gradients.norm(2, dim=1)\n",
    "    gradient_penalty = ((gradient_norm - 1) ** 2).mean()\n",
    "\n",
    "    return gradient_penalty\n"
   ]
  },
  {
   "cell_type": "markdown",
   "id": "f925cbd2",
   "metadata": {},
   "source": [
    "* Ensures smooth transitions between real and fake samples\n",
    "\n",
    "* Important for stability in WGAN-GP training"
   ]
  },
  {
   "cell_type": "markdown",
   "id": "4aa3ebcf",
   "metadata": {},
   "source": [
    "### Training step "
   ]
  },
  {
   "cell_type": "code",
   "execution_count": 33,
   "id": "0a79b021",
   "metadata": {},
   "outputs": [],
   "source": [
    "# Step 6: Training setup\n",
    "\n",
    "device = torch.device('cuda' if torch.cuda.is_available() else 'cpu')\n",
    "\n",
    "gen = gen.to(device)\n",
    "critic = critic.to(device)\n",
    "\n",
    "lr = 1e-4\n",
    "n_critic = 5  # Critic updates per generator update\n",
    "lambda_gp = 10  # Gradient penalty term\n",
    "\n",
    "optimizer_G = optim.Adam(gen.parameters(), lr=lr, betas=(0.0, 0.9))\n",
    "optimizer_C = optim.Adam(critic.parameters(), lr=lr, betas=(0.0, 0.9))\n",
    "\n",
    "epochs = 300  # You can adjust later\n",
    "noise_dim = 128\n"
   ]
  },
  {
   "cell_type": "markdown",
   "id": "fda7386b",
   "metadata": {},
   "source": [
    "* Move models to GPU (if available)\n",
    "\n",
    "* Set learning rate, optimizers\n",
    "\n",
    "* WGAN-GP recommends using Adam with special betas (0.0, 0.9)"
   ]
  },
  {
   "cell_type": "markdown",
   "id": "0d4b1309",
   "metadata": {},
   "source": [
    "### Step 7 Training loop"
   ]
  },
  {
   "cell_type": "code",
   "execution_count": 34,
   "id": "4f415390",
   "metadata": {},
   "outputs": [
    {
     "name": "stdout",
     "output_type": "stream",
     "text": [
      "Epoch 0/300 | Critic Loss: -1143.3394 | Generator Loss: -44.0531\n",
      "Epoch 100/300 | Critic Loss: -589.7258 | Generator Loss: -470.9121\n",
      "Epoch 200/300 | Critic Loss: -179.7447 | Generator Loss: -105.9660\n"
     ]
    }
   ],
   "source": [
    "# Step 7: Training loop\n",
    "\n",
    "gen_losses = []\n",
    "critic_losses = []\n",
    "\n",
    "for epoch in range(epochs):\n",
    "    for i, real_samples in enumerate(dataloader):\n",
    "        real_samples = real_samples.to(device)\n",
    "        batch_size = real_samples.size(0)\n",
    "\n",
    "        # ---------------------\n",
    "        #  Train Critic\n",
    "        # ---------------------\n",
    "        for _ in range(n_critic):\n",
    "            z = torch.randn(batch_size, noise_dim).to(device)\n",
    "            fake_samples = gen(z)\n",
    "\n",
    "            critic_real = critic(real_samples)\n",
    "            critic_fake = critic(fake_samples)\n",
    "\n",
    "            gp = compute_gradient_penalty(critic, real_samples, fake_samples, device)\n",
    "\n",
    "            critic_loss = -(torch.mean(critic_real) - torch.mean(critic_fake)) + lambda_gp * gp\n",
    "\n",
    "            optimizer_C.zero_grad()\n",
    "            critic_loss.backward()\n",
    "            optimizer_C.step()\n",
    "\n",
    "        # ---------------------\n",
    "        #  Train Generator\n",
    "        # ---------------------\n",
    "        z = torch.randn(batch_size, noise_dim).to(device)\n",
    "        fake_samples = gen(z)\n",
    "        critic_fake = critic(fake_samples)\n",
    "        gen_loss = -torch.mean(critic_fake)\n",
    "\n",
    "        optimizer_G.zero_grad()\n",
    "        gen_loss.backward()\n",
    "        optimizer_G.step()\n",
    "\n",
    "    # Save losses\n",
    "    gen_losses.append(gen_loss.item())\n",
    "    critic_losses.append(critic_loss.item())\n",
    "\n",
    "    if epoch % 100 == 0:\n",
    "        print(f\"Epoch {epoch}/{epochs} | Critic Loss: {critic_loss.item():.4f} | Generator Loss: {gen_loss.item():.4f}\")\n"
   ]
  },
  {
   "cell_type": "markdown",
   "id": "5948ded9",
   "metadata": {},
   "source": [
    "* Critic trained multiple times per generator update\n",
    "\n",
    "* Wasserstein loss used\n",
    "\n",
    "* Gradient penalty added\n",
    "\n",
    "* Losses stored for visualization"
   ]
  },
  {
   "cell_type": "markdown",
   "id": "8bb7fc84",
   "metadata": {},
   "source": [
    "### Step 8 Plot Losses"
   ]
  },
  {
   "cell_type": "code",
   "execution_count": 35,
   "id": "1ab5c6fb",
   "metadata": {},
   "outputs": [
    {
     "data": {
      "image/png": "[encoded data removed]",
      "text/plain": [
       "<Figure size 1000x500 with 1 Axes>"
      ]
     },
     "metadata": {},
     "output_type": "display_data"
    }
   ],
   "source": [
    "# Step 8: Plot generator and critic losses\n",
    "\n",
    "plt.figure(figsize=(10, 5))\n",
    "plt.plot(gen_losses, label=\"Generator Loss\")\n",
    "plt.plot(critic_losses, label=\"Critic Loss\")\n",
    "plt.legend()\n",
    "plt.title(\"WGAN-GP Training Losses\")\n",
    "plt.xlabel(\"Epoch\")\n",
    "plt.ylabel(\"Loss\")\n",
    "plt.show()\n"
   ]
  },
  {
   "cell_type": "markdown",
   "id": "80d21e77",
   "metadata": {},
   "source": [
    "### Step 9 : Save Model"
   ]
  },
  {
   "cell_type": "code",
   "execution_count": 36,
   "id": "549e4d31",
   "metadata": {},
   "outputs": [],
   "source": [
    "# (Optional) Save models after training\n",
    "torch.save(gen.state_dict(), \"generator_cif.pth\")\n",
    "torch.save(critic.state_dict(), \"critic_cif.pth\")\n"
   ]
  },
  {
   "cell_type": "markdown",
   "id": "4eafba0a",
   "metadata": {},
   "source": [
    "### Step 10 :  sample new CIF vectors after training"
   ]
  },
  {
   "cell_type": "code",
   "execution_count": 37,
   "id": "ec372bab",
   "metadata": {},
   "outputs": [
    {
     "name": "stderr",
     "output_type": "stream",
     "text": [
      "C:\\Users\\Kered\\AppData\\Local\\Temp\\ipykernel_2188\\3298357415.py:4: FutureWarning: You are using `torch.load` with `weights_only=False` (the current default value), which uses the default pickle module implicitly. It is possible to construct malicious pickle data which will execute arbitrary code during unpickling (See https://github.com/pytorch/pytorch/blob/main/SECURITY.md#untrusted-models for more details). In a future release, the default value for `weights_only` will be flipped to `True`. This limits the functions that could be executed during unpickling. Arbitrary objects will no longer be allowed to be loaded via this mode unless they are explicitly allowlisted by the user via `torch.serialization.add_safe_globals`. We recommend you start setting `weights_only=True` for any use case where you don't have full control of the loaded file. Please open an issue on GitHub for any issues related to this experimental feature.\n",
      "  gen.load_state_dict(torch.load(\"generator_cif.pth\", map_location=torch.device('cpu')))\n"
     ]
    }
   ],
   "source": [
    "# Step 1: Load your trained generator\n",
    "\n",
    "gen = Generator()\n",
    "gen.load_state_dict(torch.load(\"generator_cif.pth\", map_location=torch.device('cpu')))\n",
    "gen.eval()\n",
    "\n",
    "# Step 2: Generate fake CIF feature vectors\n",
    "\n",
    "n_samples = 10  # Number of fake crystals to generate\n",
    "noise_dim = 128\n",
    "\n",
    "z = torch.randn(n_samples, noise_dim)\n",
    "with torch.no_grad():\n",
    "    fake_vectors = gen(z)  # shape (n_samples, 46)\n",
    "\n",
    "fake_vectors = fake_vectors.numpy()\n"
   ]
  },
  {
   "cell_type": "markdown",
   "id": "610d62af",
   "metadata": {},
   "source": [
    "* Load your trained Generator\n",
    "\n",
    "* Sample random noise\n",
    "\n",
    "* Pass through Generator to get fake CIF feature vectors"
   ]
  },
  {
   "cell_type": "markdown",
   "id": "b8fc9d3f",
   "metadata": {},
   "source": [
    "### Step 11 Decode back to real CIF structures"
   ]
  },
  {
   "cell_type": "code",
   "execution_count": 41,
   "id": "d4ab759b",
   "metadata": {},
   "outputs": [],
   "source": [
    "from pymatgen.core import Lattice, Structure, Element\n",
    "\n",
    "def decode_vector_to_structure(vector, max_atoms=10):\n",
    "    \"\"\"\n",
    "    Decode a generated vector back into a pymatgen Structure.\n",
    "    \"\"\"\n",
    "    # Lattice parameters\n",
    "    a, b, c, alpha, beta, gamma = vector[:6]\n",
    "\n",
    "    # Sanitize lattice parameters (to avoid unphysical results)\n",
    "    a = max(a, 1.0)\n",
    "    b = max(b, 1.0)\n",
    "    c = max(c, 1.0)\n",
    "    alpha = min(max(alpha, 10), 170)\n",
    "    beta = min(max(beta, 10), 170)\n",
    "    gamma = min(max(gamma, 10), 170)\n",
    "\n",
    "    lattice = Lattice.from_parameters(a, b, c, alpha, beta, gamma)\n",
    "\n",
    "\n",
    "    # Atom features\n",
    "    atom_features = vector[6:].reshape((max_atoms, 4))  # [atomic_number, x, y, z]\n",
    "\n",
    "    species = []\n",
    "    coords = []\n",
    "\n",
    "    for atom in atom_features:\n",
    "        atomic_number, x, y, z = atom\n",
    "        if atomic_number < 1:\n",
    "            continue  # Skip padding zeros\n",
    "\n",
    "        try:\n",
    "            element = Element.from_Z(int(round(atomic_number)))\n",
    "            species.append(element.symbol)\n",
    "            coords.append([x % 1, y % 1, z % 1])  # Wrap fractional coordinates between 0-1\n",
    "        except:\n",
    "            continue  # Skip invalid atomic numbers\n",
    "\n",
    "    if len(species) == 0:\n",
    "        return None  # Skip empty structures\n",
    "\n",
    "    structure = Structure(lattice, species, coords)\n",
    "    return structure\n"
   ]
  },
  {
   "cell_type": "markdown",
   "id": "b623b4b1",
   "metadata": {},
   "source": [
    "* First 6 numbers are lattice info\n",
    "\n",
    "* Next groups of 4 numbers = (atomic number, x, y, z)\n",
    "\n",
    "* If atomic number is invalid (< 1), we skip\n",
    "\n",
    "* Build a pymatgen Structure safely"
   ]
  },
  {
   "cell_type": "markdown",
   "id": "2d5e8e7b",
   "metadata": {},
   "source": [
    "### Step 12 Save generated structures as CIF files"
   ]
  },
  {
   "cell_type": "code",
   "execution_count": 42,
   "id": "e68c69aa",
   "metadata": {},
   "outputs": [
    {
     "name": "stdout",
     "output_type": "stream",
     "text": [
      "✅ Saved generated_cif_files\\fake_crystal_0.cif\n",
      "✅ Saved generated_cif_files\\fake_crystal_1.cif\n",
      "✅ Saved generated_cif_files\\fake_crystal_2.cif\n",
      "✅ Saved generated_cif_files\\fake_crystal_3.cif\n",
      "✅ Saved generated_cif_files\\fake_crystal_4.cif\n",
      "✅ Saved generated_cif_files\\fake_crystal_5.cif\n",
      "✅ Saved generated_cif_files\\fake_crystal_6.cif\n",
      "✅ Saved generated_cif_files\\fake_crystal_7.cif\n",
      "✅ Saved generated_cif_files\\fake_crystal_8.cif\n",
      "✅ Saved generated_cif_files\\fake_crystal_9.cif\n"
     ]
    },
    {
     "name": "stderr",
     "output_type": "stream",
     "text": [
      "c:\\Users\\Kered\\GAN_Mastery\\.venv\\lib\\site-packages\\pymatgen\\core\\periodic_table.py:221: UserWarning: No Pauling electronegativity for Ar. Setting to NaN. This has no physical meaning, and is mainly done to avoid errors caused by the code expecting a float.\n",
      "  warnings.warn(\n"
     ]
    }
   ],
   "source": [
    "# Step 3: Save all generated structures\n",
    "\n",
    "output_dir = \"generated_cif_files\"\n",
    "os.makedirs(output_dir, exist_ok=True)\n",
    "\n",
    "for idx, vec in enumerate(fake_vectors):\n",
    "    structure = decode_vector_to_structure(vec)\n",
    "    if structure is not None:\n",
    "        filename = os.path.join(output_dir, f\"fake_crystal_{idx}.cif\")\n",
    "        structure.to(filename=filename)\n",
    "        print(f\"✅ Saved {filename}\")\n",
    "    else:\n",
    "        print(f\"⚠️ Skipped empty structure {idx}\")\n"
   ]
  },
  {
   "cell_type": "markdown",
   "id": "0e745108",
   "metadata": {},
   "source": [
    "* Each fake crystal is saved as a .cif file\n",
    "\n",
    "* Skips invalid structures (e.g., 0 atoms)"
   ]
  },
  {
   "cell_type": "markdown",
   "id": "df8554c3",
   "metadata": {},
   "source": [
    "### Step 13 Validation script\n",
    "- analyze your generated CIFs and give scores like:\n",
    "\n",
    " * Lattice volume\n",
    " * Number of atoms\n",
    " * Are all atomic numbers realistic?"
   ]
  },
  {
   "cell_type": "code",
   "execution_count": 1,
   "id": "1451f766",
   "metadata": {},
   "outputs": [
    {
     "name": "stdout",
     "output_type": "stream",
     "text": [
      "✅ Validation report saved to validation_report.csv\n"
     ]
    },
    {
     "name": "stderr",
     "output_type": "stream",
     "text": [
      "c:\\Users\\Kered\\GAN_Mastery\\.venv\\lib\\site-packages\\pymatgen\\core\\periodic_table.py:221: UserWarning: No Pauling electronegativity for Ar. Setting to NaN. This has no physical meaning, and is mainly done to avoid errors caused by the code expecting a float.\n",
      "  warnings.warn(\n"
     ]
    },
    {
     "data": {
      "text/html": [
       "<div>\n",
       "<style scoped>\n",
       "    .dataframe tbody tr th:only-of-type {\n",
       "        vertical-align: middle;\n",
       "    }\n",
       "\n",
       "    .dataframe tbody tr th {\n",
       "        vertical-align: top;\n",
       "    }\n",
       "\n",
       "    .dataframe thead th {\n",
       "        text-align: right;\n",
       "    }\n",
       "</style>\n",
       "<table border=\"1\" class=\"dataframe\">\n",
       "  <thead>\n",
       "    <tr style=\"text-align: right;\">\n",
       "      <th></th>\n",
       "      <th>filename</th>\n",
       "      <th>volume</th>\n",
       "      <th>num_atoms</th>\n",
       "      <th>invalid_atoms</th>\n",
       "      <th>valid</th>\n",
       "    </tr>\n",
       "  </thead>\n",
       "  <tbody>\n",
       "    <tr>\n",
       "      <th>0</th>\n",
       "      <td>fake_crystal_0.cif</td>\n",
       "      <td>579.695129</td>\n",
       "      <td>10</td>\n",
       "      <td>0</td>\n",
       "      <td>True</td>\n",
       "    </tr>\n",
       "    <tr>\n",
       "      <th>1</th>\n",
       "      <td>fake_crystal_1.cif</td>\n",
       "      <td>924.259424</td>\n",
       "      <td>10</td>\n",
       "      <td>0</td>\n",
       "      <td>True</td>\n",
       "    </tr>\n",
       "    <tr>\n",
       "      <th>2</th>\n",
       "      <td>fake_crystal_2.cif</td>\n",
       "      <td>918.870436</td>\n",
       "      <td>10</td>\n",
       "      <td>0</td>\n",
       "      <td>True</td>\n",
       "    </tr>\n",
       "    <tr>\n",
       "      <th>3</th>\n",
       "      <td>fake_crystal_3.cif</td>\n",
       "      <td>907.613048</td>\n",
       "      <td>10</td>\n",
       "      <td>0</td>\n",
       "      <td>True</td>\n",
       "    </tr>\n",
       "    <tr>\n",
       "      <th>4</th>\n",
       "      <td>fake_crystal_4.cif</td>\n",
       "      <td>858.818233</td>\n",
       "      <td>10</td>\n",
       "      <td>0</td>\n",
       "      <td>True</td>\n",
       "    </tr>\n",
       "    <tr>\n",
       "      <th>5</th>\n",
       "      <td>fake_crystal_5.cif</td>\n",
       "      <td>886.513622</td>\n",
       "      <td>10</td>\n",
       "      <td>0</td>\n",
       "      <td>True</td>\n",
       "    </tr>\n",
       "    <tr>\n",
       "      <th>6</th>\n",
       "      <td>fake_crystal_6.cif</td>\n",
       "      <td>473.044636</td>\n",
       "      <td>10</td>\n",
       "      <td>0</td>\n",
       "      <td>True</td>\n",
       "    </tr>\n",
       "    <tr>\n",
       "      <th>7</th>\n",
       "      <td>fake_crystal_7.cif</td>\n",
       "      <td>1010.656853</td>\n",
       "      <td>10</td>\n",
       "      <td>0</td>\n",
       "      <td>True</td>\n",
       "    </tr>\n",
       "    <tr>\n",
       "      <th>8</th>\n",
       "      <td>fake_crystal_8.cif</td>\n",
       "      <td>612.072115</td>\n",
       "      <td>10</td>\n",
       "      <td>0</td>\n",
       "      <td>True</td>\n",
       "    </tr>\n",
       "    <tr>\n",
       "      <th>9</th>\n",
       "      <td>fake_crystal_9.cif</td>\n",
       "      <td>173.777433</td>\n",
       "      <td>10</td>\n",
       "      <td>0</td>\n",
       "      <td>True</td>\n",
       "    </tr>\n",
       "  </tbody>\n",
       "</table>\n",
       "</div>"
      ],
      "text/plain": [
       "             filename       volume  num_atoms  invalid_atoms  valid\n",
       "0  fake_crystal_0.cif   579.695129         10              0   True\n",
       "1  fake_crystal_1.cif   924.259424         10              0   True\n",
       "2  fake_crystal_2.cif   918.870436         10              0   True\n",
       "3  fake_crystal_3.cif   907.613048         10              0   True\n",
       "4  fake_crystal_4.cif   858.818233         10              0   True\n",
       "5  fake_crystal_5.cif   886.513622         10              0   True\n",
       "6  fake_crystal_6.cif   473.044636         10              0   True\n",
       "7  fake_crystal_7.cif  1010.656853         10              0   True\n",
       "8  fake_crystal_8.cif   612.072115         10              0   True\n",
       "9  fake_crystal_9.cif   173.777433         10              0   True"
      ]
     },
     "metadata": {},
     "output_type": "display_data"
    }
   ],
   "source": [
    "import os\n",
    "import pandas as pd\n",
    "from pymatgen.core import Structure\n",
    "\n",
    "def validate_cif_folder(folder_path, output_csv=\"validation_report.csv\"):\n",
    "    \"\"\"\n",
    "    Validate all CIFs in a folder.\n",
    "\n",
    "    Args:\n",
    "        folder_path (str): Path to folder containing CIFs\n",
    "        output_csv (str): Path to save validation report CSV\n",
    "\n",
    "    Returns:\n",
    "        pd.DataFrame: Validation results\n",
    "    \"\"\"\n",
    "    results = []\n",
    "\n",
    "    for filename in os.listdir(folder_path):\n",
    "        if filename.endswith(\".cif\"):\n",
    "            path = os.path.join(folder_path, filename)\n",
    "            try:\n",
    "                structure = Structure.from_file(path)\n",
    "\n",
    "                # Lattice volume\n",
    "                volume = structure.lattice.volume\n",
    "\n",
    "                # Number of atoms\n",
    "                num_atoms = len(structure.sites)\n",
    "\n",
    "                # Atomic numbers\n",
    "                atomic_numbers = [site.specie.number for site in structure.sites]\n",
    "                invalid_atomic_numbers = [Z for Z in atomic_numbers if Z < 1 or Z > 92]\n",
    "\n",
    "                result = {\n",
    "                    \"filename\": filename,\n",
    "                    \"volume\": volume,\n",
    "                    \"num_atoms\": num_atoms,\n",
    "                    \"invalid_atoms\": len(invalid_atomic_numbers),\n",
    "                    \"valid\": len(invalid_atomic_numbers) == 0\n",
    "                }\n",
    "\n",
    "                results.append(result)\n",
    "\n",
    "            except Exception as e:\n",
    "                print(f\"⚠️ Error reading {filename}: {e}\")\n",
    "                results.append({\n",
    "                    \"filename\": filename,\n",
    "                    \"volume\": None,\n",
    "                    \"num_atoms\": None,\n",
    "                    \"invalid_atoms\": None,\n",
    "                    \"valid\": False\n",
    "                })\n",
    "\n",
    "    df = pd.DataFrame(results)\n",
    "    df.to_csv(output_csv, index=False)\n",
    "    print(f\"✅ Validation report saved to {output_csv}\")\n",
    "    return df\n",
    "\n",
    "# ----------------------------------------------------------\n",
    "# Usage Example:\n",
    "\n",
    "if __name__ == \"__main__\":\n",
    "    folder = \"generated_cif_files\"  # Your folder\n",
    "    report = validate_cif_folder(folder)\n",
    "    display(report)\n"
   ]
  },
  {
   "cell_type": "markdown",
   "id": "9b366e8b",
   "metadata": {},
   "source": [
    "### Steps 14 Crystal Toolkit"
   ]
  },
  {
   "cell_type": "code",
   "execution_count": null,
   "id": "3c4b7861",
   "metadata": {},
   "outputs": [],
   "source": [
    "pip install crystal-toolkit\n"
   ]
  },
  {
   "cell_type": "code",
   "execution_count": null,
   "id": "986e94be",
   "metadata": {},
   "outputs": [],
   "source": [
    "git clone https://github.com/materialsproject/crystaltoolkit.git\n",
    "cd crystaltoolkit\n",
    "pip install -e .\n",
    "\n"
   ]
  },
  {
   "cell_type": "code",
   "execution_count": 12,
   "id": "c34e09d6",
   "metadata": {},
   "outputs": [
    {
     "ename": "ModuleNotFoundError",
     "evalue": "No module named 'crystal_toolkit'",
     "output_type": "error",
     "traceback": [
      "\u001b[1;31m---------------------------------------------------------------------------\u001b[0m",
      "\u001b[1;31mModuleNotFoundError\u001b[0m                       Traceback (most recent call last)",
      "Cell \u001b[1;32mIn[12], line 1\u001b[0m\n\u001b[1;32m----> 1\u001b[0m \u001b[38;5;28;01mfrom\u001b[39;00m\u001b[38;5;250m \u001b[39m\u001b[38;5;21;01mcrystal_toolkit\u001b[39;00m\u001b[38;5;21;01m.\u001b[39;00m\u001b[38;5;21;01mhelpers\u001b[39;00m\u001b[38;5;21;01m.\u001b[39;00m\u001b[38;5;21;01mpythreejs_renderer\u001b[39;00m\u001b[38;5;250m \u001b[39m\u001b[38;5;28;01mimport\u001b[39;00m StructureMoleculeComponent\n\u001b[0;32m      2\u001b[0m \u001b[38;5;28;01mfrom\u001b[39;00m\u001b[38;5;250m \u001b[39m\u001b[38;5;21;01mpymatgen\u001b[39;00m\u001b[38;5;21;01m.\u001b[39;00m\u001b[38;5;21;01mcore\u001b[39;00m\u001b[38;5;250m \u001b[39m\u001b[38;5;28;01mimport\u001b[39;00m Structure\n\u001b[0;32m      3\u001b[0m \u001b[38;5;28;01mimport\u001b[39;00m\u001b[38;5;250m \u001b[39m\u001b[38;5;21;01mos\u001b[39;00m\n",
      "\u001b[1;31mModuleNotFoundError\u001b[0m: No module named 'crystal_toolkit'"
     ]
    }
   ],
   "source": [
    "from crystal_toolkit.helpers.pythreejs_renderer import StructureMoleculeComponent\n",
    "from pymatgen.core import Structure\n",
    "import os\n",
    "\n",
    "# Step 1: Load a fake crystal structure\n",
    "cif_path = os.path.join(\"generated_cif_files\", \"fake_crystal_0.cif\")\n",
    "structure = Structure.from_file(cif_path)\n",
    "\n",
    "# Step 2: Create a Crystal Toolkit component\n",
    "structure_component = StructureMoleculeComponent(structure)\n",
    "\n",
    "# Step 3: Display inside the notebook\n",
    "structure_component.show()\n"
   ]
  },
  {
   "cell_type": "markdown",
   "id": "9bb7de80",
   "metadata": {},
   "source": [
    "* Load your .cif file into a pymatgen Structure\n",
    "* Create a Crystal Toolkit StructureMoleculeComponent\n",
    "* show() embeds a live 3D viewer inside your Notebook (you can rotate, zoom, etc.)"
   ]
  },
  {
   "cell_type": "markdown",
   "id": "9d37547c",
   "metadata": {},
   "source": [
    "Loop multiple cristal"
   ]
  },
  {
   "cell_type": "code",
   "execution_count": null,
   "id": "6d408862",
   "metadata": {},
   "outputs": [],
   "source": [
    "import random\n",
    "\n",
    "cif_files = os.listdir(\"generated_cif_files\")\n",
    "random_cif = random.choice(cif_files)\n",
    "structure = Structure.from_file(os.path.join(\"generated_cif_files\", random_cif))\n",
    "StructureMoleculeComponent(structure).show()\n"
   ]
  },
  {
   "cell_type": "code",
   "execution_count": 7,
   "id": "2948033f",
   "metadata": {},
   "outputs": [
    {
     "name": "stdout",
     "output_type": "stream",
     "text": [
      "Collecting crystal-toolkit\n",
      "  Using cached crystal_toolkit-2023.10.9-py3-none-any.whl.metadata (18 kB)\n",
      "Collecting crystaltoolkit-extension (from crystal-toolkit)\n",
      "  Using cached crystaltoolkit-extension-0.6.0.tar.gz (2.9 MB)\n",
      "  Installing build dependencies: started\n",
      "  Installing build dependencies: finished with status 'error'\n"
     ]
    },
    {
     "name": "stderr",
     "output_type": "stream",
     "text": [
      "  error: subprocess-exited-with-error\n",
      "  \n",
      "  × pip subprocess to install build dependencies did not run successfully.\n",
      "  │ exit code: 1\n",
      "  ╰─> [81 lines of output]\n",
      "      Collecting jupyter_packaging~=0.7.9\n",
      "        Using cached jupyter_packaging-0.7.12-py2.py3-none-any.whl.metadata (996 bytes)\n",
      "      Collecting jupyterlab==3.*,>=3.0.0rc13\n",
      "        Using cached jupyterlab-3.6.8-py3-none-any.whl.metadata (12 kB)\n",
      "      Collecting setuptools>=40.8.0\n",
      "        Using cached setuptools-75.3.2-py3-none-any.whl.metadata (6.9 kB)\n",
      "      Collecting wheel\n",
      "        Using cached wheel-0.45.1-py3-none-any.whl.metadata (2.3 kB)\n",
      "      Collecting ipython (from jupyterlab==3.*,>=3.0.0rc13)\n",
      "        Using cached ipython-8.12.3-py3-none-any.whl.metadata (5.7 kB)\n",
      "      Collecting packaging (from jupyterlab==3.*,>=3.0.0rc13)\n",
      "        Using cached packaging-25.0-py3-none-any.whl.metadata (3.3 kB)\n",
      "      Collecting tornado>=6.1.0 (from jupyterlab==3.*,>=3.0.0rc13)\n",
      "        Using cached tornado-6.4.2-cp38-abi3-win_amd64.whl.metadata (2.6 kB)\n",
      "      Collecting jupyter-core (from jupyterlab==3.*,>=3.0.0rc13)\n",
      "        Using cached jupyter_core-5.7.2-py3-none-any.whl.metadata (3.4 kB)\n",
      "      Collecting jupyterlab-server~=2.19 (from jupyterlab==3.*,>=3.0.0rc13)\n",
      "        Using cached jupyterlab_server-2.27.3-py3-none-any.whl.metadata (5.9 kB)\n",
      "      Collecting jupyter-server<3,>=1.16.0 (from jupyterlab==3.*,>=3.0.0rc13)\n",
      "        Using cached jupyter_server-2.14.2-py3-none-any.whl.metadata (8.4 kB)\n",
      "      Collecting jupyter-ydoc~=0.2.4 (from jupyterlab==3.*,>=3.0.0rc13)\n",
      "        Using cached jupyter_ydoc-0.2.5-py3-none-any.whl.metadata (2.2 kB)\n",
      "      Collecting jupyter-server-ydoc~=0.8.0 (from jupyterlab==3.*,>=3.0.0rc13)\n",
      "        Using cached jupyter_server_ydoc-0.8.0-py3-none-any.whl.metadata (5.3 kB)\n",
      "      Collecting nbclassic (from jupyterlab==3.*,>=3.0.0rc13)\n",
      "        Using cached nbclassic-1.2.0-py3-none-any.whl.metadata (3.6 kB)\n",
      "      Collecting notebook<7 (from jupyterlab==3.*,>=3.0.0rc13)\n",
      "        Using cached notebook-6.5.7-py3-none-any.whl.metadata (2.5 kB)\n",
      "      Collecting jinja2>=2.1 (from jupyterlab==3.*,>=3.0.0rc13)\n",
      "        Using cached jinja2-3.1.6-py3-none-any.whl.metadata (2.9 kB)\n",
      "      Collecting tomli (from jupyterlab==3.*,>=3.0.0rc13)\n",
      "        Using cached tomli-2.2.1-py3-none-any.whl.metadata (10 kB)\n",
      "      Collecting MarkupSafe>=2.0 (from jinja2>=2.1->jupyterlab==3.*,>=3.0.0rc13)\n",
      "        Using cached MarkupSafe-2.1.5-cp38-cp38-win_amd64.whl.metadata (3.1 kB)\n",
      "      Collecting anyio>=3.1.0 (from jupyter-server<3,>=1.16.0->jupyterlab==3.*,>=3.0.0rc13)\n",
      "        Using cached anyio-4.5.2-py3-none-any.whl.metadata (4.7 kB)\n",
      "      Collecting argon2-cffi>=21.1 (from jupyter-server<3,>=1.16.0->jupyterlab==3.*,>=3.0.0rc13)\n",
      "        Using cached argon2_cffi-23.1.0-py3-none-any.whl.metadata (5.2 kB)\n",
      "      Collecting jupyter-client>=7.4.4 (from jupyter-server<3,>=1.16.0->jupyterlab==3.*,>=3.0.0rc13)\n",
      "        Using cached jupyter_client-8.6.3-py3-none-any.whl.metadata (8.3 kB)\n",
      "      Collecting jupyter-events>=0.9.0 (from jupyter-server<3,>=1.16.0->jupyterlab==3.*,>=3.0.0rc13)\n",
      "        Using cached jupyter_events-0.10.0-py3-none-any.whl.metadata (5.9 kB)\n",
      "      Collecting jupyter-server-terminals>=0.4.4 (from jupyter-server<3,>=1.16.0->jupyterlab==3.*,>=3.0.0rc13)\n",
      "        Using cached jupyter_server_terminals-0.5.3-py3-none-any.whl.metadata (5.6 kB)\n",
      "      Collecting nbconvert>=6.4.4 (from jupyter-server<3,>=1.16.0->jupyterlab==3.*,>=3.0.0rc13)\n",
      "        Using cached nbconvert-7.16.6-py3-none-any.whl.metadata (8.5 kB)\n",
      "      Collecting nbformat>=5.3.0 (from jupyter-server<3,>=1.16.0->jupyterlab==3.*,>=3.0.0rc13)\n",
      "        Using cached nbformat-5.10.4-py3-none-any.whl.metadata (3.6 kB)\n",
      "      Collecting overrides>=5.0 (from jupyter-server<3,>=1.16.0->jupyterlab==3.*,>=3.0.0rc13)\n",
      "        Using cached overrides-7.7.0-py3-none-any.whl.metadata (5.8 kB)\n",
      "      Collecting prometheus-client>=0.9 (from jupyter-server<3,>=1.16.0->jupyterlab==3.*,>=3.0.0rc13)\n",
      "        Using cached prometheus_client-0.21.1-py3-none-any.whl.metadata (1.8 kB)\n",
      "      Collecting pywinpty>=2.0.1 (from jupyter-server<3,>=1.16.0->jupyterlab==3.*,>=3.0.0rc13)\n",
      "        Using cached pywinpty-2.0.14.tar.gz (27 kB)\n",
      "        Installing build dependencies: started\n",
      "        Installing build dependencies: finished with status 'done'\n",
      "        Getting requirements to build wheel: started\n",
      "        Getting requirements to build wheel: finished with status 'done'\n",
      "        Preparing metadata (pyproject.toml): started\n",
      "        Preparing metadata (pyproject.toml): finished with status 'error'\n",
      "        error: subprocess-exited-with-error\n",
      "      \n",
      "        Ã— Preparing metadata (pyproject.toml) did not run successfully.\n",
      "        â”‚ exit code: 1\n",
      "        â•°â”€> [6 lines of output]\n",
      "            Checking for Rust toolchain....\n",
      "      \n",
      "            Cargo, the Rust package manager, is not installed or is not on PATH.\n",
      "            This package requires Rust and Cargo to compile extensions. Install it through\n",
      "            the system's package manager or via https://rustup.rs/\n",
      "      \n",
      "            [end of output]\n",
      "      \n",
      "        note: This error originates from a subprocess, and is likely not a problem with pip.\n",
      "      error: metadata-generation-failed\n",
      "      \n",
      "      Ã— Encountered error while generating package metadata.\n",
      "      â•°â”€> See above for output.\n",
      "      \n",
      "      note: This is an issue with the package mentioned above, not pip.\n",
      "      hint: See above for details.\n",
      "      [end of output]\n",
      "  \n",
      "  note: This error originates from a subprocess, and is likely not a problem with pip.\n",
      "error: subprocess-exited-with-error\n",
      "\n",
      "× pip subprocess to install build dependencies did not run successfully.\n",
      "│ exit code: 1\n",
      "╰─> See above for output.\n",
      "\n",
      "note: This error originates from a subprocess, and is likely not a problem with pip.\n"
     ]
    }
   ],
   "source": [
    "!pip install crystal-toolkit\n",
    "\n"
   ]
  },
  {
   "cell_type": "code",
   "execution_count": null,
   "id": "1e7844c8",
   "metadata": {},
   "outputs": [],
   "source": []
  }
 ],
 "metadata": {
  "kernelspec": {
   "display_name": ".venv",
   "language": "python",
   "name": "python3"
  },
  "language_info": {
   "codemirror_mode": {
    "name": "ipython",
    "version": 3
   },
   "file_extension": ".py",
   "mimetype": "text/x-python",
   "name": "python",
   "nbconvert_exporter": "python",
   "pygments_lexer": "ipython3",
   "version": "3.8.0"
  }
 },
 "nbformat": 4,
 "nbformat_minor": 5
}
