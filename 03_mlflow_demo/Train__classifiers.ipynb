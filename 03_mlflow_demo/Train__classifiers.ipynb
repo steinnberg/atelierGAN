{
 "cells": [
  {
   "cell_type": "markdown",
   "id": "862a396b-b5c4-45ad-81ef-44084956018b",
   "metadata": {},
   "source": [
    "## Entraîner plusieurs modèles de classification "
   ]
  },
  {
   "cell_type": "markdown",
   "id": "de41a4cf-f2ad-4ec4-acea-976d33fd80cf",
   "metadata": {},
   "source": [
    "**Entraîner plusieurs modèles de classification (RandomForest, LogisticRegression, SVC)**\n",
    "\n",
    "1. Logger chaque run dans MLflow\n",
    "\n",
    "2. Visualiser et comparer les performances\n",
    "\n",
    "3. Voir toutes les choses utiles à explorer dans l’interface MLflow"
   ]
  },
  {
   "cell_type": "code",
   "execution_count": 1,
   "id": "cbb95504-45b8-4bd0-bf59-03e00d399a59",
   "metadata": {},
   "outputs": [
    {
     "data": {
      "application/vnd.jupyter.widget-view+json": {
       "model_id": "84139d9589a64532b0a5432061bcc309",
       "version_major": 2,
       "version_minor": 0
      },
      "text/plain": [
       "Downloading artifacts:   0%|          | 0/7 [00:00<?, ?it/s]"
      ]
     },
     "metadata": {},
     "output_type": "display_data"
    },
    {
     "data": {
      "application/vnd.jupyter.widget-view+json": {
       "model_id": "4efe8cbab5d340fb8c6f2cd9dfc844e1",
       "version_major": 2,
       "version_minor": 0
      },
      "text/plain": [
       "Downloading artifacts:   0%|          | 0/7 [00:00<?, ?it/s]"
      ]
     },
     "metadata": {},
     "output_type": "display_data"
    },
    {
     "data": {
      "application/vnd.jupyter.widget-view+json": {
       "model_id": "3cd509e6ae944b58be09077980b83539",
       "version_major": 2,
       "version_minor": 0
      },
      "text/plain": [
       "Downloading artifacts:   0%|          | 0/7 [00:00<?, ?it/s]"
      ]
     },
     "metadata": {},
     "output_type": "display_data"
    }
   ],
   "source": [
    "import mlflow\n",
    "import mlflow.sklearn\n",
    "from sklearn.datasets import load_breast_cancer\n",
    "from sklearn.model_selection import train_test_split\n",
    "from sklearn.ensemble import RandomForestClassifier\n",
    "from sklearn.linear_model import LogisticRegression\n",
    "from sklearn.svm import SVC\n",
    "from sklearn.metrics import accuracy_score, f1_score, confusion_matrix\n",
    "from mlflow.models.signature import infer_signature\n",
    "\n",
    "import pandas as pd\n",
    "import matplotlib.pyplot as plt\n",
    "import seaborn as sns\n",
    "import os\n",
    "\n",
    "# Charger les données\n",
    "data = load_breast_cancer()\n",
    "X = pd.DataFrame(data.data, columns=data.feature_names)\n",
    "y = pd.Series(data.target)\n",
    "\n",
    "# Split train/test\n",
    "X_train, X_test, y_train, y_test = train_test_split(X, y, test_size=0.2, random_state=42)\n",
    "\n",
    "# Liste de classifieurs à comparer\n",
    "models = {\n",
    "    \"RandomForest\": RandomForestClassifier(n_estimators=100, random_state=42),\n",
    "    \"LogisticRegression\": LogisticRegression(max_iter=1000, solver='liblinear', random_state=42),\n",
    "    \"SVC\": SVC(probability=True, kernel=\"rbf\", random_state=42)\n",
    "}\n",
    "\n",
    "# Dossier pour les images\n",
    "os.makedirs(\"plots\", exist_ok=True)\n",
    "\n",
    "# Lancer les runs\n",
    "for model_name, model in models.items():\n",
    "    with mlflow.start_run(run_name=model_name):\n",
    "        model.fit(X_train, y_train)\n",
    "        y_pred = model.predict(X_test)\n",
    "\n",
    "        acc = accuracy_score(y_test, y_pred)\n",
    "        f1 = f1_score(y_test, y_pred)\n",
    "        cm = confusion_matrix(y_test, y_pred)\n",
    "\n",
    "        # Log des paramètres et métriques\n",
    "        mlflow.log_param(\"model_name\", model_name)\n",
    "        mlflow.log_metric(\"accuracy\", acc)\n",
    "        mlflow.log_metric(\"f1_score\", f1)\n",
    "\n",
    "        # Signature du modèle\n",
    "        signature = infer_signature(X_test, y_pred)\n",
    "        mlflow.sklearn.log_model(model, \"model\", signature=signature, input_example=X_test.iloc[:1])\n",
    "\n",
    "        # Matrice de confusion\n",
    "        plt.figure(figsize=(5, 4))\n",
    "        sns.heatmap(cm, annot=True, fmt='d', cmap=\"Blues\")\n",
    "        plt.title(f\"Confusion Matrix - {model_name}\")\n",
    "        plt.xlabel(\"Predicted\")\n",
    "        plt.ylabel(\"True\")\n",
    "        fig_path = f\"plots/cm_{model_name}.png\"\n",
    "        plt.tight_layout()\n",
    "        plt.savefig(fig_path)\n",
    "        mlflow.log_artifact(fig_path)\n",
    "        plt.close()\n"
   ]
  },
  {
   "cell_type": "markdown",
   "id": "2cdc271f-9074-4598-9e5e-9f3ab0cbc0c1",
   "metadata": {},
   "source": [
    " Ce qui est possible d'explorer dans MLflow UI\n",
    "1. Runs\n",
    "Compare les différents modèles que tu as testés\n",
    "\n",
    "Tri par accuracy, f1_score…\n",
    "\n",
    "2. Parameters\n",
    "Voir les paramètres loggés (model_name, n_estimators, kernel, etc.)\n",
    "\n",
    "3. Metrics\n",
    "Compare plusieurs modèles dans un graphe de performance\n",
    "\n",
    "Ex : accuracy et f1_score dans une vue parallèle\n",
    "\n",
    "4. Artifacts\n",
    "Visualise les images loggées comme les matrices de confusion\n",
    "\n",
    "Les fichiers .png apparaissent dans chaque run\n",
    "\n",
    "5. Models (si activé)\n",
    "Voir l’historique des modèles enregistrés\n",
    "\n",
    "6. Possibilité de les servir via API ou de les télécharger\n"
   ]
  },
  {
   "cell_type": "code",
   "execution_count": null,
   "id": "46c21ab0-d4a8-4956-a3e0-ae5b641dbf26",
   "metadata": {},
   "outputs": [],
   "source": []
  }
 ],
 "metadata": {
  "kernelspec": {
   "display_name": "Python 3 (ipykernel)",
   "language": "python",
   "name": "python3"
  },
  "language_info": {
   "codemirror_mode": {
    "name": "ipython",
    "version": 3
   },
   "file_extension": ".py",
   "mimetype": "text/x-python",
   "name": "python",
   "nbconvert_exporter": "python",
   "pygments_lexer": "ipython3",
   "version": "3.12.7"
  }
 },
 "nbformat": 4,
 "nbformat_minor": 5
}
