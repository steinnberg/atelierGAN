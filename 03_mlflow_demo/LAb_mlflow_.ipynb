{
 "cells": [
  {
   "cell_type": "markdown",
   "id": "acfb83e7-6c12-4535-ae73-fdaf2d674fd8",
   "metadata": {},
   "source": [
    "## Modèle de classification"
   ]
  },
  {
   "cell_type": "code",
   "execution_count": null,
   "id": "1c3fa781-6331-4628-ae51-493f221164d1",
   "metadata": {
    "scrolled": true
   },
   "outputs": [],
   "source": [
    "!pip install mlflow scikit-learn pandas matplotlib seaborn"
   ]
  },
  {
   "cell_type": "markdown",
   "id": "63d5f766-2316-4ac6-a68c-e8d5dd4e0773",
   "metadata": {},
   "source": [
    "🎯 Cas d’usage : Classification de tumeurs (Maligne vs Bénigne)"
   ]
  },
  {
   "cell_type": "markdown",
   "id": "da0720bd-f3ee-482b-a875-6ecd942c59f2",
   "metadata": {},
   "source": [
    "🧠 2. 🧪 **Entraînement + Tracking MLflow dans une cellule**"
   ]
  },
  {
   "cell_type": "code",
   "execution_count": 2,
   "id": "cb624931-e365-44a6-9c6d-a57992469542",
   "metadata": {},
   "outputs": [
    {
     "data": {
      "application/vnd.jupyter.widget-view+json": {
       "model_id": "8b44333eb635405394a5eaa4b86aeaae",
       "version_major": 2,
       "version_minor": 0
      },
      "text/plain": [
       "Downloading artifacts:   0%|          | 0/7 [00:00<?, ?it/s]"
      ]
     },
     "metadata": {},
     "output_type": "display_data"
    },
    {
     "data": {
      "image/png": "[encoded data removed]",
      "text/plain": [
       "<Figure size 600x400 with 2 Axes>"
      ]
     },
     "metadata": {},
     "output_type": "display_data"
    }
   ],
   "source": [
    "import mlflow\n",
    "import mlflow.sklearn\n",
    "from sklearn.datasets import load_breast_cancer\n",
    "from sklearn.model_selection import train_test_split\n",
    "from sklearn.ensemble import RandomForestClassifier\n",
    "from sklearn.metrics import accuracy_score, confusion_matrix\n",
    "import pandas as pd\n",
    "import matplotlib.pyplot as plt\n",
    "import seaborn as sns\n",
    "from mlflow.models.signature import infer_signature\n",
    "\n",
    "# Chargement des données\n",
    "data = load_breast_cancer()\n",
    "X = pd.DataFrame(data.data, columns=data.feature_names)\n",
    "y = pd.Series(data.target)\n",
    "\n",
    "X_train, X_test, y_train, y_test = train_test_split(X, y, test_size=0.2, random_state=42)\n",
    "\n",
    "# Lancement du tracking MLflow\n",
    "with mlflow.start_run():\n",
    "    clf = RandomForestClassifier(n_estimators=100, random_state=42)\n",
    "    clf.fit(X_train, y_train)\n",
    "    y_pred = clf.predict(X_test)\n",
    "\n",
    "    acc = accuracy_score(y_test, y_pred)\n",
    "    cm = confusion_matrix(y_test, y_pred)\n",
    "\n",
    "    mlflow.log_param(\"model_type\", \"RandomForestClassifier\")\n",
    "    mlflow.log_metric(\"accuracy\", acc)\n",
    "\n",
    "    signature = infer_signature(X_test, clf.predict(X_test))\n",
    "    mlflow.sklearn.log_model(clf, \"model\", signature=signature, input_example=X_test.iloc[:1])\n",
    "\n",
    "    # Sauvegarde et log d’une image\n",
    "    plt.figure(figsize=(6, 4))\n",
    "    sns.heatmap(cm, annot=True, fmt=\"d\", cmap=\"Blues\")\n",
    "    plt.title(\"Confusion Matrix\")\n",
    "    plt.xlabel(\"Predicted\")\n",
    "    plt.ylabel(\"Actual\")\n",
    "    plt.tight_layout()\n",
    "    plt.savefig(\"confusion_matrix.png\")\n",
    "    mlflow.log_artifact(\"confusion_matrix.png\")\n"
   ]
  },
  {
   "cell_type": "markdown",
   "id": "d9324182-ee34-48d2-96ee-e4374f1ec7cd",
   "metadata": {},
   "source": [
    "🔍 3. 🖥️ **Démarrer MLflow UI en dehors du Notebook**"
   ]
  },
  {
   "cell_type": "markdown",
   "id": "95b8d2b7-60b6-4e41-8703-5e6398f38790",
   "metadata": {},
   "source": [
    "1. mlflow ui (dans bash ou power shell)\n",
    "2. Accède à http://localhost:5000"
   ]
  },
  {
   "cell_type": "markdown",
   "id": "52d59873-4102-45bc-90d2-3342d573117a",
   "metadata": {},
   "source": [
    "🚀 **Ce qu'il est possible d'explorer via MLflow UI** :\n",
    "\n",
    "- Les paramètres et métriques\n",
    "\n",
    "- Le modèle RandomForest sauvegardé\n",
    "\n",
    "- Le graphique de la matrice de confusion\n",
    "\n"
   ]
  }
 ],
 "metadata": {
  "kernelspec": {
   "display_name": "Python 3 (ipykernel)",
   "language": "python",
   "name": "python3"
  },
  "language_info": {
   "codemirror_mode": {
    "name": "ipython",
    "version": 3
   },
   "file_extension": ".py",
   "mimetype": "text/x-python",
   "name": "python",
   "nbconvert_exporter": "python",
   "pygments_lexer": "ipython3",
   "version": "3.12.7"
  }
 },
 "nbformat": 4,
 "nbformat_minor": 5
}
