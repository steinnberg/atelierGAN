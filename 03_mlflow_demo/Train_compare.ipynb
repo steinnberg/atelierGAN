{
 "cells": [
  {
   "cell_type": "markdown",
   "id": "c4529263-36d3-4656-aeae-ba3506431502",
   "metadata": {},
   "source": [
    "### Comparer deux modèles (LogisticRegression et SVC)\n",
    "1. corriger les warnings\n",
    "2. Logger la matrice de confusion comme artefact"
   ]
  },
  {
   "cell_type": "code",
   "execution_count": 1,
   "id": "b9b8ea68-5565-408d-8075-9cbab780fad8",
   "metadata": {},
   "outputs": [
    {
     "data": {
      "application/vnd.jupyter.widget-view+json": {
       "model_id": "795154c46fc34fe5a02fe6e791220b7f",
       "version_major": 2,
       "version_minor": 0
      },
      "text/plain": [
       "Downloading artifacts:   0%|          | 0/7 [00:00<?, ?it/s]"
      ]
     },
     "metadata": {},
     "output_type": "display_data"
    },
    {
     "data": {
      "application/vnd.jupyter.widget-view+json": {
       "model_id": "dc0e9e56fcc34f1581c96b1dc485690e",
       "version_major": 2,
       "version_minor": 0
      },
      "text/plain": [
       "Downloading artifacts:   0%|          | 0/7 [00:00<?, ?it/s]"
      ]
     },
     "metadata": {},
     "output_type": "display_data"
    },
    {
     "name": "stdout",
     "output_type": "stream",
     "text": [
      "✅ Comparaison terminée ! Lance `mlflow ui` et visite http://localhost:5000 pour explorer tes modèles.\n"
     ]
    }
   ],
   "source": [
    "import mlflow\n",
    "import mlflow.sklearn\n",
    "from sklearn.datasets import load_iris\n",
    "from sklearn.model_selection import train_test_split\n",
    "from sklearn.linear_model import LogisticRegression\n",
    "from sklearn.svm import SVC\n",
    "from sklearn.metrics import accuracy_score, confusion_matrix\n",
    "from mlflow.models.signature import infer_signature\n",
    "import matplotlib.pyplot as plt\n",
    "import seaborn as sns\n",
    "import os\n",
    "\n",
    "# Chargement des données\n",
    "X, y = load_iris(return_X_y=True)\n",
    "X_train, X_test, y_train, y_test = train_test_split(X, y, random_state=42)\n",
    "\n",
    "# Crée un dossier pour stocker les images si besoin\n",
    "os.makedirs(\"plots\", exist_ok=True)\n",
    "\n",
    "# Liste des modèles à comparer\n",
    "models = {\n",
    "    \"logreg_2\": LogisticRegression(max_iter=200, random_state=42),\n",
    "    \"svc_2\": SVC(kernel=\"linear\", probability=True, random_state=42)\n",
    "}\n",
    "\n",
    "# Si un run est encore actif (en Notebook), le fermer\n",
    "if mlflow.active_run():\n",
    "    mlflow.end_run()\n",
    "\n",
    "# Comparaison\n",
    "for name, clf in models.items():\n",
    "    with mlflow.start_run(run_name=name):\n",
    "        clf.fit(X_train, y_train)\n",
    "        y_pred = clf.predict(X_test)\n",
    "        acc = accuracy_score(y_test, y_pred)\n",
    "\n",
    "        # Log des paramètres et métriques\n",
    "        mlflow.log_param(\"model\", name)\n",
    "        mlflow.log_metric(\"accuracy\", acc)\n",
    "\n",
    "        # Signature et exemple pour éviter les warnings\n",
    "        input_example = X_test[:1]\n",
    "        signature = infer_signature(X_test, y_pred)\n",
    "\n",
    "        # Log du modèle avec signature\n",
    "        mlflow.sklearn.log_model(clf, \"model\", signature=signature, input_example=input_example)\n",
    "\n",
    "        # Création + log de la matrice de confusion\n",
    "        cm = confusion_matrix(y_test, y_pred)\n",
    "        plt.figure(figsize=(5, 4))\n",
    "        sns.heatmap(cm, annot=True, fmt='d', cmap=\"Blues\")\n",
    "        plt.title(f\"Confusion Matrix - {name}\")\n",
    "        plt.xlabel(\"Predicted\")\n",
    "        plt.ylabel(\"True\")\n",
    "        fig_path = f\"plots/cm_{name}.png\"\n",
    "        plt.tight_layout()\n",
    "        plt.savefig(fig_path)\n",
    "        mlflow.log_artifact(fig_path)\n",
    "        plt.close()\n",
    "\n",
    "print(\"✅ Comparaison terminée ! Lance `mlflow ui` et visite http://localhost:5000 pour explorer tes modèles.\")\n"
   ]
  },
  {
   "cell_type": "code",
   "execution_count": null,
   "id": "c693a345-61f6-49fc-a664-4238f24de1ef",
   "metadata": {},
   "outputs": [],
   "source": []
  }
 ],
 "metadata": {
  "kernelspec": {
   "display_name": "Python 3 (ipykernel)",
   "language": "python",
   "name": "python3"
  },
  "language_info": {
   "codemirror_mode": {
    "name": "ipython",
    "version": 3
   },
   "file_extension": ".py",
   "mimetype": "text/x-python",
   "name": "python",
   "nbconvert_exporter": "python",
   "pygments_lexer": "ipython3",
   "version": "3.12.7"
  }
 },
 "nbformat": 4,
 "nbformat_minor": 5
}
